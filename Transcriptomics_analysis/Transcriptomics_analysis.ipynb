{
 "cells": [
  {
   "cell_type": "markdown",
   "metadata": {},
   "source": [
    "# Lung adenocarcinoma dataset analysis - Task 1 to 5\n",
    "\n"
   ]
  },
  {
   "cell_type": "markdown",
   "metadata": {},
   "source": [
    "## Analysis developed by:\n",
    "    João Capela PG38274\n",
    "    Rui Nunes PG38281"
   ]
  },
  {
   "cell_type": "markdown",
   "metadata": {},
   "source": [
    "## Task 1 - Description and characterisation of the data"
   ]
  },
  {
   "cell_type": "markdown",
   "metadata": {},
   "source": [
    "The data herein described is relative to patients with adenocarcinoma of the lung. This type of cancer is the leading cause of death worldwide. For the 230 patients with sigificant differences in gene mutation, aberrations in the genes NF1, MET, ERBB2 and RIT1 are present in 13% of the cases. Also, EGFR mutations were more abundant in female patients, whereas mutations in RBM10 were more frequent in males. Moreover, these genes were enriched in samples lacking an activated oncogene, suggesting a driver role for these events in certain tumours [1].\n",
    "\n",
    "The \"data\" dataset contains expression data from the 515 patients involved in the study whereas the \"meta_patients\" dataset is in regard to several nominal and numeric atributes of each patient.\n",
    "\n",
    "\n"
   ]
  },
  {
   "cell_type": "markdown",
   "metadata": {},
   "source": [
    "## Task 2 - Preprocessing of data"
   ]
  },
  {
   "cell_type": "code",
   "execution_count": 1,
   "metadata": {},
   "outputs": [
    {
     "name": "stdout",
     "output_type": "stream",
     "text": [
      "(20531, 518)\n",
      "(517, 106)\n"
     ]
    }
   ],
   "source": [
    "# importing the datasets of expression data and metadata\n",
    "import pandas as pd\n",
    "import numpy as np\n",
    "from sklearn import preprocessing\n",
    "\n",
    "data = pd.read_csv(\"data_RNA_Seq_v2_expression_median.txt\",sep=\"\\t\",index_col=1)\n",
    "meta_patients = pd.read_csv(\"luad_tcga_clinical_data.tsv\",sep=\"\\t\",header=0,index_col=2)\n",
    "\n",
    "# verifying the number of columns and lines of both datasets\n",
    "meta_patients=meta_patients.drop(\"Study ID\",axis=1) # removing the column \"Study ID\" of the metadata\n",
    "print(data.shape)\n",
    "print(meta_patients.shape)"
   ]
  },
  {
   "cell_type": "code",
   "execution_count": 2,
   "metadata": {},
   "outputs": [
    {
     "name": "stdout",
     "output_type": "stream",
     "text": [
      "2\n",
      "25514\n"
     ]
    }
   ],
   "source": [
    "# sum of the nas in both datasets\n",
    "print(data.isnull().sum().sum())\n",
    "print(meta_patients.isnull().sum().sum())\n"
   ]
  },
  {
   "cell_type": "code",
   "execution_count": 3,
   "metadata": {},
   "outputs": [
    {
     "data": {
      "text/plain": [
       "Index([], dtype='object')"
      ]
     },
     "execution_count": 3,
     "metadata": {},
     "output_type": "execute_result"
    }
   ],
   "source": [
    "# verify if there are genes (lines) with no expression data \n",
    "sel_index=data.apply(lambda x: (x==0).all(), axis = 0)\n",
    "sel_index.index[sel_index]"
   ]
  },
  {
   "cell_type": "code",
   "execution_count": 2,
   "metadata": {},
   "outputs": [
    {
     "name": "stdout",
     "output_type": "stream",
     "text": [
      "(20531, 517)\n"
     ]
    },
    {
     "data": {
      "text/html": [
       "<div>\n",
       "<style scoped>\n",
       "    .dataframe tbody tr th:only-of-type {\n",
       "        vertical-align: middle;\n",
       "    }\n",
       "\n",
       "    .dataframe tbody tr th {\n",
       "        vertical-align: top;\n",
       "    }\n",
       "\n",
       "    .dataframe thead th {\n",
       "        text-align: right;\n",
       "    }\n",
       "</style>\n",
       "<table border=\"1\" class=\"dataframe\">\n",
       "  <thead>\n",
       "    <tr style=\"text-align: right;\">\n",
       "      <th></th>\n",
       "      <th>TCGA-05-4244-01</th>\n",
       "      <th>TCGA-05-4249-01</th>\n",
       "      <th>TCGA-05-4250-01</th>\n",
       "      <th>TCGA-05-4382-01</th>\n",
       "      <th>TCGA-05-4384-01</th>\n",
       "      <th>TCGA-05-4389-01</th>\n",
       "      <th>TCGA-05-4390-01</th>\n",
       "      <th>TCGA-05-4395-01</th>\n",
       "      <th>TCGA-05-4396-01</th>\n",
       "      <th>TCGA-05-4397-01</th>\n",
       "      <th>...</th>\n",
       "      <th>TCGA-NJ-A4YG-01</th>\n",
       "      <th>TCGA-NJ-A4YI-01</th>\n",
       "      <th>TCGA-NJ-A4YP-01</th>\n",
       "      <th>TCGA-NJ-A4YQ-01</th>\n",
       "      <th>TCGA-NJ-A55A-01</th>\n",
       "      <th>TCGA-NJ-A55O-01</th>\n",
       "      <th>TCGA-NJ-A55R-01</th>\n",
       "      <th>TCGA-NJ-A7XG-01</th>\n",
       "      <th>TCGA-O1-A52J-01</th>\n",
       "      <th>TCGA-S2-AA1A-01</th>\n",
       "    </tr>\n",
       "  </thead>\n",
       "  <tbody>\n",
       "    <tr>\n",
       "      <th>count</th>\n",
       "      <td>2.053100e+04</td>\n",
       "      <td>2.053100e+04</td>\n",
       "      <td>2.053100e+04</td>\n",
       "      <td>2.053100e+04</td>\n",
       "      <td>2.053100e+04</td>\n",
       "      <td>2.053100e+04</td>\n",
       "      <td>2.053100e+04</td>\n",
       "      <td>2.053100e+04</td>\n",
       "      <td>2.053100e+04</td>\n",
       "      <td>2.053100e+04</td>\n",
       "      <td>...</td>\n",
       "      <td>2.053100e+04</td>\n",
       "      <td>2.053100e+04</td>\n",
       "      <td>2.053100e+04</td>\n",
       "      <td>2.053100e+04</td>\n",
       "      <td>2.053100e+04</td>\n",
       "      <td>2.053100e+04</td>\n",
       "      <td>2.053100e+04</td>\n",
       "      <td>2.053100e+04</td>\n",
       "      <td>2.053100e+04</td>\n",
       "      <td>2.053100e+04</td>\n",
       "    </tr>\n",
       "    <tr>\n",
       "      <th>mean</th>\n",
       "      <td>4.152994e-18</td>\n",
       "      <td>-6.229492e-18</td>\n",
       "      <td>-2.145714e-17</td>\n",
       "      <td>-1.107465e-17</td>\n",
       "      <td>-1.384331e-17</td>\n",
       "      <td>-1.107465e-17</td>\n",
       "      <td>1.245898e-17</td>\n",
       "      <td>-1.384331e-17</td>\n",
       "      <td>-1.522765e-17</td>\n",
       "      <td>4.291428e-17</td>\n",
       "      <td>...</td>\n",
       "      <td>3.183962e-17</td>\n",
       "      <td>-2.768663e-17</td>\n",
       "      <td>-2.353364e-17</td>\n",
       "      <td>1.730414e-17</td>\n",
       "      <td>-2.768663e-18</td>\n",
       "      <td>-1.107465e-17</td>\n",
       "      <td>2.630230e-17</td>\n",
       "      <td>9.690320e-18</td>\n",
       "      <td>1.384331e-17</td>\n",
       "      <td>-6.921657e-18</td>\n",
       "    </tr>\n",
       "    <tr>\n",
       "      <th>std</th>\n",
       "      <td>1.000024e+00</td>\n",
       "      <td>1.000024e+00</td>\n",
       "      <td>1.000024e+00</td>\n",
       "      <td>1.000024e+00</td>\n",
       "      <td>1.000024e+00</td>\n",
       "      <td>1.000024e+00</td>\n",
       "      <td>1.000024e+00</td>\n",
       "      <td>1.000024e+00</td>\n",
       "      <td>1.000024e+00</td>\n",
       "      <td>1.000024e+00</td>\n",
       "      <td>...</td>\n",
       "      <td>1.000024e+00</td>\n",
       "      <td>1.000024e+00</td>\n",
       "      <td>1.000024e+00</td>\n",
       "      <td>1.000024e+00</td>\n",
       "      <td>1.000024e+00</td>\n",
       "      <td>1.000024e+00</td>\n",
       "      <td>1.000024e+00</td>\n",
       "      <td>1.000024e+00</td>\n",
       "      <td>1.000024e+00</td>\n",
       "      <td>1.000024e+00</td>\n",
       "    </tr>\n",
       "    <tr>\n",
       "      <th>min</th>\n",
       "      <td>-2.379758e-01</td>\n",
       "      <td>-2.842081e-01</td>\n",
       "      <td>-2.626203e-01</td>\n",
       "      <td>-2.374016e-01</td>\n",
       "      <td>-2.168511e-01</td>\n",
       "      <td>-2.403818e-01</td>\n",
       "      <td>-2.170053e-01</td>\n",
       "      <td>-2.190499e-01</td>\n",
       "      <td>-1.699081e-01</td>\n",
       "      <td>-3.270922e-01</td>\n",
       "      <td>...</td>\n",
       "      <td>-1.642516e-01</td>\n",
       "      <td>-2.230331e-01</td>\n",
       "      <td>-2.491517e-01</td>\n",
       "      <td>-1.646211e-01</td>\n",
       "      <td>-3.036185e-01</td>\n",
       "      <td>-1.810726e-01</td>\n",
       "      <td>-2.682129e-01</td>\n",
       "      <td>-1.131176e-01</td>\n",
       "      <td>-1.543711e-01</td>\n",
       "      <td>-1.410340e-01</td>\n",
       "    </tr>\n",
       "    <tr>\n",
       "      <th>25%</th>\n",
       "      <td>-2.362731e-01</td>\n",
       "      <td>-2.821306e-01</td>\n",
       "      <td>-2.611826e-01</td>\n",
       "      <td>-2.352066e-01</td>\n",
       "      <td>-2.151068e-01</td>\n",
       "      <td>-2.388122e-01</td>\n",
       "      <td>-2.161395e-01</td>\n",
       "      <td>-2.184867e-01</td>\n",
       "      <td>-1.689584e-01</td>\n",
       "      <td>-3.247188e-01</td>\n",
       "      <td>...</td>\n",
       "      <td>-1.632408e-01</td>\n",
       "      <td>-2.215395e-01</td>\n",
       "      <td>-2.475431e-01</td>\n",
       "      <td>-1.631929e-01</td>\n",
       "      <td>-2.990303e-01</td>\n",
       "      <td>-1.798631e-01</td>\n",
       "      <td>-2.636506e-01</td>\n",
       "      <td>-1.126076e-01</td>\n",
       "      <td>-1.533358e-01</td>\n",
       "      <td>-1.395579e-01</td>\n",
       "    </tr>\n",
       "    <tr>\n",
       "      <th>50%</th>\n",
       "      <td>-1.869794e-01</td>\n",
       "      <td>-2.222808e-01</td>\n",
       "      <td>-2.078085e-01</td>\n",
       "      <td>-1.808513e-01</td>\n",
       "      <td>-1.668470e-01</td>\n",
       "      <td>-1.877570e-01</td>\n",
       "      <td>-1.747213e-01</td>\n",
       "      <td>-1.897625e-01</td>\n",
       "      <td>-1.376212e-01</td>\n",
       "      <td>-2.500801e-01</td>\n",
       "      <td>...</td>\n",
       "      <td>-1.320914e-01</td>\n",
       "      <td>-1.759019e-01</td>\n",
       "      <td>-1.948448e-01</td>\n",
       "      <td>-1.271216e-01</td>\n",
       "      <td>-2.086346e-01</td>\n",
       "      <td>-1.419273e-01</td>\n",
       "      <td>-1.970830e-01</td>\n",
       "      <td>-9.333137e-02</td>\n",
       "      <td>-1.241266e-01</td>\n",
       "      <td>-1.070846e-01</td>\n",
       "    </tr>\n",
       "    <tr>\n",
       "      <th>75%</th>\n",
       "      <td>-3.194700e-02</td>\n",
       "      <td>-2.393561e-02</td>\n",
       "      <td>-3.748754e-02</td>\n",
       "      <td>-2.688335e-02</td>\n",
       "      <td>-1.683461e-02</td>\n",
       "      <td>-2.903397e-02</td>\n",
       "      <td>-3.358210e-02</td>\n",
       "      <td>-6.470214e-02</td>\n",
       "      <td>-2.610938e-02</td>\n",
       "      <td>-3.993109e-03</td>\n",
       "      <td>...</td>\n",
       "      <td>-3.097049e-02</td>\n",
       "      <td>-2.123178e-02</td>\n",
       "      <td>-3.330729e-02</td>\n",
       "      <td>-1.620096e-02</td>\n",
       "      <td>1.097588e-02</td>\n",
       "      <td>-2.443665e-02</td>\n",
       "      <td>-1.227663e-02</td>\n",
       "      <td>-2.203986e-02</td>\n",
       "      <td>-2.549846e-02</td>\n",
       "      <td>-2.101192e-02</td>\n",
       "    </tr>\n",
       "    <tr>\n",
       "      <th>max</th>\n",
       "      <td>6.888929e+01</td>\n",
       "      <td>4.859775e+01</td>\n",
       "      <td>4.731961e+01</td>\n",
       "      <td>5.039623e+01</td>\n",
       "      <td>9.873500e+01</td>\n",
       "      <td>8.431307e+01</td>\n",
       "      <td>6.340503e+01</td>\n",
       "      <td>7.342163e+01</td>\n",
       "      <td>8.200304e+01</td>\n",
       "      <td>3.874696e+01</td>\n",
       "      <td>...</td>\n",
       "      <td>8.471857e+01</td>\n",
       "      <td>9.757246e+01</td>\n",
       "      <td>5.011805e+01</td>\n",
       "      <td>1.165459e+02</td>\n",
       "      <td>5.436600e+01</td>\n",
       "      <td>8.561694e+01</td>\n",
       "      <td>6.685034e+01</td>\n",
       "      <td>1.094149e+02</td>\n",
       "      <td>1.104419e+02</td>\n",
       "      <td>1.093210e+02</td>\n",
       "    </tr>\n",
       "  </tbody>\n",
       "</table>\n",
       "<p>8 rows × 517 columns</p>\n",
       "</div>"
      ],
      "text/plain": [
       "       TCGA-05-4244-01  TCGA-05-4249-01  TCGA-05-4250-01  TCGA-05-4382-01  \\\n",
       "count     2.053100e+04     2.053100e+04     2.053100e+04     2.053100e+04   \n",
       "mean      4.152994e-18    -6.229492e-18    -2.145714e-17    -1.107465e-17   \n",
       "std       1.000024e+00     1.000024e+00     1.000024e+00     1.000024e+00   \n",
       "min      -2.379758e-01    -2.842081e-01    -2.626203e-01    -2.374016e-01   \n",
       "25%      -2.362731e-01    -2.821306e-01    -2.611826e-01    -2.352066e-01   \n",
       "50%      -1.869794e-01    -2.222808e-01    -2.078085e-01    -1.808513e-01   \n",
       "75%      -3.194700e-02    -2.393561e-02    -3.748754e-02    -2.688335e-02   \n",
       "max       6.888929e+01     4.859775e+01     4.731961e+01     5.039623e+01   \n",
       "\n",
       "       TCGA-05-4384-01  TCGA-05-4389-01  TCGA-05-4390-01  TCGA-05-4395-01  \\\n",
       "count     2.053100e+04     2.053100e+04     2.053100e+04     2.053100e+04   \n",
       "mean     -1.384331e-17    -1.107465e-17     1.245898e-17    -1.384331e-17   \n",
       "std       1.000024e+00     1.000024e+00     1.000024e+00     1.000024e+00   \n",
       "min      -2.168511e-01    -2.403818e-01    -2.170053e-01    -2.190499e-01   \n",
       "25%      -2.151068e-01    -2.388122e-01    -2.161395e-01    -2.184867e-01   \n",
       "50%      -1.668470e-01    -1.877570e-01    -1.747213e-01    -1.897625e-01   \n",
       "75%      -1.683461e-02    -2.903397e-02    -3.358210e-02    -6.470214e-02   \n",
       "max       9.873500e+01     8.431307e+01     6.340503e+01     7.342163e+01   \n",
       "\n",
       "       TCGA-05-4396-01  TCGA-05-4397-01  ...  TCGA-NJ-A4YG-01  \\\n",
       "count     2.053100e+04     2.053100e+04  ...     2.053100e+04   \n",
       "mean     -1.522765e-17     4.291428e-17  ...     3.183962e-17   \n",
       "std       1.000024e+00     1.000024e+00  ...     1.000024e+00   \n",
       "min      -1.699081e-01    -3.270922e-01  ...    -1.642516e-01   \n",
       "25%      -1.689584e-01    -3.247188e-01  ...    -1.632408e-01   \n",
       "50%      -1.376212e-01    -2.500801e-01  ...    -1.320914e-01   \n",
       "75%      -2.610938e-02    -3.993109e-03  ...    -3.097049e-02   \n",
       "max       8.200304e+01     3.874696e+01  ...     8.471857e+01   \n",
       "\n",
       "       TCGA-NJ-A4YI-01  TCGA-NJ-A4YP-01  TCGA-NJ-A4YQ-01  TCGA-NJ-A55A-01  \\\n",
       "count     2.053100e+04     2.053100e+04     2.053100e+04     2.053100e+04   \n",
       "mean     -2.768663e-17    -2.353364e-17     1.730414e-17    -2.768663e-18   \n",
       "std       1.000024e+00     1.000024e+00     1.000024e+00     1.000024e+00   \n",
       "min      -2.230331e-01    -2.491517e-01    -1.646211e-01    -3.036185e-01   \n",
       "25%      -2.215395e-01    -2.475431e-01    -1.631929e-01    -2.990303e-01   \n",
       "50%      -1.759019e-01    -1.948448e-01    -1.271216e-01    -2.086346e-01   \n",
       "75%      -2.123178e-02    -3.330729e-02    -1.620096e-02     1.097588e-02   \n",
       "max       9.757246e+01     5.011805e+01     1.165459e+02     5.436600e+01   \n",
       "\n",
       "       TCGA-NJ-A55O-01  TCGA-NJ-A55R-01  TCGA-NJ-A7XG-01  TCGA-O1-A52J-01  \\\n",
       "count     2.053100e+04     2.053100e+04     2.053100e+04     2.053100e+04   \n",
       "mean     -1.107465e-17     2.630230e-17     9.690320e-18     1.384331e-17   \n",
       "std       1.000024e+00     1.000024e+00     1.000024e+00     1.000024e+00   \n",
       "min      -1.810726e-01    -2.682129e-01    -1.131176e-01    -1.543711e-01   \n",
       "25%      -1.798631e-01    -2.636506e-01    -1.126076e-01    -1.533358e-01   \n",
       "50%      -1.419273e-01    -1.970830e-01    -9.333137e-02    -1.241266e-01   \n",
       "75%      -2.443665e-02    -1.227663e-02    -2.203986e-02    -2.549846e-02   \n",
       "max       8.561694e+01     6.685034e+01     1.094149e+02     1.104419e+02   \n",
       "\n",
       "       TCGA-S2-AA1A-01  \n",
       "count     2.053100e+04  \n",
       "mean     -6.921657e-18  \n",
       "std       1.000024e+00  \n",
       "min      -1.410340e-01  \n",
       "25%      -1.395579e-01  \n",
       "50%      -1.070846e-01  \n",
       "75%      -2.101192e-02  \n",
       "max       1.093210e+02  \n",
       "\n",
       "[8 rows x 517 columns]"
      ]
     },
     "execution_count": 2,
     "metadata": {},
     "output_type": "execute_result"
    }
   ],
   "source": [
    "# switch the entrez gene id into the Hugo symbol \n",
    "id_converter = {}\n",
    "\n",
    "for key in data.index:\n",
    "    id_converter[data.loc[key, \"Hugo_Symbol\"]]=key\n",
    "\n",
    "\n",
    "# scaling of the expression data    \n",
    "data_scaled = preprocessing.scale(data.iloc[:,1:])\n",
    "\n",
    "data_scaled = pd.DataFrame(data_scaled, index =data.index , columns = data.columns[1:])\n",
    "print(data_scaled.shape)\n",
    "data_scaled.describe()\n",
    "\n"
   ]
  },
  {
   "cell_type": "code",
   "execution_count": 5,
   "metadata": {},
   "outputs": [
    {
     "data": {
      "text/plain": [
       "Patient ID                                                                                      object\n",
       "Diagnosis Age                                                                                  float64\n",
       "Neoplasm Disease Stage American Joint Committee on Cancer Code                                 float64\n",
       "Neoplasm American Joint Committee on Cancer Clinical Distant Metastasis M Stage                float64\n",
       "American Joint Committee on Cancer Metastasis Stage Code                                        object\n",
       "American Joint Committee on Cancer Lymph Node Stage Code                                       float64\n",
       "American Joint Committee on Cancer Lymph Node Stage Code.1                                     float64\n",
       "Neoplasm Disease Lymph Node Stage American Joint Committee on Cancer Code                       object\n",
       "Neoplasm Disease Stage American Joint Committee on Cancer Code.1                                object\n",
       "American Joint Committee on Cancer Publication Version Type                                     object\n",
       "American Joint Committee on Cancer Tumor Stage Code                                             object\n",
       "ALK Analysis Type                                                                               object\n",
       "ALK Translocation Status                                                                        object\n",
       "ALK Translocation Variant                                                                      float64\n",
       "Cancer Type                                                                                     object\n",
       "Cancer Type Detailed                                                                            object\n",
       "Carbon monoxide diffusion dlco                                                                 float64\n",
       "Days to Sample Collection.                                                                     float64\n",
       "Last Alive Less Initial Pathologic Diagnosis Date Calculated Day Value                         float64\n",
       "days_to_patient_progression_free                                                               float64\n",
       "Days to Sample Procurement                                                                     float64\n",
       "days_to_tumor_progression                                                                      float64\n",
       "Disease Free (Months)                                                                          float64\n",
       "Disease Free Status                                                                             object\n",
       "Disease code                                                                                    object\n",
       "Performance Status                                                                             float64\n",
       "Ethnicity Category                                                                              object\n",
       "Lymphomatous Extranodal Site Involvement Indicator                                             float64\n",
       "Fev1 fvc ratio postbroncholiator                                                               float64\n",
       "Fev1 fvc ratio prebroncholiator                                                                float64\n",
       "Fev1 percent ref postbroncholiator                                                             float64\n",
       "Fev1 percent ref prebroncholiator                                                              float64\n",
       "Form completion date                                                                            object\n",
       "Fraction Genome Altered                                                                        float64\n",
       "Neoplasm Histologic Type Name                                                                   object\n",
       "Prior immunologic disease type                                                                 float64\n",
       "Prior immunologic disease other                                                                float64\n",
       "Neoadjuvant Therapy Type Administered Prior To Resection Text                                   object\n",
       "Prior Cancer Diagnosis Occurence                                                                object\n",
       "Prior infectious disease                                                                       float64\n",
       "HIV Status                                                                                     float64\n",
       "ICD-10 Classification                                                                           object\n",
       "International Classification of Diseases for Oncology, Third Edition ICD-O-3 Histology Code     object\n",
       "International Classification of Diseases for Oncology, Third Edition ICD-O-3 Site Code          object\n",
       "Informed consent verified                                                                       object\n",
       "Year Cancer Initial Diagnosis                                                                  float64\n",
       "Is FFPE                                                                                         object\n",
       "Karnofsky Performance Score                                                                    float64\n",
       "Kras gene analysis indicator                                                                    object\n",
       "KRAS Mutation                                                                                   object\n",
       "Kras mutation identified type                                                                   object\n",
       "Primary Tumor Laterality                                                                       float64\n",
       "Location lung parenchyma                                                                        object\n",
       "Longest Dimension                                                                              float64\n",
       "First Pathologic Diagnosis Biospecimen Acquisition Method Type                                 float64\n",
       "First Pathologic Diagnosis Biospecimen Acquisition Other Method Type                           float64\n",
       "First Pathologic Diagnosis Biospecimen Acquisition Method Type.1                               float64\n",
       "Mutation Count                                                                                 float64\n",
       "Mutation Status                                                                                 object\n",
       "Mutation Type                                                                                   object\n",
       "New Neoplasm Event Post Initial Therapy Indicator                                               object\n",
       "Number of lymphnodes positive by ihc                                                           float64\n",
       "Oct embedded                                                                                    object\n",
       "Oncotree Code                                                                                   object\n",
       "Overall Survival (Months)                                                                      float64\n",
       "Overall Survival Status                                                                         object\n",
       "Specimen Collection Method                                                                     float64\n",
       "Other Patient ID                                                                                object\n",
       "Other Sample ID                                                                                 object\n",
       "Pathology Report File Name                                                                      object\n",
       "Pathology report uuid                                                                           object\n",
       "Performance Status Assessment Timepoint Category                                                object\n",
       "Adjuvant Postoperative Pharmaceutical Therapy Administered Indicator                           float64\n",
       "Lymph node location positive pathology name                                                    float64\n",
       "Primary Other Site of Disease Name                                                              object\n",
       "Patient Primary Tumor Site                                                                      object\n",
       "Project code                                                                                    object\n",
       "Tissue Prospective Collection Indicator                                                         object\n",
       "Pulmonary function test indicator                                                               object\n",
       "Race Category                                                                                   object\n",
       "Did patient start adjuvant postoperative radiotherapy?                                          object\n",
       "Surgical Margin Resection Status                                                                object\n",
       "Tissue Retrospective Collection Indicator                                                       object\n",
       "Number of Samples Per Patient                                                                    int64\n",
       "Sample Initial Weight                                                                          float64\n",
       "Sample Type                                                                                     object\n",
       "Sample type id                                                                                   int64\n",
       "Sex                                                                                             object\n",
       "Shortest Dimension                                                                             float64\n",
       "Person Cigarette Smoking History Pack Year Value                                               float64\n",
       "Started Smoking Year                                                                           float64\n",
       "Stopped Smoking Year                                                                           float64\n",
       "Specimen Current Weight                                                                        float64\n",
       "Specimen Freezing Means                                                                        float64\n",
       "Specimen Second Longest Dimension                                                              float64\n",
       "Stage Other                                                                                    float64\n",
       "Adjuvant Postoperative Targeted Therapy Administered Indicator                                  object\n",
       "Time between clamping and freezing                                                             float64\n",
       "Time between excision and freezing                                                             float64\n",
       "Tissue Source Site                                                                              object\n",
       "Patient Smoking History Category                                                               float64\n",
       "Primary Therapy Outcome Success Type                                                            object\n",
       "Tumor Site                                                                                      object\n",
       "Person Neoplasm Status                                                                          object\n",
       "Vial number                                                                                     object\n",
       "Patient's Vital Status                                                                          object\n",
       "dtype: object"
      ]
     },
     "execution_count": 5,
     "metadata": {},
     "output_type": "execute_result"
    }
   ],
   "source": [
    "# types of data for each column in the metadata\n",
    "pd.set_option('display.max_columns', 150)\n",
    "pd.set_option('display.max_rows', 150)\n",
    "meta_patients.dtypes\n"
   ]
  },
  {
   "cell_type": "code",
   "execution_count": 6,
   "metadata": {},
   "outputs": [
    {
     "name": "stdout",
     "output_type": "stream",
     "text": [
      "Sex\n",
      "Female    277\n",
      "Male      240\n",
      "dtype: int64\n"
     ]
    },
    {
     "data": {
      "image/png": "[encoded data removed]",
      "text/plain": [
       "<Figure size 432x288 with 1 Axes>"
      ]
     },
     "metadata": {},
     "output_type": "display_data"
    }
   ],
   "source": [
    "# pie chart of data from patients genre\n",
    "import matplotlib.pyplot as plt\n",
    "meta_patients.loc[:,\"Sex\"]=meta_patients.loc[:,\"Sex\"].map({'MALE':'Male','Male':'Male','Female':'Female'})\n",
    "values_sex=meta_patients.groupby(\"Sex\").size()\n",
    "print(values_sex)\n",
    "fracs = [277, 240]\n",
    "total = sum(fracs)\n",
    "plt.pie(values_sex, labels = values_sex.index,\n",
    "        autopct= lambda p: '{:.0f}'.format(p * total / 100),\n",
    "        shadow=True, startangle=90, explode = (0, 0.1))\n",
    "plt.axis('equal')\n",
    "plt.show()"
   ]
  },
  {
   "cell_type": "code",
   "execution_count": 7,
   "metadata": {},
   "outputs": [
    {
     "name": "stdout",
     "output_type": "stream",
     "text": [
      "American Joint Committee on Cancer Metastasis Stage Code\n",
      "M0     347\n",
      "M1      18\n",
      "M1a      2\n",
      "M1b      5\n",
      "MX     141\n",
      "nan      4\n",
      "dtype: int64\n"
     ]
    },
    {
     "data": {
      "image/png": "[encoded data removed]",
      "text/plain": [
       "<Figure size 432x288 with 1 Axes>"
      ]
     },
     "metadata": {},
     "output_type": "display_data"
    }
   ],
   "source": [
    "# pie chart encompassing the different stage codes for cancer metastasis\n",
    "\n",
    "values_metastasis=meta_patients.astype(str).groupby(\"American Joint Committee on Cancer Metastasis Stage Code\").size()\n",
    "print(values_metastasis)\n",
    "patches, text= plt.pie(values_metastasis,\n",
    "        shadow=True, startangle=90, explode = (0.1,0.1,0.1,0.1,0.1,0.1))\n",
    "labels= [\"M0 (347)\",\"M1 (18)\",\"M1a (2)\",\"M1b (5)\", \"MX (141)\", \"NA (4)\"]\n",
    "plt.legend(patches, labels, loc=\"best\")\n",
    "plt.axis('equal')\n",
    "plt.title('American Joint Committee on Cancer Metastasis Stage Code')\n",
    "plt.tight_layout()\n",
    "plt.show()"
   ]
  },
  {
   "cell_type": "code",
   "execution_count": 8,
   "metadata": {
    "scrolled": true
   },
   "outputs": [
    {
     "name": "stdout",
     "output_type": "stream",
     "text": [
      "American Joint Committee on Cancer Publication Version Type\n",
      "3rd      3\n",
      "4th      5\n",
      "5th     30\n",
      "6th    188\n",
      "7th    268\n",
      "nan     23\n",
      "dtype: int64\n"
     ]
    },
    {
     "data": {
      "image/png": "[encoded data removed]",
      "text/plain": [
       "<Figure size 432x288 with 1 Axes>"
      ]
     },
     "metadata": {},
     "output_type": "display_data"
    }
   ],
   "source": [
    "# pie chart from patient's cancer publication version type\n",
    "\n",
    "print(meta_patients.astype(str).groupby(\"American Joint Committee on Cancer Publication Version Type\").size())\n",
    "values_ajcc_staging=meta_patients.astype(str).groupby(\"American Joint Committee on Cancer Publication Version Type\").size()\n",
    "fracs = [3,5,30,188,268,23]\n",
    "total = sum(fracs)\n",
    "patches, text= plt.pie(values_ajcc_staging, shadow=True, startangle=90, explode=(0.1,0.1,0.1,0.1,0.1,0.1,))\n",
    "labels= [\"3rd (3)\",\"4th (5)\",\"5th (30)\",\"6th (188)\", \"7th (268)\", \"NA (23)\"]\n",
    "plt.legend(patches, labels, loc=\"best\")\n",
    "plt.axis('equal')\n",
    "plt.title('American Joint Committee on Cancer Publication Version Type')\n",
    "plt.tight_layout()\n",
    "plt.show()"
   ]
  },
  {
   "cell_type": "code",
   "execution_count": 9,
   "metadata": {},
   "outputs": [
    {
     "name": "stdout",
     "output_type": "stream",
     "text": [
      "Patient Smoking History Category\n",
      "1.0     76\n",
      "2.0    119\n",
      "3.0    135\n",
      "4.0    169\n",
      "5.0      4\n",
      "nan     14\n",
      "dtype: int64\n"
     ]
    },
    {
     "data": {
      "image/png": "[encoded data removed]",
      "text/plain": [
       "<Figure size 432x288 with 1 Axes>"
      ]
     },
     "metadata": {},
     "output_type": "display_data"
    }
   ],
   "source": [
    "# pie chart for patient smoking history category \n",
    "\n",
    "values_smoking_hist=meta_patients.astype(str).groupby(\"Patient Smoking History Category\").size()\n",
    "print(values_smoking_hist)\n",
    "patches, text = plt.pie(values_smoking_hist, shadow=True, startangle=90, explode=(0.1,0.1,0.1,0.1,0.1,0.1,))\n",
    "labels=[\"1 (76)\",\"2 (119)\",\"3 (135)\",\"4 (169)\",\"5 (4)\",\"NA (14)\"]\n",
    "plt.legend(patches, labels, loc=\"best\")\n",
    "plt.axis('equal')\n",
    "plt.show()"
   ]
  },
  {
   "cell_type": "code",
   "execution_count": 10,
   "metadata": {},
   "outputs": [
    {
     "data": {
      "image/png": "[encoded data removed]",
      "text/plain": [
       "<Figure size 432x288 with 1 Axes>"
      ]
     },
     "metadata": {
      "needs_background": "light"
     },
     "output_type": "display_data"
    }
   ],
   "source": [
    "# box plot for the differently expressed genes, reported in the article, of the 5th Patient Smoking History Category \n",
    "\n",
    "genes_entrez_id = []\n",
    "genes = [\"MET\",\"ERBB2\",\"RIT1\",\"MGA\",\"MYC\",\"CDKN2A\"]\n",
    "for gene in genes: #entrez gene id for the genes in the list\n",
    "    genes_entrez_id.append(id_converter[gene]) \n",
    "\n",
    "patient= meta_patients[meta_patients.loc[:,\"Patient Smoking History Category\"]==5].index   # patients with Patient Smoking History Category == 5  \n",
    "data_scaled.loc[genes_entrez_id,patient]\n",
    "plt.boxplot(data_scaled.loc[genes_entrez_id,patient])\n",
    "plt.xticks(range(1,7),genes, rotation=45 )\n",
    "plt.show()"
   ]
  },
  {
   "cell_type": "code",
   "execution_count": 11,
   "metadata": {},
   "outputs": [
    {
     "data": {
      "image/png": "[encoded data removed]",
      "text/plain": [
       "<Figure size 432x288 with 1 Axes>"
      ]
     },
     "metadata": {
      "needs_background": "light"
     },
     "output_type": "display_data"
    },
    {
     "data": {
      "image/png": "[encoded data removed]",
      "text/plain": [
       "<Figure size 432x288 with 1 Axes>"
      ]
     },
     "metadata": {
      "needs_background": "light"
     },
     "output_type": "display_data"
    }
   ],
   "source": [
    "#boxplot for the differently expressed genes, reported in the article, for the patients with Diagnosis age greater than 85\n",
    "\n",
    "patient= meta_patients[meta_patients.loc[:,\"Diagnosis Age\"]>85].index    \n",
    "plt.boxplot(data_scaled.loc[genes_entrez_id,patient])\n",
    "plt.xticks(range(1,7),genes, rotation=45 )\n",
    "plt.title(\"Diagnosis age greater than 85\")\n",
    "plt.show()\n",
    "\n",
    "#boxplot for the differently expressed genes, reported in the article, for the patients with Diagnosis age equal or less than 85\n",
    "patient= meta_patients[meta_patients.loc[:,\"Diagnosis Age\"]<=40].index\n",
    "plt.boxplot(data_scaled.loc[genes_entrez_id,patient])\n",
    "plt.xticks(range(1,7),genes, rotation=45 )\n",
    "plt.title(\"Diagnosis age equal or less than 85\")\n",
    "plt.show()"
   ]
  },
  {
   "cell_type": "code",
   "execution_count": 12,
   "metadata": {
    "scrolled": false
   },
   "outputs": [
    {
     "data": {
      "image/png": "[encoded data removed]",
      "text/plain": [
       "<Figure size 432x288 with 1 Axes>"
      ]
     },
     "metadata": {
      "needs_background": "light"
     },
     "output_type": "display_data"
    }
   ],
   "source": [
    "# barplot of the diagnosis age of the patients\n",
    "\n",
    "\n",
    "df = meta_patients.groupby('Diagnosis Age').size()\n",
    "bins = pd.cut(meta_patients.loc[:,'Diagnosis Age'], np.arange(35,91,5)) #division of the diagnosis age into groups of 5\n",
    "df=meta_patients.groupby(bins)['Diagnosis Age'].agg(['count']) # sum of the frequency of each group \n",
    "\n",
    "nas = meta_patients.loc[:,'Diagnosis Age'].isnull().sum()\n",
    "indexes = [str(c) for c in df.index] \n",
    "values = [v[0] for v in df.values]\n",
    "\n",
    "\n",
    "plt.bar(indexes ,values ,color='b')\n",
    "plt.xticks(indexes, rotation='45')\n",
    "plt.show()"
   ]
  },
  {
   "cell_type": "code",
   "execution_count": 13,
   "metadata": {},
   "outputs": [
    {
     "name": "stdout",
     "output_type": "stream",
     "text": [
      "                         count\n",
      "Fraction Genome Altered       \n",
      "(0.0, 0.2]                 212\n",
      "(0.2, 0.4]                 165\n",
      "(0.4, 0.6]                  97\n",
      "(0.6, 0.8]                  31\n",
      "(0.8, 1.0]                   1\n"
     ]
    },
    {
     "data": {
      "image/png": "[encoded data removed]",
      "text/plain": [
       "<Figure size 432x288 with 1 Axes>"
      ]
     },
     "metadata": {
      "needs_background": "light"
     },
     "output_type": "display_data"
    }
   ],
   "source": [
    "fraction_genome_altered=meta_patients.loc[:,\"Fraction Genome Altered\"]\n",
    "df = meta_patients.groupby('Fraction Genome Altered').size()\n",
    "bins = pd.cut(meta_patients.loc[:,'Fraction Genome Altered'], np.arange(0,1.1,0.2)) #division of the diagnosis age into groups of 5\\n\",\n",
    "df=meta_patients.groupby(bins)['Fraction Genome Altered'].agg(['count']) # sum of the frequency of each group \\n\",\n",
    "print(df)\n",
    "nas = meta_patients.loc[:,'Fraction Genome Altered'].isnull().sum()\n",
    "indexes = [str(c) for c in df.index] \n",
    "values = [v[0] for v in df.values]\n",
    "plt.bar(indexes ,values ,color='b')\n",
    "plt.xticks(indexes, rotation='45')\n",
    "plt.show()"
   ]
  },
  {
   "cell_type": "code",
   "execution_count": 14,
   "metadata": {},
   "outputs": [
    {
     "data": {
      "text/plain": [
       "0"
      ]
     },
     "execution_count": 14,
     "metadata": {},
     "output_type": "execute_result"
    }
   ],
   "source": [
    "#sum of the null values of the scaled expression data\n",
    "data_scaled.isnull().sum().sum()"
   ]
  },
  {
   "cell_type": "code",
   "execution_count": 15,
   "metadata": {},
   "outputs": [
    {
     "name": "stdout",
     "output_type": "stream",
     "text": [
      "[]\n"
     ]
    }
   ],
   "source": [
    "#the followig code verifies whether there is repeated patients identifiers or not\n",
    "patients_list = data_scaled.columns.tolist()\n",
    "res = []\n",
    "seen = []\n",
    "for patient in patients_list:\n",
    "    if patient in seen:\n",
    "        res.append(patient)\n",
    "    else:\n",
    "        seen.append(patient)\n",
    "print(res)\n",
    "\n",
    "\n"
   ]
  },
  {
   "cell_type": "code",
   "execution_count": 16,
   "metadata": {},
   "outputs": [
    {
     "name": "stdout",
     "output_type": "stream",
     "text": [
      "(517, 106)\n"
     ]
    }
   ],
   "source": [
    "#number of columns and lines of the metadata dataset\n",
    "print(meta_patients.shape)"
   ]
  },
  {
   "cell_type": "code",
   "execution_count": 3,
   "metadata": {},
   "outputs": [
    {
     "name": "stdout",
     "output_type": "stream",
     "text": [
      "80\n",
      "(517, 80)\n",
      "(20531, 517)\n"
     ]
    }
   ],
   "source": [
    "#the following code verifies whether there are columns filled with only null values \n",
    "sel_index=meta_patients.apply(lambda x: (x.isnull()).all(), axis = 0)\n",
    "labels_with_data = sel_index[sel_index==False].index.tolist()\n",
    "print(len(labels_with_data))\n",
    "\n",
    "#subset of the metadata without the columns with no values\n",
    "meta_patients = meta_patients.loc[:,labels_with_data]\n",
    "print(meta_patients.shape)\n",
    "print(data_scaled.shape)\n"
   ]
  },
  {
   "cell_type": "code",
   "execution_count": 18,
   "metadata": {},
   "outputs": [
    {
     "name": "stdout",
     "output_type": "stream",
     "text": [
      "59 labels with more than one NA\n",
      "12072 NAs\n"
     ]
    }
   ],
   "source": [
    "quantity_na = meta_patients.apply(lambda x: (x.isnull()).sum(), axis = 0)\n",
    "print(str(quantity_na[quantity_na!=0].index.size) + \" labels with more than one NA\") #columns with at least one na\n",
    "print(str(quantity_na[quantity_na!=0].sum()) + \" NAs\") #total count of nas in the dataset\n"
   ]
  },
  {
   "cell_type": "markdown",
   "metadata": {},
   "source": [
    "## Task 3 - Statistical analysis"
   ]
  },
  {
   "cell_type": "code",
   "execution_count": 3,
   "metadata": {},
   "outputs": [],
   "source": [
    "# transposition of the scaled dataset of expression data\n",
    "data_scaled = data_scaled.transpose()"
   ]
  },
  {
   "cell_type": "code",
   "execution_count": 20,
   "metadata": {
    "scrolled": true
   },
   "outputs": [
    {
     "name": "stdout",
     "output_type": "stream",
     "text": [
      "0\n"
     ]
    },
    {
     "data": {
      "image/png": "[encoded data removed]",
      "text/plain": [
       "<Figure size 432x288 with 1 Axes>"
      ]
     },
     "execution_count": 20,
     "metadata": {},
     "output_type": "execute_result"
    },
    {
     "data": {
      "image/png": "[encoded data removed]",
      "text/plain": [
       "<Figure size 432x288 with 1 Axes>"
      ]
     },
     "metadata": {
      "needs_background": "light"
     },
     "output_type": "display_data"
    }
   ],
   "source": [
    "# the following code verifies the normality of the data\n",
    "\n",
    "from scipy import stats\n",
    "import statsmodels.api as sm\n",
    "\n",
    "p_values=[]\n",
    "for sample in data_scaled.index.tolist():\n",
    "    w, p_value = stats.shapiro(np.random.choice(data_scaled.loc[sample],500))\n",
    "    p_values.append(p_value)\n",
    "\n",
    "counter = 0\n",
    "for p_value in p_values:\n",
    "    if p_value>=0.05:\n",
    "        counter+=1\n",
    "\n",
    "print(counter)\n",
    "\n",
    "#qqplot of the data showing the if the data follow a normal distribution\n",
    "test = data_scaled.iloc[0]\n",
    "sm.qqplot(test,line='45')\n",
    "\n"
   ]
  },
  {
   "cell_type": "markdown",
   "metadata": {},
   "source": [
    "Since no shapiro-test had a p-value greater than 0.05, the null hypothesis cannot be rejected. Thus, it can be concluded that there is no statistically signicative data proving that is normally distributed. This can be further confirmed by the plot, which shows that the data does not follow a normal distribution.\n"
   ]
  },
  {
   "cell_type": "markdown",
   "metadata": {},
   "source": [
    "### Differential expression analysis regarding \"Patient's Vital Status\""
   ]
  },
  {
   "cell_type": "code",
   "execution_count": 21,
   "metadata": {
    "scrolled": false
   },
   "outputs": [
    {
     "data": {
      "text/plain": [
       "12926"
      ]
     },
     "execution_count": 21,
     "metadata": {},
     "output_type": "execute_result"
    }
   ],
   "source": [
    "# statistical analysis to verify statistical differences between the different status of the patient's vital status column\n",
    "\n",
    "patients = data_scaled.index.tolist()\n",
    "mydata = data_scaled.copy()\n",
    "mydata.insert(len(mydata.columns),\"Patient's Vital Status\",meta_patients.loc[:,\"Patient's Vital Status\"]) #insert a column in the expression dataset with the two values of the Patient's Vital Status \n",
    "interest_vital_status = []\n",
    "for ids in mydata.columns.tolist()[:-1]:\n",
    "    l_data = {grp: mydata[ids][mydata.loc[:,\"Patient's Vital Status\"] == grp] for grp in ['Dead', 'Alive']} # aggregate the expression data depending on the two values of the Patient's Vital Status\n",
    "    f, p = stats.kruskal(l_data['Dead'],l_data['Alive'])\n",
    "    if p<0.05:\n",
    "        interest_vital_status.append(ids)\n",
    "\n",
    "len(interest_vital_status)"
   ]
  },
  {
   "cell_type": "markdown",
   "metadata": {},
   "source": [
    "Since we had no statistical evidence of the normal distribution of the data, a non parametric test was performed in order to test if there were significant statistical differences between the Patient's Vital Status dead or alive. 12926 genes had a p-value lower than 0.05. Thus, for these genes, the null hypothesis that states that the two groups have the same mean can be rejected hence it can be concluded that there are statistically significant differences between the two groups."
   ]
  },
  {
   "cell_type": "markdown",
   "metadata": {},
   "source": [
    "### Differential expression analysis regarding \"Patient Smoking History Category\""
   ]
  },
  {
   "cell_type": "code",
   "execution_count": 22,
   "metadata": {
    "scrolled": true
   },
   "outputs": [
    {
     "data": {
      "text/plain": [
       "4985"
      ]
     },
     "execution_count": 22,
     "metadata": {},
     "output_type": "execute_result"
    }
   ],
   "source": [
    "# statistical analysis to verify statistical differences between the different values of the Patient Smoking History Category\n",
    "\n",
    "patients = data_scaled.index.tolist()\n",
    "mydata = data_scaled.copy()\n",
    "mydata.insert(len(mydata.columns),\"Patient Smoking History Category\",meta_patients.loc[:,\"Patient Smoking History Category\"]) ##insert a column in the expression dataset with the five values of the Patient Smoking History Category\n",
    "interest_smoking = []\n",
    "for ids in mydata.columns.tolist()[:-1]:\n",
    "    l_data = {grp: mydata[ids][mydata.loc[:,\"Patient Smoking History Category\"] == grp] for grp in [1,2,3,4,5]} ## aggregate the expression data depending on the five values of the Patient Smoking History Category\n",
    "    f, p = stats.kruskal(l_data[1],l_data[2],l_data[4],l_data[3],l_data[5])\n",
    "    if p<0.05:\n",
    "        interest_smoking.append(ids)\n",
    "len(interest_smoking)"
   ]
  },
  {
   "cell_type": "markdown",
   "metadata": {},
   "source": [
    "In order to test if there were significantly statistical differences between the Patient Smoking History Category 1,2,3,4,5 another Kruskal wallis test was performed. 4985 genes had a p-value lower than 0.05. Thus, for these genes, the null hypothesis that states that the different groups have the same mean can be rejected hence it can be concluded that there are statistically significant differences between the different groups."
   ]
  },
  {
   "cell_type": "code",
   "execution_count": 23,
   "metadata": {
    "scrolled": true
   },
   "outputs": [
    {
     "name": "stdout",
     "output_type": "stream",
     "text": [
      "MYC\n",
      "\n",
      "Multiple Comparison of Means - Tukey HSD, FWER=0.05\n",
      "===================================================\n",
      "group1 group2 meandiff p-adj   lower  upper  reject\n",
      "---------------------------------------------------\n",
      "   1.0    2.0    0.149 0.0272  0.0108 0.2872   True\n",
      "   1.0    3.0   0.0519  0.808 -0.0831 0.1868  False\n",
      "   1.0    4.0   0.1172 0.0993 -0.0128 0.2472  False\n",
      "   1.0    5.0   0.2804 0.5036 -0.2024 0.7631  False\n",
      "   2.0    3.0  -0.0971 0.1644 -0.2155 0.0212  False\n",
      "   2.0    4.0  -0.0318    0.9 -0.1444 0.0808  False\n",
      "   2.0    5.0   0.1314    0.9  -0.347 0.6098  False\n",
      "   3.0    4.0   0.0653 0.4692 -0.0433  0.174  False\n",
      "   3.0    5.0   0.2285  0.662  -0.249  0.706  False\n",
      "   4.0    5.0   0.1631 0.8727 -0.3129 0.6392  False\n",
      "---------------------------------------------------\n"
     ]
    }
   ],
   "source": [
    "# statistical analysis to test differences between each group of the Patient Smoking History Category\n",
    "\n",
    "import statsmodels.stats.multicomp as multi\n",
    "\n",
    "mydata = data_scaled.copy()\n",
    "mydata.insert(len(mydata.columns),\"Patient Smoking History Category\",meta_patients.loc[:,\"Patient Smoking History Category\"])\n",
    "mydata = mydata.dropna()\n",
    "\n",
    "\n",
    "for i in range(len(genes)):\n",
    "    if genes_entrez_id[i] in interest_smoking:\n",
    "        print(genes[i])\n",
    "        print()\n",
    "        x = pd.Series(mydata.loc[:,genes_entrez_id[i]].values, dtype=float) # expression data for the 6 differentially expressed genes reported in the article\n",
    "        y = mydata[\"Patient Smoking History Category\"]\n",
    "        mcDate = multi.MultiComparison(x,y)\n",
    "        Results = mcDate.tukeyhsd()\n",
    "        print(Results)\n"
   ]
  },
  {
   "cell_type": "markdown",
   "metadata": {},
   "source": [
    "The results obtained in the tukey test showed there was a p-value lower than 0.05 only between the Patient Smoking History Category 1 and 2. Thus, it can be concluded that for these two categories the null hypothesis can be rejected, hence, existing statistically significant differences."
   ]
  },
  {
   "cell_type": "markdown",
   "metadata": {},
   "source": [
    "## Task 4 - PCA"
   ]
  },
  {
   "cell_type": "code",
   "execution_count": 24,
   "metadata": {
    "scrolled": false
   },
   "outputs": [
    {
     "name": "stdout",
     "output_type": "stream",
     "text": [
      "[0.1953991  0.12312076 0.07834776 0.0630992  0.04769104 0.03317883\n",
      " 0.02893597 0.02607918 0.02292542 0.01995502]\n"
     ]
    },
    {
     "data": {
      "image/png": "[encoded data removed]",
      "text/plain": [
       "<Figure size 432x288 with 1 Axes>"
      ]
     },
     "metadata": {
      "needs_background": "light"
     },
     "output_type": "display_data"
    }
   ],
   "source": [
    "#principal component analysis\n",
    "\n",
    "from sklearn.decomposition import PCA\n",
    "n=10 #number of components\n",
    "pca_data = PCA(n_components=n) \n",
    "pca_data.fit(data_scaled) #adjustment of the data to the pca model\n",
    "x_reduced = pca_data.transform(data_scaled) #reduction of dimensionality of the dataset\n",
    "\n",
    "\n",
    "#barplot representing the variance explained by PCs \n",
    "print(pca_data.explained_variance_ratio_) \n",
    "plt.bar(range(n), pca_data.explained_variance_ratio_*100)\n",
    "plt.xticks(range(n), ['PC'+str(i) for i in range(1,n+1)])\n",
    "plt.title(\"Variance explained by PCs\")\n",
    "plt.ylabel(\"Percentage\")\n",
    "plt.show()"
   ]
  },
  {
   "cell_type": "markdown",
   "metadata": {},
   "source": [
    "The results obtain in the pca analysis shows that the first principal component explain almost 20% of data variability with the other components explaining a lower percentage."
   ]
  },
  {
   "cell_type": "code",
   "execution_count": 25,
   "metadata": {},
   "outputs": [
    {
     "name": "stdout",
     "output_type": "stream",
     "text": [
      "5\n",
      "0.5076578728930559\n"
     ]
    }
   ],
   "source": [
    "#necessary components to explain 90% of the data\n",
    "\n",
    "lst_variance=pca_data.explained_variance_ratio_\n",
    "accum=0\n",
    "i=0\n",
    "while accum<=0.50 and i<len(lst_variance):\n",
    "    accum+=lst_variance[i]\n",
    "    i+=1\n",
    "print(i)\n",
    "print(accum)"
   ]
  },
  {
   "cell_type": "markdown",
   "metadata": {},
   "source": [
    "The dimensionality reduction showed that 50 % of the data variability is explained by 5 principal components."
   ]
  },
  {
   "cell_type": "markdown",
   "metadata": {},
   "source": [
    "### 'Patient's Vital Status'"
   ]
  },
  {
   "cell_type": "code",
   "execution_count": 26,
   "metadata": {
    "scrolled": true
   },
   "outputs": [
    {
     "data": {
      "image/png": "[encoded data removed]",
      "text/plain": [
       "<Figure size 432x288 with 1 Axes>"
      ]
     },
     "metadata": {
      "needs_background": "light"
     },
     "output_type": "display_data"
    }
   ],
   "source": [
    "# plot representing the distribuition of the first two principal components for the different values of Patient's Vital Status \n",
    "\n",
    "mydata = data_scaled.reset_index(drop=True)\n",
    "for status in meta_patients.loc[:,'Patient\\'s Vital Status'].unique():\n",
    "    sp = mydata.index[meta_patients.loc[:,'Patient\\'s Vital Status']==status]\n",
    "    plt.plot(x_reduced[sp,0],x_reduced[sp,1], 'o' , label=status)\n",
    "plt.title(\"PCA\")\n",
    "plt.legend(loc='best', shadow=False)\n",
    "plt.show()"
   ]
  },
  {
   "cell_type": "markdown",
   "metadata": {},
   "source": [
    "The graph above shows that there is no evidence of data separation between the \"Dead\" and the \"Alive\" group."
   ]
  },
  {
   "cell_type": "markdown",
   "metadata": {},
   "source": [
    "## 'Patient Smoking History Category'"
   ]
  },
  {
   "cell_type": "code",
   "execution_count": 27,
   "metadata": {
    "scrolled": true
   },
   "outputs": [
    {
     "data": {
      "image/png": "[encoded data removed]",
      "text/plain": [
       "<Figure size 432x288 with 1 Axes>"
      ]
     },
     "metadata": {
      "needs_background": "light"
     },
     "output_type": "display_data"
    }
   ],
   "source": [
    "# plot representing the distribuition of the first two principal components for the different values of Patient Smoking History Category\n",
    "\n",
    "\n",
    "mydata = data_scaled.reset_index(drop=True)\n",
    "for status in meta_patients.loc[:,'Patient Smoking History Category'].unique():\n",
    "    sp = mydata.index[meta_patients.loc[:,'Patient Smoking History Category']==status]\n",
    "    plt.plot(x_reduced[sp,0],x_reduced[sp,1], 'o' , label=status)\n",
    "plt.title(\"PCA\")\n",
    "plt.legend(loc='best', shadow=False)\n",
    "plt.show()"
   ]
  },
  {
   "cell_type": "markdown",
   "metadata": {},
   "source": [
    "The graph above shows that there is no evidence of data separation between the different categories of the patient smoking history."
   ]
  },
  {
   "cell_type": "markdown",
   "metadata": {},
   "source": [
    "## Task 5 - Clustering"
   ]
  },
  {
   "cell_type": "code",
   "execution_count": 28,
   "metadata": {},
   "outputs": [],
   "source": [
    "# creating an index for the patient's metadata from 0 to 516 and further removing any NA in the \"Patient's Vital Status\" column\n",
    "meta_patients.loc[:,\"Patient's Vital Status\"].index\n",
    "\n",
    "ind=np.linspace(0,516,517,dtype=int)\n",
    "mydata_meta=meta_patients.set_index(ind)\n",
    "mydata_meta=mydata_meta[\"Patient's Vital Status\"].dropna()\n"
   ]
  },
  {
   "cell_type": "code",
   "execution_count": 29,
   "metadata": {},
   "outputs": [
    {
     "name": "stdout",
     "output_type": "stream",
     "text": [
      "[[7.20000000e+01 2.99000000e+02 8.27172739e+02 2.00000000e+00]\n",
      " [1.54000000e+02 4.17000000e+02 9.15197839e+02 2.00000000e+00]\n",
      " [3.90000000e+01 4.77000000e+02 9.31399310e+02 2.00000000e+00]\n",
      " ...\n",
      " [4.18000000e+02 1.02900000e+03 3.61391987e+03 5.15000000e+02]\n",
      " [9.00000000e+00 1.03000000e+03 3.70393870e+03 5.16000000e+02]\n",
      " [3.44000000e+02 1.03100000e+03 4.01641895e+03 5.17000000e+02]]\n"
     ]
    },
    {
     "data": {
      "image/png": "[encoded data removed]",
      "text/plain": [
       "<Figure size 1800x720 with 1 Axes>"
      ]
     },
     "metadata": {
      "needs_background": "light"
     },
     "output_type": "display_data"
    }
   ],
   "source": [
    "# hierarchical clustering of the data from the Patient's Vital Status with the Manhattan distance and resulting tree \n",
    "from scipy.cluster.hierarchy import dendrogram, linkage\n",
    "Z = linkage(data_scaled.iloc[mydata_meta.index,:], metric=\"cityblock\")\n",
    "print(Z)\n",
    "plt.figure(figsize=(25, 10))\n",
    "dendrogram(\n",
    "    Z,\n",
    "    labels=list(mydata_meta),\n",
    "    leaf_rotation=90.,  # rotates the x axis labels\n",
    "    leaf_font_size=8.,  # font size for the x axis labels\n",
    ")\n",
    "\n",
    "plt.title(\"Hierarchical Clustering Dendrogram for Patient\\'s Vital Status\")\n",
    "plt.ylabel('distance')\n",
    "\n",
    "label_colors = {'Dead': 'r', 'Alive': 'g'}\n",
    "ax = plt.gca()\n",
    "xlbls = ax.get_xmajorticklabels()\n",
    "for lbl in xlbls:\n",
    "    lbl.set_color(label_colors[lbl.get_text()])\n",
    "\n",
    "plt.show()"
   ]
  },
  {
   "cell_type": "markdown",
   "metadata": {},
   "source": [
    "The hierarchical clustering results show that there is no evident separation between clusters, neither between the groups \"Dead\" and \"Alive\"."
   ]
  },
  {
   "cell_type": "code",
   "execution_count": 30,
   "metadata": {},
   "outputs": [
    {
     "data": {
      "text/html": [
       "<div>\n",
       "<style scoped>\n",
       "    .dataframe tbody tr th:only-of-type {\n",
       "        vertical-align: middle;\n",
       "    }\n",
       "\n",
       "    .dataframe tbody tr th {\n",
       "        vertical-align: top;\n",
       "    }\n",
       "\n",
       "    .dataframe thead th {\n",
       "        text-align: right;\n",
       "    }\n",
       "</style>\n",
       "<table border=\"1\" class=\"dataframe\">\n",
       "  <thead>\n",
       "    <tr style=\"text-align: right;\">\n",
       "      <th>Patient's Vital Status</th>\n",
       "      <th>Alive</th>\n",
       "      <th>Dead</th>\n",
       "    </tr>\n",
       "    <tr>\n",
       "      <th>clusters</th>\n",
       "      <th></th>\n",
       "      <th></th>\n",
       "    </tr>\n",
       "  </thead>\n",
       "  <tbody>\n",
       "    <tr>\n",
       "      <th>0</th>\n",
       "      <td>143</td>\n",
       "      <td>53</td>\n",
       "    </tr>\n",
       "    <tr>\n",
       "      <th>1</th>\n",
       "      <td>187</td>\n",
       "      <td>134</td>\n",
       "    </tr>\n",
       "  </tbody>\n",
       "</table>\n",
       "</div>"
      ],
      "text/plain": [
       "Patient's Vital Status  Alive  Dead\n",
       "clusters                           \n",
       "0                         143    53\n",
       "1                         187   134"
      ]
     },
     "execution_count": 30,
     "metadata": {},
     "output_type": "execute_result"
    }
   ],
   "source": [
    "# K-means clustering with k=2\n",
    "\n",
    "from sklearn.cluster import KMeans\n",
    "\n",
    "k=2\n",
    "kmeans_data = KMeans(n_clusters=k, max_iter=1000)\n",
    "kmeans_data.fit(data_scaled) #adjustment of the data to the clustering model\n",
    "labels =  kmeans_data.labels_\n",
    "centroids = kmeans_data.cluster_centers_\n",
    "\n",
    "pd.crosstab(labels,meta_patients.loc[:,\"Patient's Vital Status\"], rownames=['clusters'] )\n"
   ]
  },
  {
   "cell_type": "code",
   "execution_count": 31,
   "metadata": {},
   "outputs": [
    {
     "data": {
      "image/png": "[encoded data removed]",
      "text/plain": [
       "<Figure size 432x288 with 1 Axes>"
      ]
     },
     "metadata": {
      "needs_background": "light"
     },
     "output_type": "display_data"
    }
   ],
   "source": [
    "for i in range(k):\n",
    "    ds = data_scaled.values[np.where(labels==i)]\n",
    "    plt.plot(ds[:,0],ds[:,1],'o')\n",
    "    lines = plt.plot(centroids[i,0],centroids[i,1],'kx')\n",
    "    plt.setp(lines,ms=10.0)   \n",
    "    plt.setp(lines,mew=2.0)   \n",
    "plt.show()"
   ]
  },
  {
   "cell_type": "markdown",
   "metadata": {},
   "source": [
    "The graph and the table represented above show that there is no evident separation between clusters, neither between the groups \"Dead\" and \"Alive\"."
   ]
  },
  {
   "cell_type": "code",
   "execution_count": 32,
   "metadata": {},
   "outputs": [
    {
     "data": {
      "text/plain": [
       "0      4.0\n",
       "1      3.0\n",
       "2      4.0\n",
       "3      4.0\n",
       "4      3.0\n",
       "      ... \n",
       "512    4.0\n",
       "513    3.0\n",
       "514    3.0\n",
       "515    3.0\n",
       "516    3.0\n",
       "Name: Patient Smoking History Category, Length: 503, dtype: float64"
      ]
     },
     "execution_count": 32,
     "metadata": {},
     "output_type": "execute_result"
    }
   ],
   "source": [
    "# creating an index for the patient's metadata from 0 to 516 and further removing any na in the \"Patient Smoking History Category\" column\n",
    "\n",
    "ind=np.linspace(0,516,517,dtype=int)\n",
    "mydata_meta=meta_patients.set_index(ind)\n",
    "mydata_meta=mydata_meta[\"Patient Smoking History Category\"].dropna()\n",
    "mydata_meta\n"
   ]
  },
  {
   "cell_type": "code",
   "execution_count": 33,
   "metadata": {},
   "outputs": [
    {
     "name": "stdout",
     "output_type": "stream",
     "text": [
      "[[7.20000000e+01 2.85000000e+02 8.27172739e+02 2.00000000e+00]\n",
      " [1.42000000e+02 4.03000000e+02 9.15197839e+02 2.00000000e+00]\n",
      " [3.90000000e+01 4.63000000e+02 9.31399310e+02 2.00000000e+00]\n",
      " ...\n",
      " [4.04000000e+02 1.00100000e+03 3.61391987e+03 5.01000000e+02]\n",
      " [9.00000000e+00 1.00200000e+03 3.70393870e+03 5.02000000e+02]\n",
      " [3.30000000e+02 1.00300000e+03 4.01641895e+03 5.03000000e+02]]\n"
     ]
    },
    {
     "data": {
      "image/png": "[encoded data removed]",
      "text/plain": [
       "<Figure size 1800x720 with 1 Axes>"
      ]
     },
     "metadata": {},
     "output_type": "display_data"
    }
   ],
   "source": [
    "# hierarchical cluter of the data from the Patient Smoking History Category with the Manhattan distance and resulting tree \n",
    "\n",
    "from scipy.cluster.hierarchy import dendrogram, linkage\n",
    "Z = linkage(data_scaled.iloc[mydata_meta.index,:], metric=\"cityblock\")\n",
    "print(Z)\n",
    "plt.figure(figsize=(25, 10))\n",
    "dendrogram(\n",
    "    Z,\n",
    "    labels=list(mydata_meta),\n",
    "    leaf_rotation=90.,  # rotates the x axis labels\n",
    "    leaf_font_size=8.,  # font size for the x axis labels\n",
    ")\n",
    "\n",
    "plt.title(\"Hierarchical Clustering Dendrogram for Patient Smoking History Category\")\n",
    "plt.ylabel('distance')\n",
    "\n",
    "label_colors = {1.0: 'r', 2.0: 'g', 3.0:'b', 4.0:'c', 5.0: 'k'}\n",
    "ax = plt.gca()\n",
    "xlbls = ax.get_xmajorticklabels()\n",
    "for lbl in xlbls:\n",
    "    lbl.set_color(label_colors[float(lbl.get_text())])\n",
    "\n",
    "plt.show()"
   ]
  },
  {
   "cell_type": "markdown",
   "metadata": {},
   "source": [
    "The hierarchical clustering results show that there is no evident separation between clusters, neither between the groups."
   ]
  },
  {
   "cell_type": "code",
   "execution_count": 34,
   "metadata": {
    "scrolled": true
   },
   "outputs": [
    {
     "data": {
      "text/html": [
       "<div>\n",
       "<style scoped>\n",
       "    .dataframe tbody tr th:only-of-type {\n",
       "        vertical-align: middle;\n",
       "    }\n",
       "\n",
       "    .dataframe tbody tr th {\n",
       "        vertical-align: top;\n",
       "    }\n",
       "\n",
       "    .dataframe thead th {\n",
       "        text-align: right;\n",
       "    }\n",
       "</style>\n",
       "<table border=\"1\" class=\"dataframe\">\n",
       "  <thead>\n",
       "    <tr style=\"text-align: right;\">\n",
       "      <th>Patient Smoking History Category</th>\n",
       "      <th>1.0</th>\n",
       "      <th>2.0</th>\n",
       "      <th>3.0</th>\n",
       "      <th>4.0</th>\n",
       "      <th>5.0</th>\n",
       "    </tr>\n",
       "    <tr>\n",
       "      <th>clusters</th>\n",
       "      <th></th>\n",
       "      <th></th>\n",
       "      <th></th>\n",
       "      <th></th>\n",
       "      <th></th>\n",
       "    </tr>\n",
       "  </thead>\n",
       "  <tbody>\n",
       "    <tr>\n",
       "      <th>0</th>\n",
       "      <td>11</td>\n",
       "      <td>27</td>\n",
       "      <td>17</td>\n",
       "      <td>39</td>\n",
       "      <td>0</td>\n",
       "    </tr>\n",
       "    <tr>\n",
       "      <th>1</th>\n",
       "      <td>16</td>\n",
       "      <td>15</td>\n",
       "      <td>31</td>\n",
       "      <td>21</td>\n",
       "      <td>0</td>\n",
       "    </tr>\n",
       "    <tr>\n",
       "      <th>2</th>\n",
       "      <td>19</td>\n",
       "      <td>45</td>\n",
       "      <td>35</td>\n",
       "      <td>57</td>\n",
       "      <td>1</td>\n",
       "    </tr>\n",
       "    <tr>\n",
       "      <th>3</th>\n",
       "      <td>13</td>\n",
       "      <td>14</td>\n",
       "      <td>38</td>\n",
       "      <td>30</td>\n",
       "      <td>1</td>\n",
       "    </tr>\n",
       "    <tr>\n",
       "      <th>4</th>\n",
       "      <td>17</td>\n",
       "      <td>18</td>\n",
       "      <td>14</td>\n",
       "      <td>22</td>\n",
       "      <td>2</td>\n",
       "    </tr>\n",
       "  </tbody>\n",
       "</table>\n",
       "</div>"
      ],
      "text/plain": [
       "Patient Smoking History Category  1.0  2.0  3.0  4.0  5.0\n",
       "clusters                                                 \n",
       "0                                  11   27   17   39    0\n",
       "1                                  16   15   31   21    0\n",
       "2                                  19   45   35   57    1\n",
       "3                                  13   14   38   30    1\n",
       "4                                  17   18   14   22    2"
      ]
     },
     "execution_count": 34,
     "metadata": {},
     "output_type": "execute_result"
    }
   ],
   "source": [
    "#k-means clustering with k=5\n",
    "k=5\n",
    "kmeans_data = KMeans(n_clusters=k, max_iter=1000)\n",
    "kmeans_data.fit(data_scaled) #adjustment of the data to the clustering model\n",
    "labels =  kmeans_data.labels_\n",
    "centroids = kmeans_data.cluster_centers_\n",
    "\n",
    "pd.crosstab(labels,meta_patients.loc[:,\"Patient Smoking History Category\"], rownames=['clusters'] )"
   ]
  },
  {
   "cell_type": "code",
   "execution_count": 35,
   "metadata": {},
   "outputs": [
    {
     "data": {
      "image/png": "[encoded data removed]",
      "text/plain": [
       "<Figure size 432x288 with 1 Axes>"
      ]
     },
     "metadata": {
      "needs_background": "light"
     },
     "output_type": "display_data"
    }
   ],
   "source": [
    "for i in range(k):\n",
    "    ds = data_scaled.values[np.where(labels==i)]\n",
    "    plt.plot(ds[:,0],ds[:,1],'o')\n",
    "    lines = plt.plot(centroids[i,0],centroids[i,1],'kx')\n",
    "    plt.setp(lines,ms=10.0)   \n",
    "    plt.setp(lines,mew=2.0)\n",
    "plt.show()\n",
    "   \n"
   ]
  },
  {
   "cell_type": "markdown",
   "metadata": {},
   "source": [
    "The graph and the table represented above show that there is no evident separation between clusters, neither between the groups."
   ]
  },
  {
   "cell_type": "markdown",
   "metadata": {},
   "source": [
    "# Machine learning "
   ]
  },
  {
   "cell_type": "markdown",
   "metadata": {},
   "source": [
    "## Linear endpoint"
   ]
  },
  {
   "cell_type": "markdown",
   "metadata": {},
   "source": [
    "For the linear endpoint it was thought to be important the prediction of the fraction genome altered. This variable presents a linear spectrum of floats ranging from 0.0 and 0.8013. With machine learnig, one can predict the degree of dna mutated, providing additional information related to patients with lung adenocarcinoma. "
   ]
  },
  {
   "cell_type": "code",
   "execution_count": 4,
   "metadata": {},
   "outputs": [
    {
     "data": {
      "text/html": [
       "<div>\n",
       "<style scoped>\n",
       "    .dataframe tbody tr th:only-of-type {\n",
       "        vertical-align: middle;\n",
       "    }\n",
       "\n",
       "    .dataframe tbody tr th {\n",
       "        vertical-align: top;\n",
       "    }\n",
       "\n",
       "    .dataframe thead th {\n",
       "        text-align: right;\n",
       "    }\n",
       "</style>\n",
       "<table border=\"1\" class=\"dataframe\">\n",
       "  <thead>\n",
       "    <tr style=\"text-align: right;\">\n",
       "      <th>Entrez_Gene_Id</th>\n",
       "      <th>100130426</th>\n",
       "      <th>100133144</th>\n",
       "      <th>100134869</th>\n",
       "      <th>10357</th>\n",
       "      <th>10431</th>\n",
       "      <th>136542</th>\n",
       "      <th>155060</th>\n",
       "      <th>26823</th>\n",
       "      <th>280660</th>\n",
       "      <th>317712</th>\n",
       "      <th>...</th>\n",
       "      <th>American Joint Committee on Cancer Metastasis Stage Code</th>\n",
       "      <th>Neoplasm Disease Lymph Node Stage American Joint Committee on Cancer Code</th>\n",
       "      <th>American Joint Committee on Cancer Tumor Stage Code</th>\n",
       "      <th>Prior Cancer Diagnosis Occurence</th>\n",
       "      <th>ICD-10 Classification</th>\n",
       "      <th>Overall Survival (Months)</th>\n",
       "      <th>Patient Primary Tumor Site</th>\n",
       "      <th>Tissue Source Site</th>\n",
       "      <th>Neoplasm Disease Stage American Joint Committee on Cancer Code.1</th>\n",
       "      <th>Patient Smoking History Category</th>\n",
       "    </tr>\n",
       "    <tr>\n",
       "      <th>Sample ID</th>\n",
       "      <th></th>\n",
       "      <th></th>\n",
       "      <th></th>\n",
       "      <th></th>\n",
       "      <th></th>\n",
       "      <th></th>\n",
       "      <th></th>\n",
       "      <th></th>\n",
       "      <th></th>\n",
       "      <th></th>\n",
       "      <th></th>\n",
       "      <th></th>\n",
       "      <th></th>\n",
       "      <th></th>\n",
       "      <th></th>\n",
       "      <th></th>\n",
       "      <th></th>\n",
       "      <th></th>\n",
       "      <th></th>\n",
       "      <th></th>\n",
       "      <th></th>\n",
       "    </tr>\n",
       "  </thead>\n",
       "  <tbody>\n",
       "    <tr>\n",
       "      <th>TCGA-05-4244-01</th>\n",
       "      <td>-0.237976</td>\n",
       "      <td>-0.235534</td>\n",
       "      <td>-0.235224</td>\n",
       "      <td>-0.225879</td>\n",
       "      <td>-0.030925</td>\n",
       "      <td>-0.237976</td>\n",
       "      <td>-0.153776</td>\n",
       "      <td>-0.237720</td>\n",
       "      <td>-0.237976</td>\n",
       "      <td>-0.237976</td>\n",
       "      <td>...</td>\n",
       "      <td>1</td>\n",
       "      <td>1</td>\n",
       "      <td>1</td>\n",
       "      <td>1</td>\n",
       "      <td>1</td>\n",
       "      <td>0.00</td>\n",
       "      <td>1</td>\n",
       "      <td>1</td>\n",
       "      <td>1</td>\n",
       "      <td>4.0</td>\n",
       "    </tr>\n",
       "    <tr>\n",
       "      <th>TCGA-05-4249-01</th>\n",
       "      <td>-0.284208</td>\n",
       "      <td>-0.281997</td>\n",
       "      <td>-0.280385</td>\n",
       "      <td>-0.256397</td>\n",
       "      <td>-0.000292</td>\n",
       "      <td>-0.284208</td>\n",
       "      <td>-0.239593</td>\n",
       "      <td>-0.283713</td>\n",
       "      <td>-0.284208</td>\n",
       "      <td>-0.284208</td>\n",
       "      <td>...</td>\n",
       "      <td>2</td>\n",
       "      <td>2</td>\n",
       "      <td>1</td>\n",
       "      <td>1</td>\n",
       "      <td>1</td>\n",
       "      <td>50.03</td>\n",
       "      <td>1</td>\n",
       "      <td>1</td>\n",
       "      <td>2</td>\n",
       "      <td>3.0</td>\n",
       "    </tr>\n",
       "    <tr>\n",
       "      <th>TCGA-05-4250-01</th>\n",
       "      <td>-0.262620</td>\n",
       "      <td>-0.260657</td>\n",
       "      <td>-0.260989</td>\n",
       "      <td>-0.249197</td>\n",
       "      <td>0.046482</td>\n",
       "      <td>-0.262620</td>\n",
       "      <td>-0.248603</td>\n",
       "      <td>-0.262620</td>\n",
       "      <td>-0.262620</td>\n",
       "      <td>-0.262620</td>\n",
       "      <td>...</td>\n",
       "      <td>2</td>\n",
       "      <td>3</td>\n",
       "      <td>2</td>\n",
       "      <td>1</td>\n",
       "      <td>1</td>\n",
       "      <td>3.98</td>\n",
       "      <td>1</td>\n",
       "      <td>1</td>\n",
       "      <td>3</td>\n",
       "      <td>4.0</td>\n",
       "    </tr>\n",
       "    <tr>\n",
       "      <th>TCGA-05-4382-01</th>\n",
       "      <td>-0.237402</td>\n",
       "      <td>-0.234666</td>\n",
       "      <td>-0.235573</td>\n",
       "      <td>-0.217408</td>\n",
       "      <td>-0.042566</td>\n",
       "      <td>-0.237402</td>\n",
       "      <td>-0.179465</td>\n",
       "      <td>-0.237286</td>\n",
       "      <td>-0.237344</td>\n",
       "      <td>-0.237402</td>\n",
       "      <td>...</td>\n",
       "      <td>2</td>\n",
       "      <td>2</td>\n",
       "      <td>1</td>\n",
       "      <td>2</td>\n",
       "      <td>2</td>\n",
       "      <td>19.94</td>\n",
       "      <td>2</td>\n",
       "      <td>1</td>\n",
       "      <td>2</td>\n",
       "      <td>4.0</td>\n",
       "    </tr>\n",
       "    <tr>\n",
       "      <th>TCGA-05-4384-01</th>\n",
       "      <td>-0.216851</td>\n",
       "      <td>-0.216084</td>\n",
       "      <td>-0.216020</td>\n",
       "      <td>-0.199591</td>\n",
       "      <td>-0.083119</td>\n",
       "      <td>-0.216851</td>\n",
       "      <td>-0.151584</td>\n",
       "      <td>-0.216706</td>\n",
       "      <td>-0.216851</td>\n",
       "      <td>-0.216851</td>\n",
       "      <td>...</td>\n",
       "      <td>2</td>\n",
       "      <td>1</td>\n",
       "      <td>1</td>\n",
       "      <td>2</td>\n",
       "      <td>1</td>\n",
       "      <td>13.99</td>\n",
       "      <td>1</td>\n",
       "      <td>1</td>\n",
       "      <td>3</td>\n",
       "      <td>3.0</td>\n",
       "    </tr>\n",
       "    <tr>\n",
       "      <th>...</th>\n",
       "      <td>...</td>\n",
       "      <td>...</td>\n",
       "      <td>...</td>\n",
       "      <td>...</td>\n",
       "      <td>...</td>\n",
       "      <td>...</td>\n",
       "      <td>...</td>\n",
       "      <td>...</td>\n",
       "      <td>...</td>\n",
       "      <td>...</td>\n",
       "      <td>...</td>\n",
       "      <td>...</td>\n",
       "      <td>...</td>\n",
       "      <td>...</td>\n",
       "      <td>...</td>\n",
       "      <td>...</td>\n",
       "      <td>...</td>\n",
       "      <td>...</td>\n",
       "      <td>...</td>\n",
       "      <td>...</td>\n",
       "      <td>...</td>\n",
       "    </tr>\n",
       "    <tr>\n",
       "      <th>TCGA-NJ-A55O-01</th>\n",
       "      <td>-0.181073</td>\n",
       "      <td>-0.178148</td>\n",
       "      <td>-0.176740</td>\n",
       "      <td>-0.162191</td>\n",
       "      <td>-0.016355</td>\n",
       "      <td>-0.181073</td>\n",
       "      <td>-0.132801</td>\n",
       "      <td>-0.180853</td>\n",
       "      <td>-0.181073</td>\n",
       "      <td>-0.181073</td>\n",
       "      <td>...</td>\n",
       "      <td>2</td>\n",
       "      <td>3</td>\n",
       "      <td>6</td>\n",
       "      <td>1</td>\n",
       "      <td>2</td>\n",
       "      <td>0.43</td>\n",
       "      <td>3</td>\n",
       "      <td>29</td>\n",
       "      <td>7</td>\n",
       "      <td>4.0</td>\n",
       "    </tr>\n",
       "    <tr>\n",
       "      <th>TCGA-NJ-A55R-01</th>\n",
       "      <td>-0.268213</td>\n",
       "      <td>-0.265791</td>\n",
       "      <td>-0.265243</td>\n",
       "      <td>-0.246717</td>\n",
       "      <td>-0.047634</td>\n",
       "      <td>-0.268213</td>\n",
       "      <td>-0.161691</td>\n",
       "      <td>-0.268006</td>\n",
       "      <td>-0.268213</td>\n",
       "      <td>-0.268213</td>\n",
       "      <td>...</td>\n",
       "      <td>3</td>\n",
       "      <td>2</td>\n",
       "      <td>6</td>\n",
       "      <td>1</td>\n",
       "      <td>2</td>\n",
       "      <td>19.81</td>\n",
       "      <td>2</td>\n",
       "      <td>29</td>\n",
       "      <td>4</td>\n",
       "      <td>3.0</td>\n",
       "    </tr>\n",
       "    <tr>\n",
       "      <th>TCGA-NJ-A7XG-01</th>\n",
       "      <td>-0.113118</td>\n",
       "      <td>-0.108331</td>\n",
       "      <td>-0.104085</td>\n",
       "      <td>-0.103611</td>\n",
       "      <td>-0.037644</td>\n",
       "      <td>-0.113118</td>\n",
       "      <td>-0.075840</td>\n",
       "      <td>-0.113118</td>\n",
       "      <td>-0.113118</td>\n",
       "      <td>-0.113118</td>\n",
       "      <td>...</td>\n",
       "      <td>2</td>\n",
       "      <td>3</td>\n",
       "      <td>4</td>\n",
       "      <td>1</td>\n",
       "      <td>2</td>\n",
       "      <td>20.27</td>\n",
       "      <td>2</td>\n",
       "      <td>29</td>\n",
       "      <td>3</td>\n",
       "      <td>3.0</td>\n",
       "    </tr>\n",
       "    <tr>\n",
       "      <th>TCGA-O1-A52J-01</th>\n",
       "      <td>-0.154371</td>\n",
       "      <td>-0.152194</td>\n",
       "      <td>-0.150632</td>\n",
       "      <td>-0.144922</td>\n",
       "      <td>0.021401</td>\n",
       "      <td>-0.154371</td>\n",
       "      <td>-0.127972</td>\n",
       "      <td>-0.153927</td>\n",
       "      <td>-0.154371</td>\n",
       "      <td>-0.154371</td>\n",
       "      <td>...</td>\n",
       "      <td>3</td>\n",
       "      <td>2</td>\n",
       "      <td>3</td>\n",
       "      <td>1</td>\n",
       "      <td>1</td>\n",
       "      <td>59.07</td>\n",
       "      <td>5</td>\n",
       "      <td>30</td>\n",
       "      <td>4</td>\n",
       "      <td>3.0</td>\n",
       "    </tr>\n",
       "    <tr>\n",
       "      <th>TCGA-S2-AA1A-01</th>\n",
       "      <td>-0.141034</td>\n",
       "      <td>-0.138143</td>\n",
       "      <td>-0.139774</td>\n",
       "      <td>-0.130202</td>\n",
       "      <td>-0.061419</td>\n",
       "      <td>-0.141034</td>\n",
       "      <td>-0.087896</td>\n",
       "      <td>-0.140942</td>\n",
       "      <td>-0.141034</td>\n",
       "      <td>-0.141034</td>\n",
       "      <td>...</td>\n",
       "      <td>2</td>\n",
       "      <td>2</td>\n",
       "      <td>6</td>\n",
       "      <td>1</td>\n",
       "      <td>2</td>\n",
       "      <td>16.85</td>\n",
       "      <td>3</td>\n",
       "      <td>31</td>\n",
       "      <td>4</td>\n",
       "      <td>3.0</td>\n",
       "    </tr>\n",
       "  </tbody>\n",
       "</table>\n",
       "<p>462 rows × 20543 columns</p>\n",
       "</div>"
      ],
      "text/plain": [
       "Entrez_Gene_Id   100130426  100133144  100134869     10357     10431  \\\n",
       "Sample ID                                                              \n",
       "TCGA-05-4244-01  -0.237976  -0.235534  -0.235224 -0.225879 -0.030925   \n",
       "TCGA-05-4249-01  -0.284208  -0.281997  -0.280385 -0.256397 -0.000292   \n",
       "TCGA-05-4250-01  -0.262620  -0.260657  -0.260989 -0.249197  0.046482   \n",
       "TCGA-05-4382-01  -0.237402  -0.234666  -0.235573 -0.217408 -0.042566   \n",
       "TCGA-05-4384-01  -0.216851  -0.216084  -0.216020 -0.199591 -0.083119   \n",
       "...                    ...        ...        ...       ...       ...   \n",
       "TCGA-NJ-A55O-01  -0.181073  -0.178148  -0.176740 -0.162191 -0.016355   \n",
       "TCGA-NJ-A55R-01  -0.268213  -0.265791  -0.265243 -0.246717 -0.047634   \n",
       "TCGA-NJ-A7XG-01  -0.113118  -0.108331  -0.104085 -0.103611 -0.037644   \n",
       "TCGA-O1-A52J-01  -0.154371  -0.152194  -0.150632 -0.144922  0.021401   \n",
       "TCGA-S2-AA1A-01  -0.141034  -0.138143  -0.139774 -0.130202 -0.061419   \n",
       "\n",
       "Entrez_Gene_Id     136542    155060     26823    280660    317712  ...  \\\n",
       "Sample ID                                                          ...   \n",
       "TCGA-05-4244-01 -0.237976 -0.153776 -0.237720 -0.237976 -0.237976  ...   \n",
       "TCGA-05-4249-01 -0.284208 -0.239593 -0.283713 -0.284208 -0.284208  ...   \n",
       "TCGA-05-4250-01 -0.262620 -0.248603 -0.262620 -0.262620 -0.262620  ...   \n",
       "TCGA-05-4382-01 -0.237402 -0.179465 -0.237286 -0.237344 -0.237402  ...   \n",
       "TCGA-05-4384-01 -0.216851 -0.151584 -0.216706 -0.216851 -0.216851  ...   \n",
       "...                   ...       ...       ...       ...       ...  ...   \n",
       "TCGA-NJ-A55O-01 -0.181073 -0.132801 -0.180853 -0.181073 -0.181073  ...   \n",
       "TCGA-NJ-A55R-01 -0.268213 -0.161691 -0.268006 -0.268213 -0.268213  ...   \n",
       "TCGA-NJ-A7XG-01 -0.113118 -0.075840 -0.113118 -0.113118 -0.113118  ...   \n",
       "TCGA-O1-A52J-01 -0.154371 -0.127972 -0.153927 -0.154371 -0.154371  ...   \n",
       "TCGA-S2-AA1A-01 -0.141034 -0.087896 -0.140942 -0.141034 -0.141034  ...   \n",
       "\n",
       "Entrez_Gene_Id   American Joint Committee on Cancer Metastasis Stage Code  \\\n",
       "Sample ID                                                                   \n",
       "TCGA-05-4244-01                                                  1          \n",
       "TCGA-05-4249-01                                                  2          \n",
       "TCGA-05-4250-01                                                  2          \n",
       "TCGA-05-4382-01                                                  2          \n",
       "TCGA-05-4384-01                                                  2          \n",
       "...                                                            ...          \n",
       "TCGA-NJ-A55O-01                                                  2          \n",
       "TCGA-NJ-A55R-01                                                  3          \n",
       "TCGA-NJ-A7XG-01                                                  2          \n",
       "TCGA-O1-A52J-01                                                  3          \n",
       "TCGA-S2-AA1A-01                                                  2          \n",
       "\n",
       "Entrez_Gene_Id   Neoplasm Disease Lymph Node Stage American Joint Committee on Cancer Code  \\\n",
       "Sample ID                                                                                    \n",
       "TCGA-05-4244-01                                                  1                           \n",
       "TCGA-05-4249-01                                                  2                           \n",
       "TCGA-05-4250-01                                                  3                           \n",
       "TCGA-05-4382-01                                                  2                           \n",
       "TCGA-05-4384-01                                                  1                           \n",
       "...                                                            ...                           \n",
       "TCGA-NJ-A55O-01                                                  3                           \n",
       "TCGA-NJ-A55R-01                                                  2                           \n",
       "TCGA-NJ-A7XG-01                                                  3                           \n",
       "TCGA-O1-A52J-01                                                  2                           \n",
       "TCGA-S2-AA1A-01                                                  2                           \n",
       "\n",
       "Entrez_Gene_Id   American Joint Committee on Cancer Tumor Stage Code  \\\n",
       "Sample ID                                                              \n",
       "TCGA-05-4244-01                                                  1     \n",
       "TCGA-05-4249-01                                                  1     \n",
       "TCGA-05-4250-01                                                  2     \n",
       "TCGA-05-4382-01                                                  1     \n",
       "TCGA-05-4384-01                                                  1     \n",
       "...                                                            ...     \n",
       "TCGA-NJ-A55O-01                                                  6     \n",
       "TCGA-NJ-A55R-01                                                  6     \n",
       "TCGA-NJ-A7XG-01                                                  4     \n",
       "TCGA-O1-A52J-01                                                  3     \n",
       "TCGA-S2-AA1A-01                                                  6     \n",
       "\n",
       "Entrez_Gene_Id   Prior Cancer Diagnosis Occurence  ICD-10 Classification  \\\n",
       "Sample ID                                                                  \n",
       "TCGA-05-4244-01                                 1                      1   \n",
       "TCGA-05-4249-01                                 1                      1   \n",
       "TCGA-05-4250-01                                 1                      1   \n",
       "TCGA-05-4382-01                                 2                      2   \n",
       "TCGA-05-4384-01                                 2                      1   \n",
       "...                                           ...                    ...   \n",
       "TCGA-NJ-A55O-01                                 1                      2   \n",
       "TCGA-NJ-A55R-01                                 1                      2   \n",
       "TCGA-NJ-A7XG-01                                 1                      2   \n",
       "TCGA-O1-A52J-01                                 1                      1   \n",
       "TCGA-S2-AA1A-01                                 1                      2   \n",
       "\n",
       "Entrez_Gene_Id   Overall Survival (Months)  Patient Primary Tumor Site  \\\n",
       "Sample ID                                                                \n",
       "TCGA-05-4244-01                       0.00                           1   \n",
       "TCGA-05-4249-01                      50.03                           1   \n",
       "TCGA-05-4250-01                       3.98                           1   \n",
       "TCGA-05-4382-01                      19.94                           2   \n",
       "TCGA-05-4384-01                      13.99                           1   \n",
       "...                                    ...                         ...   \n",
       "TCGA-NJ-A55O-01                       0.43                           3   \n",
       "TCGA-NJ-A55R-01                      19.81                           2   \n",
       "TCGA-NJ-A7XG-01                      20.27                           2   \n",
       "TCGA-O1-A52J-01                      59.07                           5   \n",
       "TCGA-S2-AA1A-01                      16.85                           3   \n",
       "\n",
       "Entrez_Gene_Id   Tissue Source Site  \\\n",
       "Sample ID                             \n",
       "TCGA-05-4244-01                   1   \n",
       "TCGA-05-4249-01                   1   \n",
       "TCGA-05-4250-01                   1   \n",
       "TCGA-05-4382-01                   1   \n",
       "TCGA-05-4384-01                   1   \n",
       "...                             ...   \n",
       "TCGA-NJ-A55O-01                  29   \n",
       "TCGA-NJ-A55R-01                  29   \n",
       "TCGA-NJ-A7XG-01                  29   \n",
       "TCGA-O1-A52J-01                  30   \n",
       "TCGA-S2-AA1A-01                  31   \n",
       "\n",
       "Entrez_Gene_Id   Neoplasm Disease Stage American Joint Committee on Cancer Code.1  \\\n",
       "Sample ID                                                                           \n",
       "TCGA-05-4244-01                                                  1                  \n",
       "TCGA-05-4249-01                                                  2                  \n",
       "TCGA-05-4250-01                                                  3                  \n",
       "TCGA-05-4382-01                                                  2                  \n",
       "TCGA-05-4384-01                                                  3                  \n",
       "...                                                            ...                  \n",
       "TCGA-NJ-A55O-01                                                  7                  \n",
       "TCGA-NJ-A55R-01                                                  4                  \n",
       "TCGA-NJ-A7XG-01                                                  3                  \n",
       "TCGA-O1-A52J-01                                                  4                  \n",
       "TCGA-S2-AA1A-01                                                  4                  \n",
       "\n",
       "Entrez_Gene_Id   Patient Smoking History Category  \n",
       "Sample ID                                          \n",
       "TCGA-05-4244-01                               4.0  \n",
       "TCGA-05-4249-01                               3.0  \n",
       "TCGA-05-4250-01                               4.0  \n",
       "TCGA-05-4382-01                               4.0  \n",
       "TCGA-05-4384-01                               3.0  \n",
       "...                                           ...  \n",
       "TCGA-NJ-A55O-01                               4.0  \n",
       "TCGA-NJ-A55R-01                               3.0  \n",
       "TCGA-NJ-A7XG-01                               3.0  \n",
       "TCGA-O1-A52J-01                               3.0  \n",
       "TCGA-S2-AA1A-01                               3.0  \n",
       "\n",
       "[462 rows x 20543 columns]"
      ]
     },
     "execution_count": 4,
     "metadata": {},
     "output_type": "execute_result"
    }
   ],
   "source": [
    "data_scaled_ref_lin=data_scaled.loc[meta_patients[\"Fraction Genome Altered\"].dropna().index,:]\n",
    "\n",
    "data_scaled_ref_lin=data_scaled_ref_lin.loc[-meta_patients[\"Sex\"].isna(),:]\n",
    "sex = meta_patients.loc[data_scaled_ref_lin.index,\"Sex\"]\n",
    "sex=sex.replace(\"Male\",1)\n",
    "sex=sex.replace(\"MALE\",1)\n",
    "sex=sex.replace(\"Female\",0)\n",
    "data_scaled_ref_lin['Sex']=sex\n",
    "\n",
    "def var_converter(var):\n",
    "    dic={}\n",
    "    c = 0\n",
    "    for i in var.index:\n",
    "        if var[i] not in dic.keys():\n",
    "            dic[var[i]]=dic.get(var[i],c+1)\n",
    "            c+=1\n",
    "            var[i]=c\n",
    "        else:\n",
    "            var[i]=dic[var[i]]\n",
    "\n",
    "\n",
    "\n",
    "\n",
    "labels_lin = [\"Diagnosis Age\",'American Joint Committee on Cancer Metastasis Stage Code',\n",
    "            'American Joint Committee on Cancer Metastasis Stage Code', \n",
    "            'Neoplasm Disease Lymph Node Stage American Joint Committee on Cancer Code',\n",
    "            'American Joint Committee on Cancer Tumor Stage Code', \n",
    "            'Prior Cancer Diagnosis Occurence','ICD-10 Classification',\"Overall Survival (Months)\", 'Patient Primary Tumor Site',\n",
    "            'Tissue Source Site','Neoplasm Disease Stage American Joint Committee on Cancer Code.1', \n",
    "            'Patient Smoking History Category']\n",
    "\n",
    "for label in labels_lin:\n",
    "    data_scaled_ref_lin = data_scaled_ref_lin.loc[-meta_patients[label].isna(),:]\n",
    "    label_var = meta_patients.loc[data_scaled_ref_lin.index,label]\n",
    "    if type(meta_patients[label].tolist()[0])==str:\n",
    "        var_converter(label_var)\n",
    "    data_scaled_ref_lin[label]=label_var\n",
    "\n",
    "data_scaled_ref_lin"
   ]
  },
  {
   "cell_type": "code",
   "execution_count": 37,
   "metadata": {},
   "outputs": [
    {
     "name": "stdout",
     "output_type": "stream",
     "text": [
      "max:  0.8013\n",
      "min:  0.0\n"
     ]
    }
   ],
   "source": [
    "from numpy import amax, amin\n",
    "print(\"max: \", amax(meta_patients.loc[data_scaled_ref_lin.index,\"Fraction Genome Altered\"].values))\n",
    "print(\"min: \", amin(meta_patients.loc[data_scaled_ref_lin.index,\"Fraction Genome Altered\"].values))"
   ]
  },
  {
   "cell_type": "code",
   "execution_count": 5,
   "metadata": {},
   "outputs": [],
   "source": [
    "indices_lin = np.random.permutation(data_scaled_ref_lin.index)\n",
    "\n",
    "input_data_lin=data_scaled_ref_lin.values\n",
    "output_data_lin=meta_patients[\"Fraction Genome Altered\"].values\n",
    "\n",
    "train_in_lin = data_scaled_ref_lin.loc[indices_lin[:-100]].values\n",
    "train_out_lin = meta_patients.loc[indices_lin[:-100],\"Fraction Genome Altered\"].values\n",
    "\n",
    "test_in_lin  = data_scaled_ref_lin.loc[indices_lin[-100:]].values\n",
    "test_out_lin = meta_patients.loc[indices_lin[-100:],\"Fraction Genome Altered\"].values"
   ]
  },
  {
   "cell_type": "code",
   "execution_count": 40,
   "metadata": {},
   "outputs": [
    {
     "name": "stdout",
     "output_type": "stream",
     "text": [
      "0.44762858166404196\n",
      "[ 1.28985433e-06  5.27292492e-05  8.36498880e-06 ... -7.36193369e-04\n",
      "  1.12669456e-03  6.00519278e-03]\n"
     ]
    },
    {
     "data": {
      "text/html": [
       "<div>\n",
       "<style scoped>\n",
       "    .dataframe tbody tr th:only-of-type {\n",
       "        vertical-align: middle;\n",
       "    }\n",
       "\n",
       "    .dataframe tbody tr th {\n",
       "        vertical-align: top;\n",
       "    }\n",
       "\n",
       "    .dataframe thead th {\n",
       "        text-align: right;\n",
       "    }\n",
       "</style>\n",
       "<table border=\"1\" class=\"dataframe\">\n",
       "  <thead>\n",
       "    <tr style=\"text-align: right;\">\n",
       "      <th></th>\n",
       "      <th>Actual</th>\n",
       "      <th>Predicted</th>\n",
       "    </tr>\n",
       "  </thead>\n",
       "  <tbody>\n",
       "    <tr>\n",
       "      <th>0</th>\n",
       "      <td>0.5598</td>\n",
       "      <td>0.199950</td>\n",
       "    </tr>\n",
       "    <tr>\n",
       "      <th>1</th>\n",
       "      <td>0.0648</td>\n",
       "      <td>0.075925</td>\n",
       "    </tr>\n",
       "    <tr>\n",
       "      <th>2</th>\n",
       "      <td>0.1960</td>\n",
       "      <td>0.212797</td>\n",
       "    </tr>\n",
       "    <tr>\n",
       "      <th>3</th>\n",
       "      <td>0.3046</td>\n",
       "      <td>0.118476</td>\n",
       "    </tr>\n",
       "    <tr>\n",
       "      <th>4</th>\n",
       "      <td>0.1241</td>\n",
       "      <td>0.361120</td>\n",
       "    </tr>\n",
       "    <tr>\n",
       "      <th>5</th>\n",
       "      <td>0.7107</td>\n",
       "      <td>0.400753</td>\n",
       "    </tr>\n",
       "    <tr>\n",
       "      <th>6</th>\n",
       "      <td>0.0369</td>\n",
       "      <td>0.127517</td>\n",
       "    </tr>\n",
       "    <tr>\n",
       "      <th>7</th>\n",
       "      <td>0.3267</td>\n",
       "      <td>0.246601</td>\n",
       "    </tr>\n",
       "    <tr>\n",
       "      <th>8</th>\n",
       "      <td>0.6545</td>\n",
       "      <td>0.818636</td>\n",
       "    </tr>\n",
       "    <tr>\n",
       "      <th>9</th>\n",
       "      <td>0.0339</td>\n",
       "      <td>0.037308</td>\n",
       "    </tr>\n",
       "    <tr>\n",
       "      <th>10</th>\n",
       "      <td>0.2203</td>\n",
       "      <td>-0.010307</td>\n",
       "    </tr>\n",
       "    <tr>\n",
       "      <th>11</th>\n",
       "      <td>0.5188</td>\n",
       "      <td>0.369324</td>\n",
       "    </tr>\n",
       "    <tr>\n",
       "      <th>12</th>\n",
       "      <td>0.2589</td>\n",
       "      <td>0.154888</td>\n",
       "    </tr>\n",
       "    <tr>\n",
       "      <th>13</th>\n",
       "      <td>0.2166</td>\n",
       "      <td>0.384327</td>\n",
       "    </tr>\n",
       "    <tr>\n",
       "      <th>14</th>\n",
       "      <td>0.0190</td>\n",
       "      <td>0.335408</td>\n",
       "    </tr>\n",
       "    <tr>\n",
       "      <th>15</th>\n",
       "      <td>0.6682</td>\n",
       "      <td>0.298389</td>\n",
       "    </tr>\n",
       "    <tr>\n",
       "      <th>16</th>\n",
       "      <td>0.4531</td>\n",
       "      <td>0.131544</td>\n",
       "    </tr>\n",
       "    <tr>\n",
       "      <th>17</th>\n",
       "      <td>0.6786</td>\n",
       "      <td>0.362398</td>\n",
       "    </tr>\n",
       "    <tr>\n",
       "      <th>18</th>\n",
       "      <td>0.1477</td>\n",
       "      <td>0.330973</td>\n",
       "    </tr>\n",
       "    <tr>\n",
       "      <th>19</th>\n",
       "      <td>0.0102</td>\n",
       "      <td>0.045980</td>\n",
       "    </tr>\n",
       "    <tr>\n",
       "      <th>20</th>\n",
       "      <td>0.0451</td>\n",
       "      <td>-0.055551</td>\n",
       "    </tr>\n",
       "    <tr>\n",
       "      <th>21</th>\n",
       "      <td>0.2154</td>\n",
       "      <td>0.249837</td>\n",
       "    </tr>\n",
       "    <tr>\n",
       "      <th>22</th>\n",
       "      <td>0.4730</td>\n",
       "      <td>0.115527</td>\n",
       "    </tr>\n",
       "    <tr>\n",
       "      <th>23</th>\n",
       "      <td>0.2069</td>\n",
       "      <td>0.249922</td>\n",
       "    </tr>\n",
       "    <tr>\n",
       "      <th>24</th>\n",
       "      <td>0.0648</td>\n",
       "      <td>0.085063</td>\n",
       "    </tr>\n",
       "    <tr>\n",
       "      <th>25</th>\n",
       "      <td>0.6934</td>\n",
       "      <td>0.531922</td>\n",
       "    </tr>\n",
       "    <tr>\n",
       "      <th>26</th>\n",
       "      <td>0.2988</td>\n",
       "      <td>0.347532</td>\n",
       "    </tr>\n",
       "    <tr>\n",
       "      <th>27</th>\n",
       "      <td>0.1116</td>\n",
       "      <td>0.329687</td>\n",
       "    </tr>\n",
       "    <tr>\n",
       "      <th>28</th>\n",
       "      <td>0.3208</td>\n",
       "      <td>0.292870</td>\n",
       "    </tr>\n",
       "    <tr>\n",
       "      <th>29</th>\n",
       "      <td>0.3458</td>\n",
       "      <td>0.440040</td>\n",
       "    </tr>\n",
       "    <tr>\n",
       "      <th>30</th>\n",
       "      <td>0.3585</td>\n",
       "      <td>0.131337</td>\n",
       "    </tr>\n",
       "    <tr>\n",
       "      <th>31</th>\n",
       "      <td>0.2619</td>\n",
       "      <td>0.198123</td>\n",
       "    </tr>\n",
       "    <tr>\n",
       "      <th>32</th>\n",
       "      <td>0.6673</td>\n",
       "      <td>0.394827</td>\n",
       "    </tr>\n",
       "    <tr>\n",
       "      <th>33</th>\n",
       "      <td>0.0568</td>\n",
       "      <td>0.126840</td>\n",
       "    </tr>\n",
       "    <tr>\n",
       "      <th>34</th>\n",
       "      <td>0.5293</td>\n",
       "      <td>0.656276</td>\n",
       "    </tr>\n",
       "    <tr>\n",
       "      <th>35</th>\n",
       "      <td>0.1855</td>\n",
       "      <td>0.050437</td>\n",
       "    </tr>\n",
       "    <tr>\n",
       "      <th>36</th>\n",
       "      <td>0.0803</td>\n",
       "      <td>0.027240</td>\n",
       "    </tr>\n",
       "    <tr>\n",
       "      <th>37</th>\n",
       "      <td>0.0987</td>\n",
       "      <td>0.125813</td>\n",
       "    </tr>\n",
       "    <tr>\n",
       "      <th>38</th>\n",
       "      <td>0.0381</td>\n",
       "      <td>0.036534</td>\n",
       "    </tr>\n",
       "    <tr>\n",
       "      <th>39</th>\n",
       "      <td>0.4716</td>\n",
       "      <td>0.422001</td>\n",
       "    </tr>\n",
       "    <tr>\n",
       "      <th>40</th>\n",
       "      <td>0.1444</td>\n",
       "      <td>0.156872</td>\n",
       "    </tr>\n",
       "    <tr>\n",
       "      <th>41</th>\n",
       "      <td>0.0002</td>\n",
       "      <td>-0.008003</td>\n",
       "    </tr>\n",
       "    <tr>\n",
       "      <th>42</th>\n",
       "      <td>0.1046</td>\n",
       "      <td>-0.037275</td>\n",
       "    </tr>\n",
       "    <tr>\n",
       "      <th>43</th>\n",
       "      <td>0.1214</td>\n",
       "      <td>-0.066060</td>\n",
       "    </tr>\n",
       "    <tr>\n",
       "      <th>44</th>\n",
       "      <td>0.7394</td>\n",
       "      <td>0.371622</td>\n",
       "    </tr>\n",
       "    <tr>\n",
       "      <th>45</th>\n",
       "      <td>0.1971</td>\n",
       "      <td>0.151430</td>\n",
       "    </tr>\n",
       "    <tr>\n",
       "      <th>46</th>\n",
       "      <td>0.4262</td>\n",
       "      <td>0.191879</td>\n",
       "    </tr>\n",
       "    <tr>\n",
       "      <th>47</th>\n",
       "      <td>0.0772</td>\n",
       "      <td>0.269954</td>\n",
       "    </tr>\n",
       "    <tr>\n",
       "      <th>48</th>\n",
       "      <td>0.3729</td>\n",
       "      <td>0.282530</td>\n",
       "    </tr>\n",
       "    <tr>\n",
       "      <th>49</th>\n",
       "      <td>0.3944</td>\n",
       "      <td>0.439200</td>\n",
       "    </tr>\n",
       "    <tr>\n",
       "      <th>50</th>\n",
       "      <td>0.2137</td>\n",
       "      <td>0.297253</td>\n",
       "    </tr>\n",
       "    <tr>\n",
       "      <th>51</th>\n",
       "      <td>0.1669</td>\n",
       "      <td>0.195903</td>\n",
       "    </tr>\n",
       "    <tr>\n",
       "      <th>52</th>\n",
       "      <td>0.1473</td>\n",
       "      <td>0.246041</td>\n",
       "    </tr>\n",
       "    <tr>\n",
       "      <th>53</th>\n",
       "      <td>0.5443</td>\n",
       "      <td>0.204708</td>\n",
       "    </tr>\n",
       "    <tr>\n",
       "      <th>54</th>\n",
       "      <td>0.0919</td>\n",
       "      <td>0.126827</td>\n",
       "    </tr>\n",
       "    <tr>\n",
       "      <th>55</th>\n",
       "      <td>0.4297</td>\n",
       "      <td>0.440787</td>\n",
       "    </tr>\n",
       "    <tr>\n",
       "      <th>56</th>\n",
       "      <td>0.1237</td>\n",
       "      <td>0.140573</td>\n",
       "    </tr>\n",
       "    <tr>\n",
       "      <th>57</th>\n",
       "      <td>0.3059</td>\n",
       "      <td>0.638676</td>\n",
       "    </tr>\n",
       "    <tr>\n",
       "      <th>58</th>\n",
       "      <td>0.2944</td>\n",
       "      <td>0.386305</td>\n",
       "    </tr>\n",
       "    <tr>\n",
       "      <th>59</th>\n",
       "      <td>0.2352</td>\n",
       "      <td>-0.004016</td>\n",
       "    </tr>\n",
       "    <tr>\n",
       "      <th>60</th>\n",
       "      <td>0.3599</td>\n",
       "      <td>0.565012</td>\n",
       "    </tr>\n",
       "    <tr>\n",
       "      <th>61</th>\n",
       "      <td>0.5689</td>\n",
       "      <td>0.502841</td>\n",
       "    </tr>\n",
       "    <tr>\n",
       "      <th>62</th>\n",
       "      <td>0.1285</td>\n",
       "      <td>0.257785</td>\n",
       "    </tr>\n",
       "    <tr>\n",
       "      <th>63</th>\n",
       "      <td>0.2699</td>\n",
       "      <td>0.294971</td>\n",
       "    </tr>\n",
       "    <tr>\n",
       "      <th>64</th>\n",
       "      <td>0.5723</td>\n",
       "      <td>0.445891</td>\n",
       "    </tr>\n",
       "    <tr>\n",
       "      <th>65</th>\n",
       "      <td>0.5353</td>\n",
       "      <td>0.451713</td>\n",
       "    </tr>\n",
       "    <tr>\n",
       "      <th>66</th>\n",
       "      <td>0.1665</td>\n",
       "      <td>0.352239</td>\n",
       "    </tr>\n",
       "    <tr>\n",
       "      <th>67</th>\n",
       "      <td>0.2579</td>\n",
       "      <td>0.400232</td>\n",
       "    </tr>\n",
       "    <tr>\n",
       "      <th>68</th>\n",
       "      <td>0.1044</td>\n",
       "      <td>0.295952</td>\n",
       "    </tr>\n",
       "    <tr>\n",
       "      <th>69</th>\n",
       "      <td>0.1685</td>\n",
       "      <td>0.206313</td>\n",
       "    </tr>\n",
       "    <tr>\n",
       "      <th>70</th>\n",
       "      <td>0.6786</td>\n",
       "      <td>0.496846</td>\n",
       "    </tr>\n",
       "    <tr>\n",
       "      <th>71</th>\n",
       "      <td>0.4482</td>\n",
       "      <td>0.427083</td>\n",
       "    </tr>\n",
       "    <tr>\n",
       "      <th>72</th>\n",
       "      <td>0.4589</td>\n",
       "      <td>0.433204</td>\n",
       "    </tr>\n",
       "    <tr>\n",
       "      <th>73</th>\n",
       "      <td>0.1291</td>\n",
       "      <td>0.366281</td>\n",
       "    </tr>\n",
       "    <tr>\n",
       "      <th>74</th>\n",
       "      <td>0.2389</td>\n",
       "      <td>0.109489</td>\n",
       "    </tr>\n",
       "    <tr>\n",
       "      <th>75</th>\n",
       "      <td>0.5835</td>\n",
       "      <td>0.351833</td>\n",
       "    </tr>\n",
       "    <tr>\n",
       "      <th>76</th>\n",
       "      <td>0.0483</td>\n",
       "      <td>0.024189</td>\n",
       "    </tr>\n",
       "    <tr>\n",
       "      <th>77</th>\n",
       "      <td>0.1046</td>\n",
       "      <td>0.013864</td>\n",
       "    </tr>\n",
       "    <tr>\n",
       "      <th>78</th>\n",
       "      <td>0.0276</td>\n",
       "      <td>0.193332</td>\n",
       "    </tr>\n",
       "    <tr>\n",
       "      <th>79</th>\n",
       "      <td>0.1035</td>\n",
       "      <td>0.117177</td>\n",
       "    </tr>\n",
       "    <tr>\n",
       "      <th>80</th>\n",
       "      <td>0.2915</td>\n",
       "      <td>0.062898</td>\n",
       "    </tr>\n",
       "    <tr>\n",
       "      <th>81</th>\n",
       "      <td>0.2440</td>\n",
       "      <td>0.409077</td>\n",
       "    </tr>\n",
       "    <tr>\n",
       "      <th>82</th>\n",
       "      <td>0.6345</td>\n",
       "      <td>0.634531</td>\n",
       "    </tr>\n",
       "    <tr>\n",
       "      <th>83</th>\n",
       "      <td>0.2122</td>\n",
       "      <td>0.234337</td>\n",
       "    </tr>\n",
       "    <tr>\n",
       "      <th>84</th>\n",
       "      <td>0.3903</td>\n",
       "      <td>0.156039</td>\n",
       "    </tr>\n",
       "    <tr>\n",
       "      <th>85</th>\n",
       "      <td>0.0000</td>\n",
       "      <td>0.064259</td>\n",
       "    </tr>\n",
       "    <tr>\n",
       "      <th>86</th>\n",
       "      <td>0.2898</td>\n",
       "      <td>0.436305</td>\n",
       "    </tr>\n",
       "    <tr>\n",
       "      <th>87</th>\n",
       "      <td>0.0345</td>\n",
       "      <td>0.315091</td>\n",
       "    </tr>\n",
       "    <tr>\n",
       "      <th>88</th>\n",
       "      <td>0.4614</td>\n",
       "      <td>0.039520</td>\n",
       "    </tr>\n",
       "    <tr>\n",
       "      <th>89</th>\n",
       "      <td>0.3950</td>\n",
       "      <td>0.480078</td>\n",
       "    </tr>\n",
       "    <tr>\n",
       "      <th>90</th>\n",
       "      <td>0.4032</td>\n",
       "      <td>0.330449</td>\n",
       "    </tr>\n",
       "    <tr>\n",
       "      <th>91</th>\n",
       "      <td>0.6086</td>\n",
       "      <td>0.504239</td>\n",
       "    </tr>\n",
       "    <tr>\n",
       "      <th>92</th>\n",
       "      <td>0.4141</td>\n",
       "      <td>0.423750</td>\n",
       "    </tr>\n",
       "    <tr>\n",
       "      <th>93</th>\n",
       "      <td>0.3506</td>\n",
       "      <td>0.322869</td>\n",
       "    </tr>\n",
       "    <tr>\n",
       "      <th>94</th>\n",
       "      <td>0.1432</td>\n",
       "      <td>0.268995</td>\n",
       "    </tr>\n",
       "    <tr>\n",
       "      <th>95</th>\n",
       "      <td>0.0799</td>\n",
       "      <td>0.167277</td>\n",
       "    </tr>\n",
       "    <tr>\n",
       "      <th>96</th>\n",
       "      <td>0.2670</td>\n",
       "      <td>0.607475</td>\n",
       "    </tr>\n",
       "    <tr>\n",
       "      <th>97</th>\n",
       "      <td>0.0346</td>\n",
       "      <td>0.104880</td>\n",
       "    </tr>\n",
       "    <tr>\n",
       "      <th>98</th>\n",
       "      <td>0.0325</td>\n",
       "      <td>-0.012180</td>\n",
       "    </tr>\n",
       "    <tr>\n",
       "      <th>99</th>\n",
       "      <td>0.1979</td>\n",
       "      <td>0.490784</td>\n",
       "    </tr>\n",
       "  </tbody>\n",
       "</table>\n",
       "</div>"
      ],
      "text/plain": [
       "    Actual  Predicted\n",
       "0   0.5598   0.199950\n",
       "1   0.0648   0.075925\n",
       "2   0.1960   0.212797\n",
       "3   0.3046   0.118476\n",
       "4   0.1241   0.361120\n",
       "5   0.7107   0.400753\n",
       "6   0.0369   0.127517\n",
       "7   0.3267   0.246601\n",
       "8   0.6545   0.818636\n",
       "9   0.0339   0.037308\n",
       "10  0.2203  -0.010307\n",
       "11  0.5188   0.369324\n",
       "12  0.2589   0.154888\n",
       "13  0.2166   0.384327\n",
       "14  0.0190   0.335408\n",
       "15  0.6682   0.298389\n",
       "16  0.4531   0.131544\n",
       "17  0.6786   0.362398\n",
       "18  0.1477   0.330973\n",
       "19  0.0102   0.045980\n",
       "20  0.0451  -0.055551\n",
       "21  0.2154   0.249837\n",
       "22  0.4730   0.115527\n",
       "23  0.2069   0.249922\n",
       "24  0.0648   0.085063\n",
       "25  0.6934   0.531922\n",
       "26  0.2988   0.347532\n",
       "27  0.1116   0.329687\n",
       "28  0.3208   0.292870\n",
       "29  0.3458   0.440040\n",
       "30  0.3585   0.131337\n",
       "31  0.2619   0.198123\n",
       "32  0.6673   0.394827\n",
       "33  0.0568   0.126840\n",
       "34  0.5293   0.656276\n",
       "35  0.1855   0.050437\n",
       "36  0.0803   0.027240\n",
       "37  0.0987   0.125813\n",
       "38  0.0381   0.036534\n",
       "39  0.4716   0.422001\n",
       "40  0.1444   0.156872\n",
       "41  0.0002  -0.008003\n",
       "42  0.1046  -0.037275\n",
       "43  0.1214  -0.066060\n",
       "44  0.7394   0.371622\n",
       "45  0.1971   0.151430\n",
       "46  0.4262   0.191879\n",
       "47  0.0772   0.269954\n",
       "48  0.3729   0.282530\n",
       "49  0.3944   0.439200\n",
       "50  0.2137   0.297253\n",
       "51  0.1669   0.195903\n",
       "52  0.1473   0.246041\n",
       "53  0.5443   0.204708\n",
       "54  0.0919   0.126827\n",
       "55  0.4297   0.440787\n",
       "56  0.1237   0.140573\n",
       "57  0.3059   0.638676\n",
       "58  0.2944   0.386305\n",
       "59  0.2352  -0.004016\n",
       "60  0.3599   0.565012\n",
       "61  0.5689   0.502841\n",
       "62  0.1285   0.257785\n",
       "63  0.2699   0.294971\n",
       "64  0.5723   0.445891\n",
       "65  0.5353   0.451713\n",
       "66  0.1665   0.352239\n",
       "67  0.2579   0.400232\n",
       "68  0.1044   0.295952\n",
       "69  0.1685   0.206313\n",
       "70  0.6786   0.496846\n",
       "71  0.4482   0.427083\n",
       "72  0.4589   0.433204\n",
       "73  0.1291   0.366281\n",
       "74  0.2389   0.109489\n",
       "75  0.5835   0.351833\n",
       "76  0.0483   0.024189\n",
       "77  0.1046   0.013864\n",
       "78  0.0276   0.193332\n",
       "79  0.1035   0.117177\n",
       "80  0.2915   0.062898\n",
       "81  0.2440   0.409077\n",
       "82  0.6345   0.634531\n",
       "83  0.2122   0.234337\n",
       "84  0.3903   0.156039\n",
       "85  0.0000   0.064259\n",
       "86  0.2898   0.436305\n",
       "87  0.0345   0.315091\n",
       "88  0.4614   0.039520\n",
       "89  0.3950   0.480078\n",
       "90  0.4032   0.330449\n",
       "91  0.6086   0.504239\n",
       "92  0.4141   0.423750\n",
       "93  0.3506   0.322869\n",
       "94  0.1432   0.268995\n",
       "95  0.0799   0.167277\n",
       "96  0.2670   0.607475\n",
       "97  0.0346   0.104880\n",
       "98  0.0325  -0.012180\n",
       "99  0.1979   0.490784"
      ]
     },
     "execution_count": 40,
     "metadata": {},
     "output_type": "execute_result"
    }
   ],
   "source": [
    "import pandas as pd  \n",
    "import numpy as np  \n",
    "import sklearn as sklearn\n",
    "import matplotlib.pyplot as plt  \n",
    "import seaborn as seabornInstance \n",
    "from sklearn.model_selection import train_test_split \n",
    "from sklearn.linear_model import LinearRegression\n",
    "from sklearn import metrics\n",
    "%matplotlib inline\n",
    "\n",
    "regressor = LinearRegression()  \n",
    "regressor.fit(train_in_lin, train_out_lin) #training the algorithm\n",
    "#To retrieve the intercept:\n",
    "print(regressor.intercept_)\n",
    "#For retrieving the slope:\n",
    "print(regressor.coef_)\n",
    "y_pred = regressor.predict(test_in_lin)\n",
    "df = pd.DataFrame({'Actual': test_out_lin.flatten(), 'Predicted': y_pred.flatten()})\n",
    "df\n",
    "\n"
   ]
  },
  {
   "cell_type": "code",
   "execution_count": 41,
   "metadata": {},
   "outputs": [
    {
     "data": {
      "image/png": "[encoded data removed]",
      "text/plain": [
       "<Figure size 1152x720 with 1 Axes>"
      ]
     },
     "metadata": {
      "needs_background": "light"
     },
     "output_type": "display_data"
    }
   ],
   "source": [
    "df1 = df.head(25)\n",
    "df1.plot(kind='bar',figsize=(16,10))\n",
    "plt.grid(which='major', linestyle='-', linewidth='0.5', color='green')\n",
    "plt.grid(which='minor', linestyle=':', linewidth='0.5', color='black')\n",
    "plt.show()"
   ]
  },
  {
   "cell_type": "code",
   "execution_count": 42,
   "metadata": {},
   "outputs": [
    {
     "name": "stdout",
     "output_type": "stream",
     "text": [
      "Mean Absolute Error: 0.13528943190031964\n",
      "Mean Squared Error: 0.03006676311250918\n",
      "Root Mean Squared Error: 0.17339770215463982\n"
     ]
    }
   ],
   "source": [
    "print('Mean Absolute Error:', metrics.mean_absolute_error(test_out_lin, y_pred))  \n",
    "print('Mean Squared Error:', metrics.mean_squared_error(test_out_lin, y_pred))  \n",
    "print('Root Mean Squared Error:', np.sqrt(metrics.mean_squared_error(test_out_lin, y_pred)))"
   ]
  },
  {
   "cell_type": "markdown",
   "metadata": {},
   "source": [
    "With the Mean Square Error (MSE) one can verify how close the regression line is to a set of points. Smaller MSE means that the regression is closer to the best fit, hence a MSE of 0.0265 suggests an adequate regression by the model"
   ]
  },
  {
   "cell_type": "markdown",
   "metadata": {},
   "source": [
    "## Binary Endpoint"
   ]
  },
  {
   "cell_type": "markdown",
   "metadata": {},
   "source": [
    "## Disease Free Status (binary endpoint)"
   ]
  },
  {
   "cell_type": "markdown",
   "metadata": {},
   "source": [
    "Relative to the binary endpoint, the Disease Free Status was thought to be an important variable comprising of the 'DiseaseFree' and 'Recurred/Progressed' values. Predicting these values can be relevant since it provides information relative to the status of the patient's disease after treatment further revealing whether the patient is cured or not.   "
   ]
  },
  {
   "cell_type": "markdown",
   "metadata": {},
   "source": [
    "### Data preparation"
   ]
  },
  {
   "cell_type": "code",
   "execution_count": 4,
   "metadata": {},
   "outputs": [
    {
     "data": {
      "text/html": [
       "<div>\n",
       "<style scoped>\n",
       "    .dataframe tbody tr th:only-of-type {\n",
       "        vertical-align: middle;\n",
       "    }\n",
       "\n",
       "    .dataframe tbody tr th {\n",
       "        vertical-align: top;\n",
       "    }\n",
       "\n",
       "    .dataframe thead th {\n",
       "        text-align: right;\n",
       "    }\n",
       "</style>\n",
       "<table border=\"1\" class=\"dataframe\">\n",
       "  <thead>\n",
       "    <tr style=\"text-align: right;\">\n",
       "      <th>Entrez_Gene_Id</th>\n",
       "      <th>100130426</th>\n",
       "      <th>100133144</th>\n",
       "      <th>100134869</th>\n",
       "      <th>10357</th>\n",
       "      <th>10431</th>\n",
       "      <th>136542</th>\n",
       "      <th>155060</th>\n",
       "      <th>26823</th>\n",
       "      <th>280660</th>\n",
       "      <th>317712</th>\n",
       "      <th>...</th>\n",
       "      <th>Neoplasm Disease Lymph Node Stage American Joint Committee on Cancer Code</th>\n",
       "      <th>American Joint Committee on Cancer Tumor Stage Code</th>\n",
       "      <th>Prior Cancer Diagnosis Occurence</th>\n",
       "      <th>ICD-10 Classification</th>\n",
       "      <th>Overall Survival (Months)</th>\n",
       "      <th>Patient Primary Tumor Site</th>\n",
       "      <th>Tissue Source Site</th>\n",
       "      <th>Neoplasm Disease Stage American Joint Committee on Cancer Code.1</th>\n",
       "      <th>Patient Smoking History Category</th>\n",
       "      <th>Fraction Genome Altered</th>\n",
       "    </tr>\n",
       "    <tr>\n",
       "      <th>Sample ID</th>\n",
       "      <th></th>\n",
       "      <th></th>\n",
       "      <th></th>\n",
       "      <th></th>\n",
       "      <th></th>\n",
       "      <th></th>\n",
       "      <th></th>\n",
       "      <th></th>\n",
       "      <th></th>\n",
       "      <th></th>\n",
       "      <th></th>\n",
       "      <th></th>\n",
       "      <th></th>\n",
       "      <th></th>\n",
       "      <th></th>\n",
       "      <th></th>\n",
       "      <th></th>\n",
       "      <th></th>\n",
       "      <th></th>\n",
       "      <th></th>\n",
       "      <th></th>\n",
       "    </tr>\n",
       "  </thead>\n",
       "  <tbody>\n",
       "    <tr>\n",
       "      <th>TCGA-05-4244-01</th>\n",
       "      <td>-0.237976</td>\n",
       "      <td>-0.235534</td>\n",
       "      <td>-0.235224</td>\n",
       "      <td>-0.225879</td>\n",
       "      <td>-0.030925</td>\n",
       "      <td>-0.237976</td>\n",
       "      <td>-0.153776</td>\n",
       "      <td>-0.237720</td>\n",
       "      <td>-0.237976</td>\n",
       "      <td>-0.237976</td>\n",
       "      <td>...</td>\n",
       "      <td>1</td>\n",
       "      <td>1</td>\n",
       "      <td>1</td>\n",
       "      <td>1</td>\n",
       "      <td>0.00</td>\n",
       "      <td>1</td>\n",
       "      <td>1</td>\n",
       "      <td>1</td>\n",
       "      <td>4.0</td>\n",
       "      <td>0.4565</td>\n",
       "    </tr>\n",
       "    <tr>\n",
       "      <th>TCGA-05-4249-01</th>\n",
       "      <td>-0.284208</td>\n",
       "      <td>-0.281997</td>\n",
       "      <td>-0.280385</td>\n",
       "      <td>-0.256397</td>\n",
       "      <td>-0.000292</td>\n",
       "      <td>-0.284208</td>\n",
       "      <td>-0.239593</td>\n",
       "      <td>-0.283713</td>\n",
       "      <td>-0.284208</td>\n",
       "      <td>-0.284208</td>\n",
       "      <td>...</td>\n",
       "      <td>2</td>\n",
       "      <td>1</td>\n",
       "      <td>1</td>\n",
       "      <td>1</td>\n",
       "      <td>50.03</td>\n",
       "      <td>1</td>\n",
       "      <td>1</td>\n",
       "      <td>2</td>\n",
       "      <td>3.0</td>\n",
       "      <td>0.2221</td>\n",
       "    </tr>\n",
       "    <tr>\n",
       "      <th>TCGA-05-4382-01</th>\n",
       "      <td>-0.237402</td>\n",
       "      <td>-0.234666</td>\n",
       "      <td>-0.235573</td>\n",
       "      <td>-0.217408</td>\n",
       "      <td>-0.042566</td>\n",
       "      <td>-0.237402</td>\n",
       "      <td>-0.179465</td>\n",
       "      <td>-0.237286</td>\n",
       "      <td>-0.237344</td>\n",
       "      <td>-0.237402</td>\n",
       "      <td>...</td>\n",
       "      <td>2</td>\n",
       "      <td>1</td>\n",
       "      <td>2</td>\n",
       "      <td>2</td>\n",
       "      <td>19.94</td>\n",
       "      <td>2</td>\n",
       "      <td>1</td>\n",
       "      <td>2</td>\n",
       "      <td>4.0</td>\n",
       "      <td>0.0854</td>\n",
       "    </tr>\n",
       "    <tr>\n",
       "      <th>TCGA-05-4384-01</th>\n",
       "      <td>-0.216851</td>\n",
       "      <td>-0.216084</td>\n",
       "      <td>-0.216020</td>\n",
       "      <td>-0.199591</td>\n",
       "      <td>-0.083119</td>\n",
       "      <td>-0.216851</td>\n",
       "      <td>-0.151584</td>\n",
       "      <td>-0.216706</td>\n",
       "      <td>-0.216851</td>\n",
       "      <td>-0.216851</td>\n",
       "      <td>...</td>\n",
       "      <td>1</td>\n",
       "      <td>1</td>\n",
       "      <td>2</td>\n",
       "      <td>1</td>\n",
       "      <td>13.99</td>\n",
       "      <td>1</td>\n",
       "      <td>1</td>\n",
       "      <td>3</td>\n",
       "      <td>3.0</td>\n",
       "      <td>0.0661</td>\n",
       "    </tr>\n",
       "    <tr>\n",
       "      <th>TCGA-05-4389-01</th>\n",
       "      <td>-0.240382</td>\n",
       "      <td>-0.239397</td>\n",
       "      <td>-0.236988</td>\n",
       "      <td>-0.224043</td>\n",
       "      <td>0.090155</td>\n",
       "      <td>-0.240382</td>\n",
       "      <td>-0.229229</td>\n",
       "      <td>-0.240299</td>\n",
       "      <td>-0.240382</td>\n",
       "      <td>-0.240382</td>\n",
       "      <td>...</td>\n",
       "      <td>2</td>\n",
       "      <td>2</td>\n",
       "      <td>1</td>\n",
       "      <td>2</td>\n",
       "      <td>44.97</td>\n",
       "      <td>3</td>\n",
       "      <td>1</td>\n",
       "      <td>4</td>\n",
       "      <td>3.0</td>\n",
       "      <td>0.4579</td>\n",
       "    </tr>\n",
       "    <tr>\n",
       "      <th>...</th>\n",
       "      <td>...</td>\n",
       "      <td>...</td>\n",
       "      <td>...</td>\n",
       "      <td>...</td>\n",
       "      <td>...</td>\n",
       "      <td>...</td>\n",
       "      <td>...</td>\n",
       "      <td>...</td>\n",
       "      <td>...</td>\n",
       "      <td>...</td>\n",
       "      <td>...</td>\n",
       "      <td>...</td>\n",
       "      <td>...</td>\n",
       "      <td>...</td>\n",
       "      <td>...</td>\n",
       "      <td>...</td>\n",
       "      <td>...</td>\n",
       "      <td>...</td>\n",
       "      <td>...</td>\n",
       "      <td>...</td>\n",
       "      <td>...</td>\n",
       "    </tr>\n",
       "    <tr>\n",
       "      <th>TCGA-NJ-A55O-01</th>\n",
       "      <td>-0.181073</td>\n",
       "      <td>-0.178148</td>\n",
       "      <td>-0.176740</td>\n",
       "      <td>-0.162191</td>\n",
       "      <td>-0.016355</td>\n",
       "      <td>-0.181073</td>\n",
       "      <td>-0.132801</td>\n",
       "      <td>-0.180853</td>\n",
       "      <td>-0.181073</td>\n",
       "      <td>-0.181073</td>\n",
       "      <td>...</td>\n",
       "      <td>4</td>\n",
       "      <td>6</td>\n",
       "      <td>1</td>\n",
       "      <td>2</td>\n",
       "      <td>0.43</td>\n",
       "      <td>3</td>\n",
       "      <td>29</td>\n",
       "      <td>7</td>\n",
       "      <td>4.0</td>\n",
       "      <td>0.0194</td>\n",
       "    </tr>\n",
       "    <tr>\n",
       "      <th>TCGA-NJ-A55R-01</th>\n",
       "      <td>-0.268213</td>\n",
       "      <td>-0.265791</td>\n",
       "      <td>-0.265243</td>\n",
       "      <td>-0.246717</td>\n",
       "      <td>-0.047634</td>\n",
       "      <td>-0.268213</td>\n",
       "      <td>-0.161691</td>\n",
       "      <td>-0.268006</td>\n",
       "      <td>-0.268213</td>\n",
       "      <td>-0.268213</td>\n",
       "      <td>...</td>\n",
       "      <td>2</td>\n",
       "      <td>6</td>\n",
       "      <td>1</td>\n",
       "      <td>2</td>\n",
       "      <td>19.81</td>\n",
       "      <td>2</td>\n",
       "      <td>29</td>\n",
       "      <td>4</td>\n",
       "      <td>3.0</td>\n",
       "      <td>0.0760</td>\n",
       "    </tr>\n",
       "    <tr>\n",
       "      <th>TCGA-NJ-A7XG-01</th>\n",
       "      <td>-0.113118</td>\n",
       "      <td>-0.108331</td>\n",
       "      <td>-0.104085</td>\n",
       "      <td>-0.103611</td>\n",
       "      <td>-0.037644</td>\n",
       "      <td>-0.113118</td>\n",
       "      <td>-0.075840</td>\n",
       "      <td>-0.113118</td>\n",
       "      <td>-0.113118</td>\n",
       "      <td>-0.113118</td>\n",
       "      <td>...</td>\n",
       "      <td>4</td>\n",
       "      <td>3</td>\n",
       "      <td>1</td>\n",
       "      <td>2</td>\n",
       "      <td>20.27</td>\n",
       "      <td>2</td>\n",
       "      <td>29</td>\n",
       "      <td>3</td>\n",
       "      <td>3.0</td>\n",
       "      <td>0.4205</td>\n",
       "    </tr>\n",
       "    <tr>\n",
       "      <th>TCGA-O1-A52J-01</th>\n",
       "      <td>-0.154371</td>\n",
       "      <td>-0.152194</td>\n",
       "      <td>-0.150632</td>\n",
       "      <td>-0.144922</td>\n",
       "      <td>0.021401</td>\n",
       "      <td>-0.154371</td>\n",
       "      <td>-0.127972</td>\n",
       "      <td>-0.153927</td>\n",
       "      <td>-0.154371</td>\n",
       "      <td>-0.154371</td>\n",
       "      <td>...</td>\n",
       "      <td>2</td>\n",
       "      <td>2</td>\n",
       "      <td>1</td>\n",
       "      <td>1</td>\n",
       "      <td>59.07</td>\n",
       "      <td>4</td>\n",
       "      <td>30</td>\n",
       "      <td>4</td>\n",
       "      <td>3.0</td>\n",
       "      <td>0.5443</td>\n",
       "    </tr>\n",
       "    <tr>\n",
       "      <th>TCGA-S2-AA1A-01</th>\n",
       "      <td>-0.141034</td>\n",
       "      <td>-0.138143</td>\n",
       "      <td>-0.139774</td>\n",
       "      <td>-0.130202</td>\n",
       "      <td>-0.061419</td>\n",
       "      <td>-0.141034</td>\n",
       "      <td>-0.087896</td>\n",
       "      <td>-0.140942</td>\n",
       "      <td>-0.141034</td>\n",
       "      <td>-0.141034</td>\n",
       "      <td>...</td>\n",
       "      <td>2</td>\n",
       "      <td>6</td>\n",
       "      <td>1</td>\n",
       "      <td>2</td>\n",
       "      <td>16.85</td>\n",
       "      <td>3</td>\n",
       "      <td>31</td>\n",
       "      <td>4</td>\n",
       "      <td>3.0</td>\n",
       "      <td>0.0598</td>\n",
       "    </tr>\n",
       "  </tbody>\n",
       "</table>\n",
       "<p>391 rows × 20544 columns</p>\n",
       "</div>"
      ],
      "text/plain": [
       "Entrez_Gene_Id   100130426  100133144  100134869     10357     10431  \\\n",
       "Sample ID                                                              \n",
       "TCGA-05-4244-01  -0.237976  -0.235534  -0.235224 -0.225879 -0.030925   \n",
       "TCGA-05-4249-01  -0.284208  -0.281997  -0.280385 -0.256397 -0.000292   \n",
       "TCGA-05-4382-01  -0.237402  -0.234666  -0.235573 -0.217408 -0.042566   \n",
       "TCGA-05-4384-01  -0.216851  -0.216084  -0.216020 -0.199591 -0.083119   \n",
       "TCGA-05-4389-01  -0.240382  -0.239397  -0.236988 -0.224043  0.090155   \n",
       "...                    ...        ...        ...       ...       ...   \n",
       "TCGA-NJ-A55O-01  -0.181073  -0.178148  -0.176740 -0.162191 -0.016355   \n",
       "TCGA-NJ-A55R-01  -0.268213  -0.265791  -0.265243 -0.246717 -0.047634   \n",
       "TCGA-NJ-A7XG-01  -0.113118  -0.108331  -0.104085 -0.103611 -0.037644   \n",
       "TCGA-O1-A52J-01  -0.154371  -0.152194  -0.150632 -0.144922  0.021401   \n",
       "TCGA-S2-AA1A-01  -0.141034  -0.138143  -0.139774 -0.130202 -0.061419   \n",
       "\n",
       "Entrez_Gene_Id     136542    155060     26823    280660    317712  ...  \\\n",
       "Sample ID                                                          ...   \n",
       "TCGA-05-4244-01 -0.237976 -0.153776 -0.237720 -0.237976 -0.237976  ...   \n",
       "TCGA-05-4249-01 -0.284208 -0.239593 -0.283713 -0.284208 -0.284208  ...   \n",
       "TCGA-05-4382-01 -0.237402 -0.179465 -0.237286 -0.237344 -0.237402  ...   \n",
       "TCGA-05-4384-01 -0.216851 -0.151584 -0.216706 -0.216851 -0.216851  ...   \n",
       "TCGA-05-4389-01 -0.240382 -0.229229 -0.240299 -0.240382 -0.240382  ...   \n",
       "...                   ...       ...       ...       ...       ...  ...   \n",
       "TCGA-NJ-A55O-01 -0.181073 -0.132801 -0.180853 -0.181073 -0.181073  ...   \n",
       "TCGA-NJ-A55R-01 -0.268213 -0.161691 -0.268006 -0.268213 -0.268213  ...   \n",
       "TCGA-NJ-A7XG-01 -0.113118 -0.075840 -0.113118 -0.113118 -0.113118  ...   \n",
       "TCGA-O1-A52J-01 -0.154371 -0.127972 -0.153927 -0.154371 -0.154371  ...   \n",
       "TCGA-S2-AA1A-01 -0.141034 -0.087896 -0.140942 -0.141034 -0.141034  ...   \n",
       "\n",
       "Entrez_Gene_Id   Neoplasm Disease Lymph Node Stage American Joint Committee on Cancer Code  \\\n",
       "Sample ID                                                                                    \n",
       "TCGA-05-4244-01                                                  1                           \n",
       "TCGA-05-4249-01                                                  2                           \n",
       "TCGA-05-4382-01                                                  2                           \n",
       "TCGA-05-4384-01                                                  1                           \n",
       "TCGA-05-4389-01                                                  2                           \n",
       "...                                                            ...                           \n",
       "TCGA-NJ-A55O-01                                                  4                           \n",
       "TCGA-NJ-A55R-01                                                  2                           \n",
       "TCGA-NJ-A7XG-01                                                  4                           \n",
       "TCGA-O1-A52J-01                                                  2                           \n",
       "TCGA-S2-AA1A-01                                                  2                           \n",
       "\n",
       "Entrez_Gene_Id   American Joint Committee on Cancer Tumor Stage Code  \\\n",
       "Sample ID                                                              \n",
       "TCGA-05-4244-01                                                  1     \n",
       "TCGA-05-4249-01                                                  1     \n",
       "TCGA-05-4382-01                                                  1     \n",
       "TCGA-05-4384-01                                                  1     \n",
       "TCGA-05-4389-01                                                  2     \n",
       "...                                                            ...     \n",
       "TCGA-NJ-A55O-01                                                  6     \n",
       "TCGA-NJ-A55R-01                                                  6     \n",
       "TCGA-NJ-A7XG-01                                                  3     \n",
       "TCGA-O1-A52J-01                                                  2     \n",
       "TCGA-S2-AA1A-01                                                  6     \n",
       "\n",
       "Entrez_Gene_Id   Prior Cancer Diagnosis Occurence  ICD-10 Classification  \\\n",
       "Sample ID                                                                  \n",
       "TCGA-05-4244-01                                 1                      1   \n",
       "TCGA-05-4249-01                                 1                      1   \n",
       "TCGA-05-4382-01                                 2                      2   \n",
       "TCGA-05-4384-01                                 2                      1   \n",
       "TCGA-05-4389-01                                 1                      2   \n",
       "...                                           ...                    ...   \n",
       "TCGA-NJ-A55O-01                                 1                      2   \n",
       "TCGA-NJ-A55R-01                                 1                      2   \n",
       "TCGA-NJ-A7XG-01                                 1                      2   \n",
       "TCGA-O1-A52J-01                                 1                      1   \n",
       "TCGA-S2-AA1A-01                                 1                      2   \n",
       "\n",
       "Entrez_Gene_Id   Overall Survival (Months)  Patient Primary Tumor Site  \\\n",
       "Sample ID                                                                \n",
       "TCGA-05-4244-01                       0.00                           1   \n",
       "TCGA-05-4249-01                      50.03                           1   \n",
       "TCGA-05-4382-01                      19.94                           2   \n",
       "TCGA-05-4384-01                      13.99                           1   \n",
       "TCGA-05-4389-01                      44.97                           3   \n",
       "...                                    ...                         ...   \n",
       "TCGA-NJ-A55O-01                       0.43                           3   \n",
       "TCGA-NJ-A55R-01                      19.81                           2   \n",
       "TCGA-NJ-A7XG-01                      20.27                           2   \n",
       "TCGA-O1-A52J-01                      59.07                           4   \n",
       "TCGA-S2-AA1A-01                      16.85                           3   \n",
       "\n",
       "Entrez_Gene_Id   Tissue Source Site  \\\n",
       "Sample ID                             \n",
       "TCGA-05-4244-01                   1   \n",
       "TCGA-05-4249-01                   1   \n",
       "TCGA-05-4382-01                   1   \n",
       "TCGA-05-4384-01                   1   \n",
       "TCGA-05-4389-01                   1   \n",
       "...                             ...   \n",
       "TCGA-NJ-A55O-01                  29   \n",
       "TCGA-NJ-A55R-01                  29   \n",
       "TCGA-NJ-A7XG-01                  29   \n",
       "TCGA-O1-A52J-01                  30   \n",
       "TCGA-S2-AA1A-01                  31   \n",
       "\n",
       "Entrez_Gene_Id   Neoplasm Disease Stage American Joint Committee on Cancer Code.1  \\\n",
       "Sample ID                                                                           \n",
       "TCGA-05-4244-01                                                  1                  \n",
       "TCGA-05-4249-01                                                  2                  \n",
       "TCGA-05-4382-01                                                  2                  \n",
       "TCGA-05-4384-01                                                  3                  \n",
       "TCGA-05-4389-01                                                  4                  \n",
       "...                                                            ...                  \n",
       "TCGA-NJ-A55O-01                                                  7                  \n",
       "TCGA-NJ-A55R-01                                                  4                  \n",
       "TCGA-NJ-A7XG-01                                                  3                  \n",
       "TCGA-O1-A52J-01                                                  4                  \n",
       "TCGA-S2-AA1A-01                                                  4                  \n",
       "\n",
       "Entrez_Gene_Id   Patient Smoking History Category  Fraction Genome Altered  \n",
       "Sample ID                                                                   \n",
       "TCGA-05-4244-01                               4.0                   0.4565  \n",
       "TCGA-05-4249-01                               3.0                   0.2221  \n",
       "TCGA-05-4382-01                               4.0                   0.0854  \n",
       "TCGA-05-4384-01                               3.0                   0.0661  \n",
       "TCGA-05-4389-01                               3.0                   0.4579  \n",
       "...                                           ...                      ...  \n",
       "TCGA-NJ-A55O-01                               4.0                   0.0194  \n",
       "TCGA-NJ-A55R-01                               3.0                   0.0760  \n",
       "TCGA-NJ-A7XG-01                               3.0                   0.4205  \n",
       "TCGA-O1-A52J-01                               3.0                   0.5443  \n",
       "TCGA-S2-AA1A-01                               3.0                   0.0598  \n",
       "\n",
       "[391 rows x 20544 columns]"
      ]
     },
     "execution_count": 4,
     "metadata": {},
     "output_type": "execute_result"
    }
   ],
   "source": [
    "from copy import deepcopy\n",
    "data_scaled_ref_bin=data_scaled.loc[meta_patients[\"Disease Free Status\"].dropna().index,:]\n",
    "\n",
    "data_scaled_ref_bin=data_scaled_ref_bin.loc[-meta_patients[\"Sex\"].isna(),:]\n",
    "sex = meta_patients.loc[data_scaled_ref_bin.index,\"Sex\"]\n",
    "sex=sex.replace(\"Male\",1)\n",
    "sex=sex.replace(\"MALE\",1)\n",
    "sex=sex.replace(\"Female\",0)\n",
    "data_scaled_ref_bin['Sex']=sex\n",
    "\n",
    "\n",
    "def var_converter(var):\n",
    "    dic={}\n",
    "    c = 0\n",
    "    for i in var.index:\n",
    "        if var[i] not in dic.keys():\n",
    "            dic[var[i]]=dic.get(var[i],c+1)\n",
    "            c+=1\n",
    "            var[i]=c\n",
    "        else:\n",
    "            var[i]=dic[var[i]]\n",
    "\n",
    "\n",
    "labels_bin = [\"Diagnosis Age\",'American Joint Committee on Cancer Metastasis Stage Code',\n",
    "            'American Joint Committee on Cancer Metastasis Stage Code', \n",
    "            'Neoplasm Disease Lymph Node Stage American Joint Committee on Cancer Code',\n",
    "            'American Joint Committee on Cancer Tumor Stage Code', \n",
    "            'Prior Cancer Diagnosis Occurence','ICD-10 Classification',\"Overall Survival (Months)\", 'Patient Primary Tumor Site',\n",
    "            'Tissue Source Site','Neoplasm Disease Stage American Joint Committee on Cancer Code.1', \n",
    "            'Patient Smoking History Category', 'Fraction Genome Altered']\n",
    "\n",
    "for label in labels_bin:\n",
    "    data_scaled_ref_bin = data_scaled_ref_bin.loc[-meta_patients[label].isna(),:]\n",
    "    label_var = meta_patients.loc[data_scaled_ref_bin.index,label]\n",
    "    if type(meta_patients[label].tolist()[0])==str:\n",
    "        var_converter(label_var)\n",
    "    data_scaled_ref_bin[label]=label_var\n",
    "        \n",
    "data_scaled_ref_bin\n"
   ]
  },
  {
   "cell_type": "code",
   "execution_count": 5,
   "metadata": {},
   "outputs": [],
   "source": [
    "from sklearn.preprocessing import LabelEncoder\n",
    "\n",
    "\n",
    "indices_bin = np.random.permutation(data_scaled_ref_bin.index)\n",
    "\n",
    "input_data_bin=data_scaled_ref_bin.values\n",
    "output_data_bin_=meta_patients.loc[data_scaled_ref_bin.index,\"Disease Free Status\"].values\n",
    "\n",
    "train_in_bin = data_scaled_ref_bin.loc[indices_bin[:-50]].values\n",
    "train_out_bin = meta_patients.loc[indices_bin[:-50],\"Disease Free Status\"].values\n",
    "\n",
    "test_in_bin  = data_scaled_ref_bin.loc[indices_bin[-50:]].values\n",
    "test_out_bin = meta_patients.loc[indices_bin[-50:],\"Disease Free Status\"].values\n",
    "\n",
    "labelencoder_Y = LabelEncoder()\n",
    "train_out_bin = labelencoder_Y.fit_transform(train_out_bin.astype(str))\n",
    "test_out_bin = labelencoder_Y.fit_transform(test_out_bin.astype(str))\n",
    "output_data_bin = labelencoder_Y.fit_transform(output_data_bin_.astype(str))"
   ]
  },
  {
   "cell_type": "code",
   "execution_count": 45,
   "metadata": {},
   "outputs": [
    {
     "data": {
      "text/plain": [
       "{'DiseaseFree': 231, 'Recurred/Progressed': 160}"
      ]
     },
     "execution_count": 45,
     "metadata": {},
     "output_type": "execute_result"
    }
   ],
   "source": [
    "# print(output_data_bin)\n",
    "unique, counts = np.unique(output_data_bin_, return_counts=True)\n",
    "dict(zip(unique, counts))"
   ]
  },
  {
   "cell_type": "markdown",
   "metadata": {},
   "source": [
    "Since there is a relative discrepancy between the size of the two values we were not sure if the accuracy would be the best metric to evaluate the models, hence other metrics such as recall, precision and f1 were taken into account. Moreover, for the cross validation the scoring metric 'f1' was used, since it was concluded to be a good metric to assess the model scoring with a binary endpoint  "
   ]
  },
  {
   "cell_type": "markdown",
   "metadata": {},
   "source": [
    "### Approach: K Nearest Neighbors Classifier"
   ]
  },
  {
   "cell_type": "code",
   "execution_count": 46,
   "metadata": {},
   "outputs": [
    {
     "name": "stdout",
     "output_type": "stream",
     "text": [
      "PECC:  68.0\n",
      "\n",
      " Confusion Matrix \n",
      "[[21  9]\n",
      " [ 7 13]]\n",
      "              precision    recall  f1-score   support\n",
      "\n",
      "           0       0.75      0.70      0.72        30\n",
      "           1       0.59      0.65      0.62        20\n",
      "\n",
      "    accuracy                           0.68        50\n",
      "   macro avg       0.67      0.68      0.67        50\n",
      "weighted avg       0.69      0.68      0.68        50\n",
      "\n",
      "cross validation mean f1 score:  0.47244755244755243\n"
     ]
    }
   ],
   "source": [
    "import sklearn as sk\n",
    "from sklearn.neighbors import KNeighborsClassifier\n",
    "from sklearn.model_selection import cross_val_score\n",
    "from sklearn.model_selection import ShuffleSplit\n",
    "from sklearn.model_selection import LeaveOneOut\n",
    "from sklearn.metrics import classification_report\n",
    "\n",
    "#KNeighbors model\n",
    "knn = KNeighborsClassifier()\n",
    "knn.fit(train_in_bin, train_out_bin)\n",
    "prev = knn.predict(test_in_bin)\n",
    "\n",
    "print (\"PECC: \", sum([str(prev[i])==(str(test_out_bin[i])) for i in range(len(prev))])/len(prev) *100)\n",
    "print()\n",
    "print(\" Confusion Matrix \")\n",
    "print(sk.metrics.confusion_matrix(test_out_bin, prev, labels=None, sample_weight=None))\n",
    "print(classification_report(test_out_bin,prev))\n",
    "\n",
    "#model evaluation using the cross validation method\n",
    "scores_cv_knn = cross_val_score(knn, input_data_bin, output_data_bin, cv = 5, scoring='f1')\n",
    "print(\"cross validation mean f1 score: \",scores_cv_knn.mean())\n",
    "\n"
   ]
  },
  {
   "cell_type": "markdown",
   "metadata": {},
   "source": [
    "### Bagging KNN"
   ]
  },
  {
   "cell_type": "code",
   "execution_count": 47,
   "metadata": {},
   "outputs": [
    {
     "name": "stdout",
     "output_type": "stream",
     "text": [
      "cross validation mean f1 score:  0.49205940223693556\n"
     ]
    }
   ],
   "source": [
    "from sklearn.ensemble import BaggingClassifier\n",
    "from sklearn.neighbors import KNeighborsClassifier\n",
    "from sklearn.model_selection import cross_val_score\n",
    "\n",
    "#ensemble bagging KNeighbors\n",
    "bagged_knn = BaggingClassifier(KNeighborsClassifier(),max_samples=0.8, max_features=0.8)\n",
    "scores_bag_knn = cross_val_score(bagged_knn, input_data_bin, output_data_bin, cv = 5, scoring='f1')\n",
    "\n",
    "print(\"cross validation mean f1 score: \", scores_bag_knn.mean())"
   ]
  },
  {
   "cell_type": "markdown",
   "metadata": {},
   "source": [
    "### Approach: Decision Tree"
   ]
  },
  {
   "cell_type": "code",
   "execution_count": 48,
   "metadata": {},
   "outputs": [
    {
     "name": "stdout",
     "output_type": "stream",
     "text": [
      "PECC:  46.0\n",
      " Confusion Matrix \n",
      "[[15 15]\n",
      " [12  8]]\n",
      "              precision    recall  f1-score   support\n",
      "\n",
      "           0       0.56      0.50      0.53        30\n",
      "           1       0.35      0.40      0.37        20\n",
      "\n",
      "    accuracy                           0.46        50\n",
      "   macro avg       0.45      0.45      0.45        50\n",
      "weighted avg       0.47      0.46      0.46        50\n",
      "\n",
      "cross validation mean f1 score:  0.41942409748217313\n"
     ]
    }
   ],
   "source": [
    "from sklearn import tree\n",
    "\n",
    "#Decision tree model\n",
    "tree_model = tree.DecisionTreeClassifier()\n",
    "tree_model = tree_model.fit(train_in_bin, train_out_bin)\n",
    "prev = tree_model.predict(test_in_bin)\n",
    "\n",
    "print (\"PECC: \", sum([str(prev[i])==(str(test_out_bin[i])) for i in range(len(prev))])/len(prev) *100)\n",
    "print(\" Confusion Matrix \")\n",
    "print(sk.metrics.confusion_matrix(test_out_bin, prev, labels=None, sample_weight=None))\n",
    "\n",
    "print(classification_report(test_out_bin,prev))\n",
    "\n",
    "#model evaluation using the cross validation method\n",
    "scores_cv_tree = cross_val_score(tree_model, input_data_bin, output_data_bin, cv = 5,scoring='f1')\n",
    "print(\"cross validation mean f1 score: \",scores_cv_tree.mean())\n"
   ]
  },
  {
   "cell_type": "code",
   "execution_count": 49,
   "metadata": {},
   "outputs": [
    {
     "name": "stdout",
     "output_type": "stream",
     "text": [
      "cross validation mean f1 score:  0.3539455110563364\n"
     ]
    }
   ],
   "source": [
    "from sklearn.ensemble import BaggingClassifier\n",
    "from sklearn import tree\n",
    "from sklearn.model_selection import cross_val_score\n",
    "\n",
    "#ensemble bagging Decision Tree\n",
    "\n",
    "bagged_dt = BaggingClassifier(tree.DecisionTreeClassifier(), max_samples=0.8, max_features=0.8)\n",
    "scores_bag_dt = cross_val_score(bagged_dt, input_data_bin, output_data_bin, cv = 5,scoring='f1')\n",
    "\n",
    "print(\"cross validation mean f1 score: \", scores_bag_dt.mean())"
   ]
  },
  {
   "cell_type": "markdown",
   "metadata": {},
   "source": [
    "### Approach: Random Forest"
   ]
  },
  {
   "cell_type": "code",
   "execution_count": 50,
   "metadata": {},
   "outputs": [
    {
     "name": "stdout",
     "output_type": "stream",
     "text": [
      "cross validation mean f1 score:  0.32297511621547714\n"
     ]
    }
   ],
   "source": [
    "from sklearn.ensemble import RandomForestClassifier\n",
    "from sklearn.model_selection import cross_val_score\n",
    "\n",
    "#ensemble random forest\n",
    "\n",
    "rf_model = RandomForestClassifier(n_estimators=100)\n",
    "scores_rf = cross_val_score(rf_model, input_data_bin, output_data_bin, cv = 5,scoring='f1')\n",
    "\n",
    "print (\"cross validation mean f1 score: \", scores_rf.mean())\n"
   ]
  },
  {
   "cell_type": "markdown",
   "metadata": {},
   "source": [
    "### Approach: Support Vector Machine (SVM)"
   ]
  },
  {
   "cell_type": "code",
   "execution_count": 51,
   "metadata": {},
   "outputs": [
    {
     "name": "stdout",
     "output_type": "stream",
     "text": [
      "0.58\n",
      "\n",
      " Confusion Matrix \n",
      "[[29  1]\n",
      " [20  0]]\n",
      "              precision    recall  f1-score   support\n",
      "\n",
      "           0       0.59      0.97      0.73        30\n",
      "           1       0.00      0.00      0.00        20\n",
      "\n",
      "    accuracy                           0.58        50\n",
      "   macro avg       0.30      0.48      0.37        50\n",
      "weighted avg       0.36      0.58      0.44        50\n",
      "\n",
      "cross validation mean f1 score:  0.10130718954248366\n"
     ]
    }
   ],
   "source": [
    "from sklearn import svm\n",
    "\n",
    "svm_model = svm.SVC(gamma = \"scale\")\n",
    "svm_model.fit(train_in_bin, train_out_bin)\n",
    "prev = svm_model.predict(test_in_bin)\n",
    "print(svm_model.score(test_in_bin, test_out_bin))\n",
    "print()\n",
    "print(\" Confusion Matrix \")\n",
    "print(sk.metrics.confusion_matrix(test_out_bin, prev, labels=None, sample_weight=None))\n",
    "print(classification_report(test_out_bin,prev))\n",
    "\n",
    "scores_cv_svm=cross_val_score(svm_model, input_data_bin, y = output_data_bin, cv = 5,scoring='f1')\n",
    "print(\"cross validation mean f1 score: \",scores_cv_svm.mean())"
   ]
  },
  {
   "cell_type": "markdown",
   "metadata": {},
   "source": [
    "### Approach: Gaussian Model (Naive-Bayes)"
   ]
  },
  {
   "cell_type": "code",
   "execution_count": 52,
   "metadata": {},
   "outputs": [
    {
     "name": "stdout",
     "output_type": "stream",
     "text": [
      "GaussianNB(priors=None, var_smoothing=1e-09)\n",
      "PECC:  60.0\n",
      "\n",
      " Confusion Matrix \n",
      "[[19 11]\n",
      " [ 9 11]]\n",
      "              precision    recall  f1-score   support\n",
      "\n",
      "           0       0.68      0.63      0.66        30\n",
      "           1       0.50      0.55      0.52        20\n",
      "\n",
      "    accuracy                           0.60        50\n",
      "   macro avg       0.59      0.59      0.59        50\n",
      "weighted avg       0.61      0.60      0.60        50\n",
      "\n",
      "cross validation mean f1 score:  0.47396830742180224\n"
     ]
    }
   ],
   "source": [
    "from sklearn.naive_bayes import GaussianNB\n",
    "\n",
    "#GaussianNB model\n",
    "gnb_model = GaussianNB()\n",
    "gnb_model = gnb_model.fit(train_in_bin, train_out_bin)\n",
    "prev = gnb_model.predict(test_in_bin)\n",
    "print(gnb_model)\n",
    "\n",
    "\n",
    "print (\"PECC: \", sum([str(prev[i])==(str(test_out_bin[i])) for i in range(len(prev))])/len(prev) *100)\n",
    "print()\n",
    "print(\" Confusion Matrix \")\n",
    "print(sk.metrics.confusion_matrix(test_out_bin, prev, labels=None, sample_weight=None))\n",
    "print(classification_report(test_out_bin,prev))\n",
    "\n",
    "#model evaluation using the cross validation method\n",
    "scores_cv_gnb=cross_val_score(gnb_model, input_data_bin, y = output_data_bin, cv = 5,scoring='f1')\n",
    "print(\"cross validation mean f1 score: \",scores_cv_gnb.mean())\n",
    "\n",
    "\n"
   ]
  },
  {
   "cell_type": "markdown",
   "metadata": {},
   "source": [
    "### Approach: Logistic regression "
   ]
  },
  {
   "cell_type": "code",
   "execution_count": 53,
   "metadata": {},
   "outputs": [
    {
     "name": "stdout",
     "output_type": "stream",
     "text": [
      "PECC:  56.00000000000001\n",
      "\n",
      " Confusion Matrix \n",
      "[[22  8]\n",
      " [14  6]]\n",
      "              precision    recall  f1-score   support\n",
      "\n",
      "           0       0.61      0.73      0.67        30\n",
      "           1       0.43      0.30      0.35        20\n",
      "\n",
      "    accuracy                           0.56        50\n",
      "   macro avg       0.52      0.52      0.51        50\n",
      "weighted avg       0.54      0.56      0.54        50\n",
      "\n",
      "cross validation mean f1 score:  0.44608510575446064\n"
     ]
    }
   ],
   "source": [
    "from sklearn import linear_model\n",
    "\n",
    "#logistic regression model\n",
    "logistic = linear_model.LogisticRegression(solver='newton-cg', multi_class='multinomial', random_state=2)\n",
    "logistic = logistic.fit(train_in_bin, train_out_bin)\n",
    "prev = logistic.predict(test_in_bin)\n",
    "\n",
    "print (\"PECC: \", sum([str(prev[i])==(str(test_out_bin[i])) for i in range(len(prev))])/len(prev) *100)\n",
    "print()\n",
    "print(\" Confusion Matrix \")\n",
    "print(sk.metrics.confusion_matrix(test_out_bin, prev, labels=None, sample_weight=None))\n",
    "print(classification_report(test_out_bin,prev))\n",
    "\n",
    "#model evaluation using the cross validation method\n",
    "scores_cv_logistic=cross_val_score(logistic, input_data_bin, y = output_data_bin, cv = 5,scoring='f1')\n",
    "print(\"cross validation mean f1 score: \",scores_cv_logistic.mean())\n",
    "\n"
   ]
  },
  {
   "cell_type": "markdown",
   "metadata": {},
   "source": [
    "### Ada Boost"
   ]
  },
  {
   "cell_type": "code",
   "execution_count": 54,
   "metadata": {},
   "outputs": [
    {
     "name": "stdout",
     "output_type": "stream",
     "text": [
      "cross validation mean f1 score:  0.3787631678666161\n"
     ]
    }
   ],
   "source": [
    "from sklearn.ensemble import AdaBoostClassifier\n",
    "from sklearn.model_selection import cross_val_score\n",
    "    \n",
    "# ensemble boosting\n",
    "\n",
    "ada_tree = AdaBoostClassifier(n_estimators=100)\n",
    "\n",
    "scores_ada = cross_val_score(ada_tree, train_in_bin, train_out_bin, cv = 5,scoring='f1')\n",
    "    \n",
    "print (\"cross validation mean f1 score: \", scores_ada.mean())"
   ]
  },
  {
   "cell_type": "markdown",
   "metadata": {},
   "source": [
    "### Feature selection"
   ]
  },
  {
   "cell_type": "markdown",
   "metadata": {},
   "source": [
    "For feature selection the model with best results was used "
   ]
  },
  {
   "cell_type": "code",
   "execution_count": 9,
   "metadata": {},
   "outputs": [
    {
     "name": "stdout",
     "output_type": "stream",
     "text": [
      "shape of input_data after feature selection:  (391, 2055)\n",
      "\n",
      "cross validation mean f1 score before feature selection:  0.47244755244755243\n",
      "\n",
      "cross validation mean f1 score after feature selection:  0.49382693468042643\n"
     ]
    }
   ],
   "source": [
    "from sklearn.feature_selection import VarianceThreshold\n",
    "from sklearn.model_selection import cross_val_score\n",
    "from sklearn.feature_selection import SelectPercentile\n",
    "from sklearn.neighbors import KNeighborsClassifier\n",
    "\n",
    "\n",
    "#Select features according to a percentile of the highest scores\n",
    "\n",
    "filt_bin = SelectPercentile().fit_transform(input_data_bin, output_data_bin)\n",
    "print (\"shape of input_data after feature selection: \", filt_bin.shape)\n",
    "print()\n",
    "knn = KNeighborsClassifier()\n",
    "scores= cross_val_score(knn, input_data_bin, output_data_bin, cv= 5,scoring='f1')\n",
    "print (\"cross validation mean f1 score before feature selection: \", scores.mean())\n",
    "print()\n",
    "scores_sp = cross_val_score(knn, filt_bin, output_data_bin, cv= 5,scoring='f1')\n",
    "print(\"cross validation mean f1 score after feature selection: \", scores_sp.mean())"
   ]
  },
  {
   "cell_type": "markdown",
   "metadata": {},
   "source": [
    "As for feature selection, it was identified 2055 features that contribute for the better prediction of this binary endpoint. This might mean that the expression data of the selected genes (features) is relevant for the prediction the disease status after treatment."
   ]
  },
  {
   "cell_type": "markdown",
   "metadata": {},
   "source": [
    "### Grid Search"
   ]
  },
  {
   "cell_type": "markdown",
   "metadata": {},
   "source": [
    "For the grid search the model with the best results was used as well as the input data after feature selection"
   ]
  },
  {
   "cell_type": "code",
   "execution_count": 10,
   "metadata": {},
   "outputs": [
    {
     "name": "stdout",
     "output_type": "stream",
     "text": [
      "parameters that best optimize the model score:  KNeighborsClassifier(algorithm='ball_tree', leaf_size=30, metric='minkowski',\n",
      "           metric_params=None, n_jobs=1, n_neighbors=7, p=2,\n",
      "           weights='uniform')\n",
      "cross validation mean f1 score:  0.43839082697496334\n"
     ]
    }
   ],
   "source": [
    "from sklearn.model_selection import cross_val_score, GridSearchCV\n",
    "\n",
    "#grid search\n",
    "\n",
    "parameters = {'n_neighbors':[5,6,7], 'weights':(\"uniform\",\"distance\"),'algorithm':(\"ball_tree\",\"kd_tree\",\"brute\",\"auto\")}\n",
    "knn = KNeighborsClassifier()\n",
    "opt_model_d = GridSearchCV(knn, parameters)\n",
    "opt_model_d.fit(filt_bin, output_data_bin)\n",
    "print (\"parameters that best optimize the model score: \", opt_model_d.best_estimator_)\n",
    "\n",
    "scores_gs = cross_val_score(opt_model_d, filt_bin, output_data_bin, cv = 5,scoring='f1')\n",
    "print (\"cross validation mean f1 score: \",scores_gs.mean())"
   ]
  },
  {
   "cell_type": "markdown",
   "metadata": {},
   "source": [
    "## Patient's Vital Status"
   ]
  },
  {
   "cell_type": "markdown",
   "metadata": {},
   "source": [
    "Another binary endpoint thought to be relevant to predict is the status of the patient which could either be 'dead' or 'alive'. The accurate prediction of this endpoint could lead to a previous warning of the status of the patient. "
   ]
  },
  {
   "cell_type": "markdown",
   "metadata": {},
   "source": [
    "### Data Preparation "
   ]
  },
  {
   "cell_type": "code",
   "execution_count": 10,
   "metadata": {},
   "outputs": [
    {
     "data": {
      "text/html": [
       "<div>\n",
       "<style scoped>\n",
       "    .dataframe tbody tr th:only-of-type {\n",
       "        vertical-align: middle;\n",
       "    }\n",
       "\n",
       "    .dataframe tbody tr th {\n",
       "        vertical-align: top;\n",
       "    }\n",
       "\n",
       "    .dataframe thead th {\n",
       "        text-align: right;\n",
       "    }\n",
       "</style>\n",
       "<table border=\"1\" class=\"dataframe\">\n",
       "  <thead>\n",
       "    <tr style=\"text-align: right;\">\n",
       "      <th>Entrez_Gene_Id</th>\n",
       "      <th>100130426</th>\n",
       "      <th>100133144</th>\n",
       "      <th>100134869</th>\n",
       "      <th>10357</th>\n",
       "      <th>10431</th>\n",
       "      <th>136542</th>\n",
       "      <th>155060</th>\n",
       "      <th>26823</th>\n",
       "      <th>280660</th>\n",
       "      <th>317712</th>\n",
       "      <th>...</th>\n",
       "      <th>Neoplasm Disease Lymph Node Stage American Joint Committee on Cancer Code</th>\n",
       "      <th>American Joint Committee on Cancer Tumor Stage Code</th>\n",
       "      <th>Prior Cancer Diagnosis Occurence</th>\n",
       "      <th>ICD-10 Classification</th>\n",
       "      <th>Overall Survival (Months)</th>\n",
       "      <th>Patient Primary Tumor Site</th>\n",
       "      <th>Tissue Source Site</th>\n",
       "      <th>Neoplasm Disease Stage American Joint Committee on Cancer Code.1</th>\n",
       "      <th>Patient Smoking History Category</th>\n",
       "      <th>Fraction Genome Altered</th>\n",
       "    </tr>\n",
       "    <tr>\n",
       "      <th>Sample ID</th>\n",
       "      <th></th>\n",
       "      <th></th>\n",
       "      <th></th>\n",
       "      <th></th>\n",
       "      <th></th>\n",
       "      <th></th>\n",
       "      <th></th>\n",
       "      <th></th>\n",
       "      <th></th>\n",
       "      <th></th>\n",
       "      <th></th>\n",
       "      <th></th>\n",
       "      <th></th>\n",
       "      <th></th>\n",
       "      <th></th>\n",
       "      <th></th>\n",
       "      <th></th>\n",
       "      <th></th>\n",
       "      <th></th>\n",
       "      <th></th>\n",
       "      <th></th>\n",
       "    </tr>\n",
       "  </thead>\n",
       "  <tbody>\n",
       "    <tr>\n",
       "      <th>TCGA-05-4244-01</th>\n",
       "      <td>-0.237976</td>\n",
       "      <td>-0.235534</td>\n",
       "      <td>-0.235224</td>\n",
       "      <td>-0.225879</td>\n",
       "      <td>-0.030925</td>\n",
       "      <td>-0.237976</td>\n",
       "      <td>-0.153776</td>\n",
       "      <td>-0.237720</td>\n",
       "      <td>-0.237976</td>\n",
       "      <td>-0.237976</td>\n",
       "      <td>...</td>\n",
       "      <td>1</td>\n",
       "      <td>1</td>\n",
       "      <td>1</td>\n",
       "      <td>1</td>\n",
       "      <td>0.00</td>\n",
       "      <td>1</td>\n",
       "      <td>1</td>\n",
       "      <td>1</td>\n",
       "      <td>4.0</td>\n",
       "      <td>0.4565</td>\n",
       "    </tr>\n",
       "    <tr>\n",
       "      <th>TCGA-05-4249-01</th>\n",
       "      <td>-0.284208</td>\n",
       "      <td>-0.281997</td>\n",
       "      <td>-0.280385</td>\n",
       "      <td>-0.256397</td>\n",
       "      <td>-0.000292</td>\n",
       "      <td>-0.284208</td>\n",
       "      <td>-0.239593</td>\n",
       "      <td>-0.283713</td>\n",
       "      <td>-0.284208</td>\n",
       "      <td>-0.284208</td>\n",
       "      <td>...</td>\n",
       "      <td>2</td>\n",
       "      <td>1</td>\n",
       "      <td>1</td>\n",
       "      <td>1</td>\n",
       "      <td>50.03</td>\n",
       "      <td>1</td>\n",
       "      <td>1</td>\n",
       "      <td>2</td>\n",
       "      <td>3.0</td>\n",
       "      <td>0.2221</td>\n",
       "    </tr>\n",
       "    <tr>\n",
       "      <th>TCGA-05-4250-01</th>\n",
       "      <td>-0.262620</td>\n",
       "      <td>-0.260657</td>\n",
       "      <td>-0.260989</td>\n",
       "      <td>-0.249197</td>\n",
       "      <td>0.046482</td>\n",
       "      <td>-0.262620</td>\n",
       "      <td>-0.248603</td>\n",
       "      <td>-0.262620</td>\n",
       "      <td>-0.262620</td>\n",
       "      <td>-0.262620</td>\n",
       "      <td>...</td>\n",
       "      <td>3</td>\n",
       "      <td>2</td>\n",
       "      <td>1</td>\n",
       "      <td>1</td>\n",
       "      <td>3.98</td>\n",
       "      <td>1</td>\n",
       "      <td>1</td>\n",
       "      <td>3</td>\n",
       "      <td>4.0</td>\n",
       "      <td>0.2362</td>\n",
       "    </tr>\n",
       "    <tr>\n",
       "      <th>TCGA-05-4382-01</th>\n",
       "      <td>-0.237402</td>\n",
       "      <td>-0.234666</td>\n",
       "      <td>-0.235573</td>\n",
       "      <td>-0.217408</td>\n",
       "      <td>-0.042566</td>\n",
       "      <td>-0.237402</td>\n",
       "      <td>-0.179465</td>\n",
       "      <td>-0.237286</td>\n",
       "      <td>-0.237344</td>\n",
       "      <td>-0.237402</td>\n",
       "      <td>...</td>\n",
       "      <td>2</td>\n",
       "      <td>1</td>\n",
       "      <td>2</td>\n",
       "      <td>2</td>\n",
       "      <td>19.94</td>\n",
       "      <td>2</td>\n",
       "      <td>1</td>\n",
       "      <td>2</td>\n",
       "      <td>4.0</td>\n",
       "      <td>0.0854</td>\n",
       "    </tr>\n",
       "    <tr>\n",
       "      <th>TCGA-05-4384-01</th>\n",
       "      <td>-0.216851</td>\n",
       "      <td>-0.216084</td>\n",
       "      <td>-0.216020</td>\n",
       "      <td>-0.199591</td>\n",
       "      <td>-0.083119</td>\n",
       "      <td>-0.216851</td>\n",
       "      <td>-0.151584</td>\n",
       "      <td>-0.216706</td>\n",
       "      <td>-0.216851</td>\n",
       "      <td>-0.216851</td>\n",
       "      <td>...</td>\n",
       "      <td>1</td>\n",
       "      <td>1</td>\n",
       "      <td>2</td>\n",
       "      <td>1</td>\n",
       "      <td>13.99</td>\n",
       "      <td>1</td>\n",
       "      <td>1</td>\n",
       "      <td>3</td>\n",
       "      <td>3.0</td>\n",
       "      <td>0.0661</td>\n",
       "    </tr>\n",
       "    <tr>\n",
       "      <th>...</th>\n",
       "      <td>...</td>\n",
       "      <td>...</td>\n",
       "      <td>...</td>\n",
       "      <td>...</td>\n",
       "      <td>...</td>\n",
       "      <td>...</td>\n",
       "      <td>...</td>\n",
       "      <td>...</td>\n",
       "      <td>...</td>\n",
       "      <td>...</td>\n",
       "      <td>...</td>\n",
       "      <td>...</td>\n",
       "      <td>...</td>\n",
       "      <td>...</td>\n",
       "      <td>...</td>\n",
       "      <td>...</td>\n",
       "      <td>...</td>\n",
       "      <td>...</td>\n",
       "      <td>...</td>\n",
       "      <td>...</td>\n",
       "      <td>...</td>\n",
       "    </tr>\n",
       "    <tr>\n",
       "      <th>TCGA-NJ-A55O-01</th>\n",
       "      <td>-0.181073</td>\n",
       "      <td>-0.178148</td>\n",
       "      <td>-0.176740</td>\n",
       "      <td>-0.162191</td>\n",
       "      <td>-0.016355</td>\n",
       "      <td>-0.181073</td>\n",
       "      <td>-0.132801</td>\n",
       "      <td>-0.180853</td>\n",
       "      <td>-0.181073</td>\n",
       "      <td>-0.181073</td>\n",
       "      <td>...</td>\n",
       "      <td>3</td>\n",
       "      <td>6</td>\n",
       "      <td>1</td>\n",
       "      <td>2</td>\n",
       "      <td>0.43</td>\n",
       "      <td>3</td>\n",
       "      <td>29</td>\n",
       "      <td>7</td>\n",
       "      <td>4.0</td>\n",
       "      <td>0.0194</td>\n",
       "    </tr>\n",
       "    <tr>\n",
       "      <th>TCGA-NJ-A55R-01</th>\n",
       "      <td>-0.268213</td>\n",
       "      <td>-0.265791</td>\n",
       "      <td>-0.265243</td>\n",
       "      <td>-0.246717</td>\n",
       "      <td>-0.047634</td>\n",
       "      <td>-0.268213</td>\n",
       "      <td>-0.161691</td>\n",
       "      <td>-0.268006</td>\n",
       "      <td>-0.268213</td>\n",
       "      <td>-0.268213</td>\n",
       "      <td>...</td>\n",
       "      <td>2</td>\n",
       "      <td>6</td>\n",
       "      <td>1</td>\n",
       "      <td>2</td>\n",
       "      <td>19.81</td>\n",
       "      <td>2</td>\n",
       "      <td>29</td>\n",
       "      <td>4</td>\n",
       "      <td>3.0</td>\n",
       "      <td>0.0760</td>\n",
       "    </tr>\n",
       "    <tr>\n",
       "      <th>TCGA-NJ-A7XG-01</th>\n",
       "      <td>-0.113118</td>\n",
       "      <td>-0.108331</td>\n",
       "      <td>-0.104085</td>\n",
       "      <td>-0.103611</td>\n",
       "      <td>-0.037644</td>\n",
       "      <td>-0.113118</td>\n",
       "      <td>-0.075840</td>\n",
       "      <td>-0.113118</td>\n",
       "      <td>-0.113118</td>\n",
       "      <td>-0.113118</td>\n",
       "      <td>...</td>\n",
       "      <td>3</td>\n",
       "      <td>4</td>\n",
       "      <td>1</td>\n",
       "      <td>2</td>\n",
       "      <td>20.27</td>\n",
       "      <td>2</td>\n",
       "      <td>29</td>\n",
       "      <td>3</td>\n",
       "      <td>3.0</td>\n",
       "      <td>0.4205</td>\n",
       "    </tr>\n",
       "    <tr>\n",
       "      <th>TCGA-O1-A52J-01</th>\n",
       "      <td>-0.154371</td>\n",
       "      <td>-0.152194</td>\n",
       "      <td>-0.150632</td>\n",
       "      <td>-0.144922</td>\n",
       "      <td>0.021401</td>\n",
       "      <td>-0.154371</td>\n",
       "      <td>-0.127972</td>\n",
       "      <td>-0.153927</td>\n",
       "      <td>-0.154371</td>\n",
       "      <td>-0.154371</td>\n",
       "      <td>...</td>\n",
       "      <td>2</td>\n",
       "      <td>3</td>\n",
       "      <td>1</td>\n",
       "      <td>1</td>\n",
       "      <td>59.07</td>\n",
       "      <td>5</td>\n",
       "      <td>30</td>\n",
       "      <td>4</td>\n",
       "      <td>3.0</td>\n",
       "      <td>0.5443</td>\n",
       "    </tr>\n",
       "    <tr>\n",
       "      <th>TCGA-S2-AA1A-01</th>\n",
       "      <td>-0.141034</td>\n",
       "      <td>-0.138143</td>\n",
       "      <td>-0.139774</td>\n",
       "      <td>-0.130202</td>\n",
       "      <td>-0.061419</td>\n",
       "      <td>-0.141034</td>\n",
       "      <td>-0.087896</td>\n",
       "      <td>-0.140942</td>\n",
       "      <td>-0.141034</td>\n",
       "      <td>-0.141034</td>\n",
       "      <td>...</td>\n",
       "      <td>2</td>\n",
       "      <td>6</td>\n",
       "      <td>1</td>\n",
       "      <td>2</td>\n",
       "      <td>16.85</td>\n",
       "      <td>3</td>\n",
       "      <td>31</td>\n",
       "      <td>4</td>\n",
       "      <td>3.0</td>\n",
       "      <td>0.0598</td>\n",
       "    </tr>\n",
       "  </tbody>\n",
       "</table>\n",
       "<p>462 rows × 20544 columns</p>\n",
       "</div>"
      ],
      "text/plain": [
       "Entrez_Gene_Id   100130426  100133144  100134869     10357     10431  \\\n",
       "Sample ID                                                              \n",
       "TCGA-05-4244-01  -0.237976  -0.235534  -0.235224 -0.225879 -0.030925   \n",
       "TCGA-05-4249-01  -0.284208  -0.281997  -0.280385 -0.256397 -0.000292   \n",
       "TCGA-05-4250-01  -0.262620  -0.260657  -0.260989 -0.249197  0.046482   \n",
       "TCGA-05-4382-01  -0.237402  -0.234666  -0.235573 -0.217408 -0.042566   \n",
       "TCGA-05-4384-01  -0.216851  -0.216084  -0.216020 -0.199591 -0.083119   \n",
       "...                    ...        ...        ...       ...       ...   \n",
       "TCGA-NJ-A55O-01  -0.181073  -0.178148  -0.176740 -0.162191 -0.016355   \n",
       "TCGA-NJ-A55R-01  -0.268213  -0.265791  -0.265243 -0.246717 -0.047634   \n",
       "TCGA-NJ-A7XG-01  -0.113118  -0.108331  -0.104085 -0.103611 -0.037644   \n",
       "TCGA-O1-A52J-01  -0.154371  -0.152194  -0.150632 -0.144922  0.021401   \n",
       "TCGA-S2-AA1A-01  -0.141034  -0.138143  -0.139774 -0.130202 -0.061419   \n",
       "\n",
       "Entrez_Gene_Id     136542    155060     26823    280660    317712  ...  \\\n",
       "Sample ID                                                          ...   \n",
       "TCGA-05-4244-01 -0.237976 -0.153776 -0.237720 -0.237976 -0.237976  ...   \n",
       "TCGA-05-4249-01 -0.284208 -0.239593 -0.283713 -0.284208 -0.284208  ...   \n",
       "TCGA-05-4250-01 -0.262620 -0.248603 -0.262620 -0.262620 -0.262620  ...   \n",
       "TCGA-05-4382-01 -0.237402 -0.179465 -0.237286 -0.237344 -0.237402  ...   \n",
       "TCGA-05-4384-01 -0.216851 -0.151584 -0.216706 -0.216851 -0.216851  ...   \n",
       "...                   ...       ...       ...       ...       ...  ...   \n",
       "TCGA-NJ-A55O-01 -0.181073 -0.132801 -0.180853 -0.181073 -0.181073  ...   \n",
       "TCGA-NJ-A55R-01 -0.268213 -0.161691 -0.268006 -0.268213 -0.268213  ...   \n",
       "TCGA-NJ-A7XG-01 -0.113118 -0.075840 -0.113118 -0.113118 -0.113118  ...   \n",
       "TCGA-O1-A52J-01 -0.154371 -0.127972 -0.153927 -0.154371 -0.154371  ...   \n",
       "TCGA-S2-AA1A-01 -0.141034 -0.087896 -0.140942 -0.141034 -0.141034  ...   \n",
       "\n",
       "Entrez_Gene_Id   Neoplasm Disease Lymph Node Stage American Joint Committee on Cancer Code  \\\n",
       "Sample ID                                                                                    \n",
       "TCGA-05-4244-01                                                  1                           \n",
       "TCGA-05-4249-01                                                  2                           \n",
       "TCGA-05-4250-01                                                  3                           \n",
       "TCGA-05-4382-01                                                  2                           \n",
       "TCGA-05-4384-01                                                  1                           \n",
       "...                                                            ...                           \n",
       "TCGA-NJ-A55O-01                                                  3                           \n",
       "TCGA-NJ-A55R-01                                                  2                           \n",
       "TCGA-NJ-A7XG-01                                                  3                           \n",
       "TCGA-O1-A52J-01                                                  2                           \n",
       "TCGA-S2-AA1A-01                                                  2                           \n",
       "\n",
       "Entrez_Gene_Id   American Joint Committee on Cancer Tumor Stage Code  \\\n",
       "Sample ID                                                              \n",
       "TCGA-05-4244-01                                                  1     \n",
       "TCGA-05-4249-01                                                  1     \n",
       "TCGA-05-4250-01                                                  2     \n",
       "TCGA-05-4382-01                                                  1     \n",
       "TCGA-05-4384-01                                                  1     \n",
       "...                                                            ...     \n",
       "TCGA-NJ-A55O-01                                                  6     \n",
       "TCGA-NJ-A55R-01                                                  6     \n",
       "TCGA-NJ-A7XG-01                                                  4     \n",
       "TCGA-O1-A52J-01                                                  3     \n",
       "TCGA-S2-AA1A-01                                                  6     \n",
       "\n",
       "Entrez_Gene_Id   Prior Cancer Diagnosis Occurence  ICD-10 Classification  \\\n",
       "Sample ID                                                                  \n",
       "TCGA-05-4244-01                                 1                      1   \n",
       "TCGA-05-4249-01                                 1                      1   \n",
       "TCGA-05-4250-01                                 1                      1   \n",
       "TCGA-05-4382-01                                 2                      2   \n",
       "TCGA-05-4384-01                                 2                      1   \n",
       "...                                           ...                    ...   \n",
       "TCGA-NJ-A55O-01                                 1                      2   \n",
       "TCGA-NJ-A55R-01                                 1                      2   \n",
       "TCGA-NJ-A7XG-01                                 1                      2   \n",
       "TCGA-O1-A52J-01                                 1                      1   \n",
       "TCGA-S2-AA1A-01                                 1                      2   \n",
       "\n",
       "Entrez_Gene_Id   Overall Survival (Months)  Patient Primary Tumor Site  \\\n",
       "Sample ID                                                                \n",
       "TCGA-05-4244-01                       0.00                           1   \n",
       "TCGA-05-4249-01                      50.03                           1   \n",
       "TCGA-05-4250-01                       3.98                           1   \n",
       "TCGA-05-4382-01                      19.94                           2   \n",
       "TCGA-05-4384-01                      13.99                           1   \n",
       "...                                    ...                         ...   \n",
       "TCGA-NJ-A55O-01                       0.43                           3   \n",
       "TCGA-NJ-A55R-01                      19.81                           2   \n",
       "TCGA-NJ-A7XG-01                      20.27                           2   \n",
       "TCGA-O1-A52J-01                      59.07                           5   \n",
       "TCGA-S2-AA1A-01                      16.85                           3   \n",
       "\n",
       "Entrez_Gene_Id   Tissue Source Site  \\\n",
       "Sample ID                             \n",
       "TCGA-05-4244-01                   1   \n",
       "TCGA-05-4249-01                   1   \n",
       "TCGA-05-4250-01                   1   \n",
       "TCGA-05-4382-01                   1   \n",
       "TCGA-05-4384-01                   1   \n",
       "...                             ...   \n",
       "TCGA-NJ-A55O-01                  29   \n",
       "TCGA-NJ-A55R-01                  29   \n",
       "TCGA-NJ-A7XG-01                  29   \n",
       "TCGA-O1-A52J-01                  30   \n",
       "TCGA-S2-AA1A-01                  31   \n",
       "\n",
       "Entrez_Gene_Id   Neoplasm Disease Stage American Joint Committee on Cancer Code.1  \\\n",
       "Sample ID                                                                           \n",
       "TCGA-05-4244-01                                                  1                  \n",
       "TCGA-05-4249-01                                                  2                  \n",
       "TCGA-05-4250-01                                                  3                  \n",
       "TCGA-05-4382-01                                                  2                  \n",
       "TCGA-05-4384-01                                                  3                  \n",
       "...                                                            ...                  \n",
       "TCGA-NJ-A55O-01                                                  7                  \n",
       "TCGA-NJ-A55R-01                                                  4                  \n",
       "TCGA-NJ-A7XG-01                                                  3                  \n",
       "TCGA-O1-A52J-01                                                  4                  \n",
       "TCGA-S2-AA1A-01                                                  4                  \n",
       "\n",
       "Entrez_Gene_Id   Patient Smoking History Category  Fraction Genome Altered  \n",
       "Sample ID                                                                   \n",
       "TCGA-05-4244-01                               4.0                   0.4565  \n",
       "TCGA-05-4249-01                               3.0                   0.2221  \n",
       "TCGA-05-4250-01                               4.0                   0.2362  \n",
       "TCGA-05-4382-01                               4.0                   0.0854  \n",
       "TCGA-05-4384-01                               3.0                   0.0661  \n",
       "...                                           ...                      ...  \n",
       "TCGA-NJ-A55O-01                               4.0                   0.0194  \n",
       "TCGA-NJ-A55R-01                               3.0                   0.0760  \n",
       "TCGA-NJ-A7XG-01                               3.0                   0.4205  \n",
       "TCGA-O1-A52J-01                               3.0                   0.5443  \n",
       "TCGA-S2-AA1A-01                               3.0                   0.0598  \n",
       "\n",
       "[462 rows x 20544 columns]"
      ]
     },
     "execution_count": 10,
     "metadata": {},
     "output_type": "execute_result"
    }
   ],
   "source": [
    "sex = meta_patients.loc[meta_patients[\"Patient's Vital Status\"].dropna().index,\"Sex\"]\n",
    "sex=sex.replace(\"Male\",1)\n",
    "sex=sex.replace(\"MALE\",1)\n",
    "sex=sex.replace(\"Female\",0)\n",
    "data_scaled_ref=data_scaled.loc[meta_patients[\"Patient's Vital Status\"].dropna().index,:] \n",
    "data_scaled_ref['Sex']=sex\n",
    "\n",
    "def var_converter(var):\n",
    "    dic={}\n",
    "    c = 0\n",
    "    for i in var.index:\n",
    "        if var[i] not in dic.keys():\n",
    "            dic[var[i]]=dic.get(var[i],c+1)\n",
    "            c+=1\n",
    "            var[i]=c\n",
    "        else:\n",
    "            var[i]=dic[var[i]]\n",
    "\n",
    "\n",
    "\n",
    "\n",
    "labels = [\"Diagnosis Age\",'American Joint Committee on Cancer Metastasis Stage Code',\n",
    "            'American Joint Committee on Cancer Metastasis Stage Code', \n",
    "            'Neoplasm Disease Lymph Node Stage American Joint Committee on Cancer Code',\n",
    "            'American Joint Committee on Cancer Tumor Stage Code', \n",
    "            'Prior Cancer Diagnosis Occurence','ICD-10 Classification',\"Overall Survival (Months)\", 'Patient Primary Tumor Site',\n",
    "            'Tissue Source Site','Neoplasm Disease Stage American Joint Committee on Cancer Code.1', \n",
    "            'Patient Smoking History Category', 'Fraction Genome Altered']\n",
    "\n",
    "for label in labels:\n",
    "    data_scaled_ref = data_scaled_ref.loc[-meta_patients[label].isna(),:]\n",
    "    label_var = meta_patients.loc[data_scaled_ref.index,label]\n",
    "    if type(meta_patients[label].tolist()[0])==str:\n",
    "        var_converter(label_var)\n",
    "    data_scaled_ref[label]=label_var\n",
    "\n",
    "data_scaled_ref\n"
   ]
  },
  {
   "cell_type": "code",
   "execution_count": 11,
   "metadata": {},
   "outputs": [],
   "source": [
    "from sklearn.preprocessing import LabelEncoder\n",
    "\n",
    "indices = np.random.permutation(data_scaled_ref.index)\n",
    "\n",
    "input_data=data_scaled_ref.values\n",
    "output_data_=meta_patients.loc[data_scaled_ref.index,\"Patient's Vital Status\"].values\n",
    "\n",
    "train_in = data_scaled_ref.loc[indices[:-100]].values\n",
    "train_out = meta_patients.loc[indices[:-100],\"Patient's Vital Status\"].values\n",
    "\n",
    "test_in  = data_scaled_ref.loc[indices[-100:]].values\n",
    "test_out = meta_patients.loc[indices[-100:],\"Patient's Vital Status\"].values\n",
    "\n",
    "\n",
    "labelencoder_Y = LabelEncoder()\n",
    "train_out = labelencoder_Y.fit_transform(train_out.astype(str))\n",
    "test_out = labelencoder_Y.fit_transform(test_out.astype(str))\n",
    "output_data = labelencoder_Y.fit_transform(output_data_.astype(str))"
   ]
  },
  {
   "cell_type": "code",
   "execution_count": 13,
   "metadata": {},
   "outputs": [
    {
     "data": {
      "text/plain": [
       "{'Alive': 300, 'Dead': 162}"
      ]
     },
     "execution_count": 13,
     "metadata": {},
     "output_type": "execute_result"
    }
   ],
   "source": [
    "unique, counts = np.unique(output_data_, return_counts=True)\n",
    "dict(zip(unique, counts))"
   ]
  },
  {
   "cell_type": "markdown",
   "metadata": {},
   "source": [
    "Since there is a relative discrepancy between the size of the two values it was not sure if the accuracy would be the best metric to evaluate the models, hence other metrics such as recall, precision and f1 were taken into account. Moreover, for the cross validation the scoring metric 'f1' was used, since it was concluded to be a good metric to assess the model scoring with a binary endpoint  "
   ]
  },
  {
   "cell_type": "markdown",
   "metadata": {},
   "source": [
    "### Approach: K Nearest Neighbors (KNN) Classifier"
   ]
  },
  {
   "cell_type": "code",
   "execution_count": 61,
   "metadata": {},
   "outputs": [
    {
     "name": "stdout",
     "output_type": "stream",
     "text": [
      "PECC:  62.0\n",
      "\n",
      " Confusion Matrix \n",
      "[[46 22]\n",
      " [16 16]]\n",
      "              precision    recall  f1-score   support\n",
      "\n",
      "           0       0.74      0.68      0.71        68\n",
      "           1       0.42      0.50      0.46        32\n",
      "\n",
      "    accuracy                           0.62       100\n",
      "   macro avg       0.58      0.59      0.58       100\n",
      "weighted avg       0.64      0.62      0.63       100\n",
      "\n",
      "cross validation mean f1 score:  0.40472865126009144\n"
     ]
    }
   ],
   "source": [
    "from sklearn.neighbors import KNeighborsClassifier\n",
    "from sklearn.model_selection import cross_val_score\n",
    "from sklearn.model_selection import ShuffleSplit\n",
    "from sklearn.model_selection import LeaveOneOut\n",
    "import sklearn as sk\n",
    "from sklearn.metrics import classification_report\n",
    "\n",
    "\n",
    "#KNeighbors model\n",
    "knn = KNeighborsClassifier()\n",
    "knn.fit(train_in, train_out)\n",
    "prev = knn.predict(test_in)\n",
    "\n",
    "print (\"PECC: \", sum([str(prev[i])==(str(test_out[i])) for i in range(len(prev))])/len(prev) *100)\n",
    "print()\n",
    "print(\" Confusion Matrix \")\n",
    "print(sk.metrics.confusion_matrix(test_out, prev, labels=list(set(output_data)), sample_weight=None))\n",
    "print(classification_report(test_out,prev))\n",
    "\n",
    "#model evaluation using the cross validation method\n",
    "scores_cv_knn = cross_val_score(knn, input_data, output_data, cv = 5,scoring='f1')\n",
    "print(\"cross validation mean f1 score: \",scores_cv_knn.mean())\n",
    "\n",
    "\n"
   ]
  },
  {
   "cell_type": "markdown",
   "metadata": {},
   "source": [
    "### Ensemble bagging with KNN"
   ]
  },
  {
   "cell_type": "code",
   "execution_count": 62,
   "metadata": {},
   "outputs": [
    {
     "name": "stdout",
     "output_type": "stream",
     "text": [
      "cross validation mean f1 score:  0.36262048353891796\n"
     ]
    }
   ],
   "source": [
    "from sklearn.ensemble import BaggingClassifier\n",
    "from sklearn.neighbors import KNeighborsClassifier\n",
    "from sklearn.model_selection import cross_val_score\n",
    "from sklearn.model_selection import cross_val_predict, KFold\n",
    "\n",
    "#ensemble bagging KNeighbors\n",
    "bagged_knn = BaggingClassifier(KNeighborsClassifier(),max_samples=0.8, max_features=0.8)\n",
    "scores_bag_knn = cross_val_score(bagged_knn, input_data, output_data, cv = 5,scoring='f1')\n",
    "\n",
    "print(\"cross validation mean f1 score: \", scores_bag_knn.mean())\n"
   ]
  },
  {
   "cell_type": "markdown",
   "metadata": {},
   "source": [
    "### Approach: Decision Tree"
   ]
  },
  {
   "cell_type": "code",
   "execution_count": 63,
   "metadata": {},
   "outputs": [
    {
     "name": "stdout",
     "output_type": "stream",
     "text": [
      "PECC:  59.0\n",
      "\n",
      " Confusion Matrix \n",
      "[[43 25]\n",
      " [16 16]]\n",
      "              precision    recall  f1-score   support\n",
      "\n",
      "           0       0.73      0.63      0.68        68\n",
      "           1       0.39      0.50      0.44        32\n",
      "\n",
      "    accuracy                           0.59       100\n",
      "   macro avg       0.56      0.57      0.56       100\n",
      "weighted avg       0.62      0.59      0.60       100\n",
      "\n",
      "cross validation mean f1 score:  0.43684870896138506\n"
     ]
    }
   ],
   "source": [
    "from sklearn import tree\n",
    "\n",
    "#Decision tree model\n",
    "tree_model = tree.DecisionTreeClassifier()\n",
    "tree_model = tree_model.fit(train_in, train_out)\n",
    "prev = tree_model.predict(test_in)\n",
    "\n",
    "print (\"PECC: \", sum([str(prev[i])==(str(test_out[i])) for i in range(len(prev))])/len(prev) *100)\n",
    "print()\n",
    "print(\" Confusion Matrix \")\n",
    "print(sk.metrics.confusion_matrix(test_out, prev, labels=list(set(output_data)), sample_weight=None))\n",
    "print(classification_report(test_out,prev))\n",
    "\n",
    "#model evaluation using the cross validation method\n",
    "scores_cv_tree = cross_val_score(tree_model, input_data, output_data, cv = 5,scoring='f1')\n",
    "print(\"cross validation mean f1 score: \",scores_cv_tree.mean())\n"
   ]
  },
  {
   "cell_type": "markdown",
   "metadata": {},
   "source": [
    "### Ensemble bagging with Decision Tree"
   ]
  },
  {
   "cell_type": "code",
   "execution_count": 64,
   "metadata": {},
   "outputs": [
    {
     "name": "stdout",
     "output_type": "stream",
     "text": [
      "cross validation mean f1 score:  0.2973247863247863\n"
     ]
    }
   ],
   "source": [
    "from sklearn.ensemble import BaggingClassifier\n",
    "from sklearn import tree\n",
    "from sklearn.model_selection import cross_val_score\n",
    "\n",
    "#ensemble bagging Decision Tree\n",
    "\n",
    "bagged_dt = BaggingClassifier(tree.DecisionTreeClassifier(), max_samples=0.8, max_features=0.8)\n",
    "scores_bag_dt = cross_val_score(bagged_dt, input_data, output_data, cv = 5,scoring='f1')\n",
    "\n",
    "print(\"cross validation mean f1 score: \", scores_bag_dt.mean())"
   ]
  },
  {
   "cell_type": "markdown",
   "metadata": {},
   "source": [
    "### Random forest"
   ]
  },
  {
   "cell_type": "code",
   "execution_count": null,
   "metadata": {},
   "outputs": [],
   "source": [
    "from sklearn.ensemble import RandomForestClassifier\n",
    "from sklearn.model_selection import cross_val_score\n",
    "\n",
    "#ensemble random forest\n",
    "\n",
    "rf_model = RandomForestClassifier(n_estimators=100)\n",
    "scores_rf = cross_val_score(rf_model, input_data, output_data, cv = 5,scoring='f1')\n",
    "\n",
    "print (\"cross validation mean f1 score: \", scores_rf.mean())"
   ]
  },
  {
   "cell_type": "markdown",
   "metadata": {},
   "source": [
    "### Approach: Support Vector Machine (SVM)"
   ]
  },
  {
   "cell_type": "code",
   "execution_count": 65,
   "metadata": {},
   "outputs": [
    {
     "name": "stdout",
     "output_type": "stream",
     "text": [
      "0.62\n",
      "\n",
      " Confusion Matrix \n",
      "[[58 10]\n",
      " [28  4]]\n",
      "              precision    recall  f1-score   support\n",
      "\n",
      "           0       0.67      0.85      0.75        68\n",
      "           1       0.29      0.12      0.17        32\n",
      "\n",
      "    accuracy                           0.62       100\n",
      "   macro avg       0.48      0.49      0.46       100\n",
      "weighted avg       0.55      0.62      0.57       100\n",
      "\n",
      "cross validation mean f1 score:  0.15511539028566892\n"
     ]
    }
   ],
   "source": [
    "from sklearn import svm\n",
    "\n",
    "svm_model = svm.SVC(gamma = \"scale\")\n",
    "svm_model.fit(train_in, train_out)\n",
    "prev = svm_model.predict(test_in)\n",
    "print(svm_model.score(test_in, test_out))\n",
    "print()\n",
    "print(\" Confusion Matrix \")\n",
    "print(sklearn.metrics.confusion_matrix(test_out, prev, labels=list(set(output_data)), sample_weight=None, normalize=None))\n",
    "print(classification_report(test_out,prev))\n",
    "\n",
    "scores_cv_svm=cross_val_score(svm_model, input_data, y = output_data, cv = 5,scoring='f1')\n",
    "print(\"cross validation mean f1 score: \",scores_cv_svm.mean())"
   ]
  },
  {
   "cell_type": "markdown",
   "metadata": {},
   "source": [
    "### Approach: Gaussian Model (Naive-Bayes)"
   ]
  },
  {
   "cell_type": "code",
   "execution_count": 66,
   "metadata": {},
   "outputs": [
    {
     "name": "stdout",
     "output_type": "stream",
     "text": [
      "PECC:  54.0\n",
      "\n",
      " Confusion Matrix \n",
      "[[38 30]\n",
      " [16 16]]\n",
      "              precision    recall  f1-score   support\n",
      "\n",
      "           0       0.70      0.56      0.62        68\n",
      "           1       0.35      0.50      0.41        32\n",
      "\n",
      "    accuracy                           0.54       100\n",
      "   macro avg       0.53      0.53      0.52       100\n",
      "weighted avg       0.59      0.54      0.55       100\n",
      "\n",
      "cross validation mean f1 score:  0.5194300938251516\n"
     ]
    }
   ],
   "source": [
    "from sklearn.naive_bayes import GaussianNB\n",
    "\n",
    "#GaussianNB model\n",
    "gnb_model = GaussianNB()\n",
    "gnb_model = gnb_model.fit(train_in, train_out)\n",
    "prev = gnb_model.predict(test_in)\n",
    "\n",
    "print (\"PECC: \", sum([str(prev[i])==(str(test_out[i])) for i in range(len(prev))])/len(prev) *100)\n",
    "print()\n",
    "print(\" Confusion Matrix \")\n",
    "print(sk.metrics.confusion_matrix(test_out, prev, labels=list(set(output_data)), sample_weight=None))\n",
    "\n",
    "print(classification_report(test_out,prev))\n",
    "\n",
    "#model evaluation using the cross validation method\n",
    "scores_cv_gnb=cross_val_score(gnb_model, input_data, y = output_data, cv = 10,scoring='f1')\n",
    "print(\"cross validation mean f1 score: \",scores_cv_gnb.mean())"
   ]
  },
  {
   "cell_type": "markdown",
   "metadata": {},
   "source": [
    "### Approach: Logistic Regression"
   ]
  },
  {
   "cell_type": "code",
   "execution_count": 67,
   "metadata": {},
   "outputs": [
    {
     "name": "stdout",
     "output_type": "stream",
     "text": [
      "LogisticRegression(C=1.0, class_weight=None, dual=False, fit_intercept=True,\n",
      "                   intercept_scaling=1, l1_ratio=None, max_iter=100,\n",
      "                   multi_class='multinomial', n_jobs=None, penalty='l2',\n",
      "                   random_state=2, solver='newton-cg', tol=0.0001, verbose=0,\n",
      "                   warm_start=False)\n",
      "PECC:  61.0\n",
      "\n",
      " Confusion Matrix \n",
      "[[42 26]\n",
      " [13 19]]\n",
      "              precision    recall  f1-score   support\n",
      "\n",
      "           0       0.76      0.62      0.68        68\n",
      "           1       0.42      0.59      0.49        32\n",
      "\n",
      "    accuracy                           0.61       100\n",
      "   macro avg       0.59      0.61      0.59       100\n",
      "weighted avg       0.65      0.61      0.62       100\n",
      "\n",
      "cross validation mean f1 score:  0.3924942457923461\n"
     ]
    }
   ],
   "source": [
    "from sklearn import linear_model\n",
    "\n",
    "#logistic regression model\n",
    "logistic = linear_model.LogisticRegression(solver='newton-cg', multi_class='multinomial', random_state=2)\n",
    "logistic = logistic.fit(train_in, train_out)\n",
    "prev = logistic.predict(test_in)\n",
    "print(logistic)\n",
    "\n",
    "print (\"PECC: \", sum([str(prev[i])==(str(test_out[i])) for i in range(len(prev))])/len(prev) *100)\n",
    "print()\n",
    "print(\" Confusion Matrix \")\n",
    "print(sk.metrics.confusion_matrix(test_out, prev, labels=list(set(output_data)), sample_weight=None))\n",
    "print(classification_report(test_out,prev))\n",
    "\n",
    "#model evaluation using the cross validation method\n",
    "scores_cv_logistic=cross_val_score(logistic, input_data, y = output_data, cv = 5,scoring='f1')\n",
    "print(\"cross validation mean f1 score: \",scores_cv_logistic.mean())\n",
    "\n"
   ]
  },
  {
   "cell_type": "markdown",
   "metadata": {},
   "source": [
    "### Ada Boost Classifier"
   ]
  },
  {
   "cell_type": "code",
   "execution_count": 68,
   "metadata": {},
   "outputs": [
    {
     "name": "stdout",
     "output_type": "stream",
     "text": [
      "cross validation mean f1 score:  0.3130603948896632\n"
     ]
    }
   ],
   "source": [
    "from sklearn.ensemble import AdaBoostClassifier\n",
    "from sklearn.model_selection import cross_val_score\n",
    "\n",
    "#ensemble boosting \n",
    "\n",
    "ada_tree = AdaBoostClassifier(n_estimators=100)\n",
    "\n",
    "scores_ada = cross_val_score(ada_tree, train_in, train_out, cv = 5,scoring='f1')\n",
    "\n",
    "print (\"cross validation mean f1 score: \", scores_ada.mean())\n"
   ]
  },
  {
   "cell_type": "markdown",
   "metadata": {},
   "source": [
    "### Feature selection "
   ]
  },
  {
   "cell_type": "markdown",
   "metadata": {},
   "source": [
    "For feature selection the model with best results was used"
   ]
  },
  {
   "cell_type": "code",
   "execution_count": 14,
   "metadata": {},
   "outputs": [
    {
     "name": "stdout",
     "output_type": "stream",
     "text": [
      "shape of input_data after feature selection:  (462, 2055)\n",
      "cross validation mean f1 score before feature selection:  0.37767841003707175\n",
      "cross validation mean f1 score after feature selection:  0.3967574989306738\n"
     ]
    }
   ],
   "source": [
    "from sklearn.feature_selection import VarianceThreshold\n",
    "from sklearn.model_selection import cross_val_score\n",
    "from sklearn.feature_selection import SelectPercentile\n",
    "from sklearn.ensemble import BaggingClassifier\n",
    "from sklearn import tree\n",
    "\n",
    "#Select features according to a percentile of the highest scores\n",
    "\n",
    "filt = SelectPercentile().fit_transform(input_data, output_data)\n",
    "print (\"shape of input_data after feature selection: \", filt.shape)\n",
    "\n",
    "dec_tree = tree.DecisionTreeClassifier()\n",
    "scores= cross_val_score(dec_tree, input_data, output_data, cv= 10,scoring='f1')\n",
    "print (\"cross validation mean f1 score before feature selection: \", scores.mean())\n",
    "\n",
    "scores_sp = cross_val_score(dec_tree, filt, output_data, cv= 10,scoring='f1')\n",
    "print(\"cross validation mean f1 score after feature selection: \", scores_sp.mean())"
   ]
  },
  {
   "cell_type": "markdown",
   "metadata": {},
   "source": [
    "### Grid Search"
   ]
  },
  {
   "cell_type": "markdown",
   "metadata": {},
   "source": [
    "For the grid search the model with the best results was used as well as the input data after feature selection"
   ]
  },
  {
   "cell_type": "code",
   "execution_count": 15,
   "metadata": {
    "scrolled": true
   },
   "outputs": [
    {
     "name": "stdout",
     "output_type": "stream",
     "text": [
      "parameters that best optimize the model score:  DecisionTreeClassifier(class_weight=None, criterion='gini', max_depth=None,\n",
      "            max_features='auto', max_leaf_nodes=None,\n",
      "            min_impurity_decrease=0.0, min_impurity_split=None,\n",
      "            min_samples_leaf=1, min_samples_split=2,\n",
      "            min_weight_fraction_leaf=0.0, presort=False, random_state=None,\n",
      "            splitter='best')\n",
      "cross validation mean f1 score:  0.3827657677864803\n"
     ]
    }
   ],
   "source": [
    "parameters = {'criterion':('gini', 'entropy'), 'splitter':(\"best\" , \"random\"),'max_features':(\"auto\", \"sqrt\", \"log2\")}\n",
    "\n",
    "decision_tree_model_d = tree.DecisionTreeClassifier()\n",
    "opt_model_d = GridSearchCV(decision_tree_model_d, parameters)\n",
    "opt_model_d.fit(filt, output_data)\n",
    "print (\"parameters that best optimize the model score: \", opt_model_d.best_estimator_)\n",
    "\n",
    "scores_gs = cross_val_score(opt_model_d, filt, output_data, cv = 5,scoring='f1')\n",
    "print (\"cross validation mean f1 score: \", scores_gs.mean())"
   ]
  },
  {
   "cell_type": "markdown",
   "metadata": {},
   "source": [
    "A bagged decision tree with the best parameters was performed to further improve the score"
   ]
  },
  {
   "cell_type": "markdown",
   "metadata": {},
   "source": [
    "## Multi variable endpoint"
   ]
  },
  {
   "cell_type": "markdown",
   "metadata": {},
   "source": [
    "The multi variable endpoint was thought to be relevant was the 'Patient Smoking History Category' comprising values of '1', '2','3','4' and '5'. This variable reports the smoking status and history of the patient."
   ]
  },
  {
   "cell_type": "markdown",
   "metadata": {},
   "source": [
    "## Patient's Smoking History Category"
   ]
  },
  {
   "cell_type": "markdown",
   "metadata": {},
   "source": [
    "### Data preparation"
   ]
  },
  {
   "cell_type": "code",
   "execution_count": 16,
   "metadata": {},
   "outputs": [
    {
     "data": {
      "text/html": [
       "<div>\n",
       "<style scoped>\n",
       "    .dataframe tbody tr th:only-of-type {\n",
       "        vertical-align: middle;\n",
       "    }\n",
       "\n",
       "    .dataframe tbody tr th {\n",
       "        vertical-align: top;\n",
       "    }\n",
       "\n",
       "    .dataframe thead th {\n",
       "        text-align: right;\n",
       "    }\n",
       "</style>\n",
       "<table border=\"1\" class=\"dataframe\">\n",
       "  <thead>\n",
       "    <tr style=\"text-align: right;\">\n",
       "      <th>Entrez_Gene_Id</th>\n",
       "      <th>100130426</th>\n",
       "      <th>100133144</th>\n",
       "      <th>100134869</th>\n",
       "      <th>10357</th>\n",
       "      <th>10431</th>\n",
       "      <th>136542</th>\n",
       "      <th>155060</th>\n",
       "      <th>26823</th>\n",
       "      <th>280660</th>\n",
       "      <th>317712</th>\n",
       "      <th>...</th>\n",
       "      <th>American Joint Committee on Cancer Metastasis Stage Code</th>\n",
       "      <th>Neoplasm Disease Lymph Node Stage American Joint Committee on Cancer Code</th>\n",
       "      <th>American Joint Committee on Cancer Tumor Stage Code</th>\n",
       "      <th>Prior Cancer Diagnosis Occurence</th>\n",
       "      <th>ICD-10 Classification</th>\n",
       "      <th>Overall Survival (Months)</th>\n",
       "      <th>Patient Primary Tumor Site</th>\n",
       "      <th>Tissue Source Site</th>\n",
       "      <th>Neoplasm Disease Stage American Joint Committee on Cancer Code.1</th>\n",
       "      <th>Fraction Genome Altered</th>\n",
       "    </tr>\n",
       "    <tr>\n",
       "      <th>Sample ID</th>\n",
       "      <th></th>\n",
       "      <th></th>\n",
       "      <th></th>\n",
       "      <th></th>\n",
       "      <th></th>\n",
       "      <th></th>\n",
       "      <th></th>\n",
       "      <th></th>\n",
       "      <th></th>\n",
       "      <th></th>\n",
       "      <th></th>\n",
       "      <th></th>\n",
       "      <th></th>\n",
       "      <th></th>\n",
       "      <th></th>\n",
       "      <th></th>\n",
       "      <th></th>\n",
       "      <th></th>\n",
       "      <th></th>\n",
       "      <th></th>\n",
       "      <th></th>\n",
       "    </tr>\n",
       "  </thead>\n",
       "  <tbody>\n",
       "    <tr>\n",
       "      <th>TCGA-05-4244-01</th>\n",
       "      <td>-0.237976</td>\n",
       "      <td>-0.235534</td>\n",
       "      <td>-0.235224</td>\n",
       "      <td>-0.225879</td>\n",
       "      <td>-0.030925</td>\n",
       "      <td>-0.237976</td>\n",
       "      <td>-0.153776</td>\n",
       "      <td>-0.237720</td>\n",
       "      <td>-0.237976</td>\n",
       "      <td>-0.237976</td>\n",
       "      <td>...</td>\n",
       "      <td>1</td>\n",
       "      <td>1</td>\n",
       "      <td>1</td>\n",
       "      <td>1</td>\n",
       "      <td>1</td>\n",
       "      <td>0.00</td>\n",
       "      <td>1</td>\n",
       "      <td>1</td>\n",
       "      <td>1</td>\n",
       "      <td>0.4565</td>\n",
       "    </tr>\n",
       "    <tr>\n",
       "      <th>TCGA-05-4249-01</th>\n",
       "      <td>-0.284208</td>\n",
       "      <td>-0.281997</td>\n",
       "      <td>-0.280385</td>\n",
       "      <td>-0.256397</td>\n",
       "      <td>-0.000292</td>\n",
       "      <td>-0.284208</td>\n",
       "      <td>-0.239593</td>\n",
       "      <td>-0.283713</td>\n",
       "      <td>-0.284208</td>\n",
       "      <td>-0.284208</td>\n",
       "      <td>...</td>\n",
       "      <td>2</td>\n",
       "      <td>2</td>\n",
       "      <td>1</td>\n",
       "      <td>1</td>\n",
       "      <td>1</td>\n",
       "      <td>50.03</td>\n",
       "      <td>1</td>\n",
       "      <td>1</td>\n",
       "      <td>2</td>\n",
       "      <td>0.2221</td>\n",
       "    </tr>\n",
       "    <tr>\n",
       "      <th>TCGA-05-4250-01</th>\n",
       "      <td>-0.262620</td>\n",
       "      <td>-0.260657</td>\n",
       "      <td>-0.260989</td>\n",
       "      <td>-0.249197</td>\n",
       "      <td>0.046482</td>\n",
       "      <td>-0.262620</td>\n",
       "      <td>-0.248603</td>\n",
       "      <td>-0.262620</td>\n",
       "      <td>-0.262620</td>\n",
       "      <td>-0.262620</td>\n",
       "      <td>...</td>\n",
       "      <td>2</td>\n",
       "      <td>3</td>\n",
       "      <td>2</td>\n",
       "      <td>1</td>\n",
       "      <td>1</td>\n",
       "      <td>3.98</td>\n",
       "      <td>1</td>\n",
       "      <td>1</td>\n",
       "      <td>3</td>\n",
       "      <td>0.2362</td>\n",
       "    </tr>\n",
       "    <tr>\n",
       "      <th>TCGA-05-4382-01</th>\n",
       "      <td>-0.237402</td>\n",
       "      <td>-0.234666</td>\n",
       "      <td>-0.235573</td>\n",
       "      <td>-0.217408</td>\n",
       "      <td>-0.042566</td>\n",
       "      <td>-0.237402</td>\n",
       "      <td>-0.179465</td>\n",
       "      <td>-0.237286</td>\n",
       "      <td>-0.237344</td>\n",
       "      <td>-0.237402</td>\n",
       "      <td>...</td>\n",
       "      <td>2</td>\n",
       "      <td>2</td>\n",
       "      <td>1</td>\n",
       "      <td>2</td>\n",
       "      <td>2</td>\n",
       "      <td>19.94</td>\n",
       "      <td>2</td>\n",
       "      <td>1</td>\n",
       "      <td>2</td>\n",
       "      <td>0.0854</td>\n",
       "    </tr>\n",
       "    <tr>\n",
       "      <th>TCGA-05-4384-01</th>\n",
       "      <td>-0.216851</td>\n",
       "      <td>-0.216084</td>\n",
       "      <td>-0.216020</td>\n",
       "      <td>-0.199591</td>\n",
       "      <td>-0.083119</td>\n",
       "      <td>-0.216851</td>\n",
       "      <td>-0.151584</td>\n",
       "      <td>-0.216706</td>\n",
       "      <td>-0.216851</td>\n",
       "      <td>-0.216851</td>\n",
       "      <td>...</td>\n",
       "      <td>2</td>\n",
       "      <td>1</td>\n",
       "      <td>1</td>\n",
       "      <td>2</td>\n",
       "      <td>1</td>\n",
       "      <td>13.99</td>\n",
       "      <td>1</td>\n",
       "      <td>1</td>\n",
       "      <td>3</td>\n",
       "      <td>0.0661</td>\n",
       "    </tr>\n",
       "    <tr>\n",
       "      <th>...</th>\n",
       "      <td>...</td>\n",
       "      <td>...</td>\n",
       "      <td>...</td>\n",
       "      <td>...</td>\n",
       "      <td>...</td>\n",
       "      <td>...</td>\n",
       "      <td>...</td>\n",
       "      <td>...</td>\n",
       "      <td>...</td>\n",
       "      <td>...</td>\n",
       "      <td>...</td>\n",
       "      <td>...</td>\n",
       "      <td>...</td>\n",
       "      <td>...</td>\n",
       "      <td>...</td>\n",
       "      <td>...</td>\n",
       "      <td>...</td>\n",
       "      <td>...</td>\n",
       "      <td>...</td>\n",
       "      <td>...</td>\n",
       "      <td>...</td>\n",
       "    </tr>\n",
       "    <tr>\n",
       "      <th>TCGA-NJ-A55O-01</th>\n",
       "      <td>-0.181073</td>\n",
       "      <td>-0.178148</td>\n",
       "      <td>-0.176740</td>\n",
       "      <td>-0.162191</td>\n",
       "      <td>-0.016355</td>\n",
       "      <td>-0.181073</td>\n",
       "      <td>-0.132801</td>\n",
       "      <td>-0.180853</td>\n",
       "      <td>-0.181073</td>\n",
       "      <td>-0.181073</td>\n",
       "      <td>...</td>\n",
       "      <td>2</td>\n",
       "      <td>3</td>\n",
       "      <td>6</td>\n",
       "      <td>1</td>\n",
       "      <td>2</td>\n",
       "      <td>0.43</td>\n",
       "      <td>3</td>\n",
       "      <td>29</td>\n",
       "      <td>7</td>\n",
       "      <td>0.0194</td>\n",
       "    </tr>\n",
       "    <tr>\n",
       "      <th>TCGA-NJ-A55R-01</th>\n",
       "      <td>-0.268213</td>\n",
       "      <td>-0.265791</td>\n",
       "      <td>-0.265243</td>\n",
       "      <td>-0.246717</td>\n",
       "      <td>-0.047634</td>\n",
       "      <td>-0.268213</td>\n",
       "      <td>-0.161691</td>\n",
       "      <td>-0.268006</td>\n",
       "      <td>-0.268213</td>\n",
       "      <td>-0.268213</td>\n",
       "      <td>...</td>\n",
       "      <td>3</td>\n",
       "      <td>2</td>\n",
       "      <td>6</td>\n",
       "      <td>1</td>\n",
       "      <td>2</td>\n",
       "      <td>19.81</td>\n",
       "      <td>2</td>\n",
       "      <td>29</td>\n",
       "      <td>4</td>\n",
       "      <td>0.0760</td>\n",
       "    </tr>\n",
       "    <tr>\n",
       "      <th>TCGA-NJ-A7XG-01</th>\n",
       "      <td>-0.113118</td>\n",
       "      <td>-0.108331</td>\n",
       "      <td>-0.104085</td>\n",
       "      <td>-0.103611</td>\n",
       "      <td>-0.037644</td>\n",
       "      <td>-0.113118</td>\n",
       "      <td>-0.075840</td>\n",
       "      <td>-0.113118</td>\n",
       "      <td>-0.113118</td>\n",
       "      <td>-0.113118</td>\n",
       "      <td>...</td>\n",
       "      <td>2</td>\n",
       "      <td>3</td>\n",
       "      <td>4</td>\n",
       "      <td>1</td>\n",
       "      <td>2</td>\n",
       "      <td>20.27</td>\n",
       "      <td>2</td>\n",
       "      <td>29</td>\n",
       "      <td>3</td>\n",
       "      <td>0.4205</td>\n",
       "    </tr>\n",
       "    <tr>\n",
       "      <th>TCGA-O1-A52J-01</th>\n",
       "      <td>-0.154371</td>\n",
       "      <td>-0.152194</td>\n",
       "      <td>-0.150632</td>\n",
       "      <td>-0.144922</td>\n",
       "      <td>0.021401</td>\n",
       "      <td>-0.154371</td>\n",
       "      <td>-0.127972</td>\n",
       "      <td>-0.153927</td>\n",
       "      <td>-0.154371</td>\n",
       "      <td>-0.154371</td>\n",
       "      <td>...</td>\n",
       "      <td>3</td>\n",
       "      <td>2</td>\n",
       "      <td>3</td>\n",
       "      <td>1</td>\n",
       "      <td>1</td>\n",
       "      <td>59.07</td>\n",
       "      <td>5</td>\n",
       "      <td>30</td>\n",
       "      <td>4</td>\n",
       "      <td>0.5443</td>\n",
       "    </tr>\n",
       "    <tr>\n",
       "      <th>TCGA-S2-AA1A-01</th>\n",
       "      <td>-0.141034</td>\n",
       "      <td>-0.138143</td>\n",
       "      <td>-0.139774</td>\n",
       "      <td>-0.130202</td>\n",
       "      <td>-0.061419</td>\n",
       "      <td>-0.141034</td>\n",
       "      <td>-0.087896</td>\n",
       "      <td>-0.140942</td>\n",
       "      <td>-0.141034</td>\n",
       "      <td>-0.141034</td>\n",
       "      <td>...</td>\n",
       "      <td>2</td>\n",
       "      <td>2</td>\n",
       "      <td>6</td>\n",
       "      <td>1</td>\n",
       "      <td>2</td>\n",
       "      <td>16.85</td>\n",
       "      <td>3</td>\n",
       "      <td>31</td>\n",
       "      <td>4</td>\n",
       "      <td>0.0598</td>\n",
       "    </tr>\n",
       "  </tbody>\n",
       "</table>\n",
       "<p>462 rows × 20543 columns</p>\n",
       "</div>"
      ],
      "text/plain": [
       "Entrez_Gene_Id   100130426  100133144  100134869     10357     10431  \\\n",
       "Sample ID                                                              \n",
       "TCGA-05-4244-01  -0.237976  -0.235534  -0.235224 -0.225879 -0.030925   \n",
       "TCGA-05-4249-01  -0.284208  -0.281997  -0.280385 -0.256397 -0.000292   \n",
       "TCGA-05-4250-01  -0.262620  -0.260657  -0.260989 -0.249197  0.046482   \n",
       "TCGA-05-4382-01  -0.237402  -0.234666  -0.235573 -0.217408 -0.042566   \n",
       "TCGA-05-4384-01  -0.216851  -0.216084  -0.216020 -0.199591 -0.083119   \n",
       "...                    ...        ...        ...       ...       ...   \n",
       "TCGA-NJ-A55O-01  -0.181073  -0.178148  -0.176740 -0.162191 -0.016355   \n",
       "TCGA-NJ-A55R-01  -0.268213  -0.265791  -0.265243 -0.246717 -0.047634   \n",
       "TCGA-NJ-A7XG-01  -0.113118  -0.108331  -0.104085 -0.103611 -0.037644   \n",
       "TCGA-O1-A52J-01  -0.154371  -0.152194  -0.150632 -0.144922  0.021401   \n",
       "TCGA-S2-AA1A-01  -0.141034  -0.138143  -0.139774 -0.130202 -0.061419   \n",
       "\n",
       "Entrez_Gene_Id     136542    155060     26823    280660    317712  ...  \\\n",
       "Sample ID                                                          ...   \n",
       "TCGA-05-4244-01 -0.237976 -0.153776 -0.237720 -0.237976 -0.237976  ...   \n",
       "TCGA-05-4249-01 -0.284208 -0.239593 -0.283713 -0.284208 -0.284208  ...   \n",
       "TCGA-05-4250-01 -0.262620 -0.248603 -0.262620 -0.262620 -0.262620  ...   \n",
       "TCGA-05-4382-01 -0.237402 -0.179465 -0.237286 -0.237344 -0.237402  ...   \n",
       "TCGA-05-4384-01 -0.216851 -0.151584 -0.216706 -0.216851 -0.216851  ...   \n",
       "...                   ...       ...       ...       ...       ...  ...   \n",
       "TCGA-NJ-A55O-01 -0.181073 -0.132801 -0.180853 -0.181073 -0.181073  ...   \n",
       "TCGA-NJ-A55R-01 -0.268213 -0.161691 -0.268006 -0.268213 -0.268213  ...   \n",
       "TCGA-NJ-A7XG-01 -0.113118 -0.075840 -0.113118 -0.113118 -0.113118  ...   \n",
       "TCGA-O1-A52J-01 -0.154371 -0.127972 -0.153927 -0.154371 -0.154371  ...   \n",
       "TCGA-S2-AA1A-01 -0.141034 -0.087896 -0.140942 -0.141034 -0.141034  ...   \n",
       "\n",
       "Entrez_Gene_Id   American Joint Committee on Cancer Metastasis Stage Code  \\\n",
       "Sample ID                                                                   \n",
       "TCGA-05-4244-01                                                  1          \n",
       "TCGA-05-4249-01                                                  2          \n",
       "TCGA-05-4250-01                                                  2          \n",
       "TCGA-05-4382-01                                                  2          \n",
       "TCGA-05-4384-01                                                  2          \n",
       "...                                                            ...          \n",
       "TCGA-NJ-A55O-01                                                  2          \n",
       "TCGA-NJ-A55R-01                                                  3          \n",
       "TCGA-NJ-A7XG-01                                                  2          \n",
       "TCGA-O1-A52J-01                                                  3          \n",
       "TCGA-S2-AA1A-01                                                  2          \n",
       "\n",
       "Entrez_Gene_Id   Neoplasm Disease Lymph Node Stage American Joint Committee on Cancer Code  \\\n",
       "Sample ID                                                                                    \n",
       "TCGA-05-4244-01                                                  1                           \n",
       "TCGA-05-4249-01                                                  2                           \n",
       "TCGA-05-4250-01                                                  3                           \n",
       "TCGA-05-4382-01                                                  2                           \n",
       "TCGA-05-4384-01                                                  1                           \n",
       "...                                                            ...                           \n",
       "TCGA-NJ-A55O-01                                                  3                           \n",
       "TCGA-NJ-A55R-01                                                  2                           \n",
       "TCGA-NJ-A7XG-01                                                  3                           \n",
       "TCGA-O1-A52J-01                                                  2                           \n",
       "TCGA-S2-AA1A-01                                                  2                           \n",
       "\n",
       "Entrez_Gene_Id   American Joint Committee on Cancer Tumor Stage Code  \\\n",
       "Sample ID                                                              \n",
       "TCGA-05-4244-01                                                  1     \n",
       "TCGA-05-4249-01                                                  1     \n",
       "TCGA-05-4250-01                                                  2     \n",
       "TCGA-05-4382-01                                                  1     \n",
       "TCGA-05-4384-01                                                  1     \n",
       "...                                                            ...     \n",
       "TCGA-NJ-A55O-01                                                  6     \n",
       "TCGA-NJ-A55R-01                                                  6     \n",
       "TCGA-NJ-A7XG-01                                                  4     \n",
       "TCGA-O1-A52J-01                                                  3     \n",
       "TCGA-S2-AA1A-01                                                  6     \n",
       "\n",
       "Entrez_Gene_Id   Prior Cancer Diagnosis Occurence  ICD-10 Classification  \\\n",
       "Sample ID                                                                  \n",
       "TCGA-05-4244-01                                 1                      1   \n",
       "TCGA-05-4249-01                                 1                      1   \n",
       "TCGA-05-4250-01                                 1                      1   \n",
       "TCGA-05-4382-01                                 2                      2   \n",
       "TCGA-05-4384-01                                 2                      1   \n",
       "...                                           ...                    ...   \n",
       "TCGA-NJ-A55O-01                                 1                      2   \n",
       "TCGA-NJ-A55R-01                                 1                      2   \n",
       "TCGA-NJ-A7XG-01                                 1                      2   \n",
       "TCGA-O1-A52J-01                                 1                      1   \n",
       "TCGA-S2-AA1A-01                                 1                      2   \n",
       "\n",
       "Entrez_Gene_Id   Overall Survival (Months)  Patient Primary Tumor Site  \\\n",
       "Sample ID                                                                \n",
       "TCGA-05-4244-01                       0.00                           1   \n",
       "TCGA-05-4249-01                      50.03                           1   \n",
       "TCGA-05-4250-01                       3.98                           1   \n",
       "TCGA-05-4382-01                      19.94                           2   \n",
       "TCGA-05-4384-01                      13.99                           1   \n",
       "...                                    ...                         ...   \n",
       "TCGA-NJ-A55O-01                       0.43                           3   \n",
       "TCGA-NJ-A55R-01                      19.81                           2   \n",
       "TCGA-NJ-A7XG-01                      20.27                           2   \n",
       "TCGA-O1-A52J-01                      59.07                           5   \n",
       "TCGA-S2-AA1A-01                      16.85                           3   \n",
       "\n",
       "Entrez_Gene_Id   Tissue Source Site  \\\n",
       "Sample ID                             \n",
       "TCGA-05-4244-01                   1   \n",
       "TCGA-05-4249-01                   1   \n",
       "TCGA-05-4250-01                   1   \n",
       "TCGA-05-4382-01                   1   \n",
       "TCGA-05-4384-01                   1   \n",
       "...                             ...   \n",
       "TCGA-NJ-A55O-01                  29   \n",
       "TCGA-NJ-A55R-01                  29   \n",
       "TCGA-NJ-A7XG-01                  29   \n",
       "TCGA-O1-A52J-01                  30   \n",
       "TCGA-S2-AA1A-01                  31   \n",
       "\n",
       "Entrez_Gene_Id   Neoplasm Disease Stage American Joint Committee on Cancer Code.1  \\\n",
       "Sample ID                                                                           \n",
       "TCGA-05-4244-01                                                  1                  \n",
       "TCGA-05-4249-01                                                  2                  \n",
       "TCGA-05-4250-01                                                  3                  \n",
       "TCGA-05-4382-01                                                  2                  \n",
       "TCGA-05-4384-01                                                  3                  \n",
       "...                                                            ...                  \n",
       "TCGA-NJ-A55O-01                                                  7                  \n",
       "TCGA-NJ-A55R-01                                                  4                  \n",
       "TCGA-NJ-A7XG-01                                                  3                  \n",
       "TCGA-O1-A52J-01                                                  4                  \n",
       "TCGA-S2-AA1A-01                                                  4                  \n",
       "\n",
       "Entrez_Gene_Id   Fraction Genome Altered  \n",
       "Sample ID                                 \n",
       "TCGA-05-4244-01                   0.4565  \n",
       "TCGA-05-4249-01                   0.2221  \n",
       "TCGA-05-4250-01                   0.2362  \n",
       "TCGA-05-4382-01                   0.0854  \n",
       "TCGA-05-4384-01                   0.0661  \n",
       "...                                  ...  \n",
       "TCGA-NJ-A55O-01                   0.0194  \n",
       "TCGA-NJ-A55R-01                   0.0760  \n",
       "TCGA-NJ-A7XG-01                   0.4205  \n",
       "TCGA-O1-A52J-01                   0.5443  \n",
       "TCGA-S2-AA1A-01                   0.0598  \n",
       "\n",
       "[462 rows x 20543 columns]"
      ]
     },
     "execution_count": 16,
     "metadata": {},
     "output_type": "execute_result"
    }
   ],
   "source": [
    "sex = meta_patients.loc[meta_patients[\"Patient Smoking History Category\"].dropna().index,\"Sex\"]\n",
    "sex=sex.replace(\"Male\",1)\n",
    "sex=sex.replace(\"MALE\",1)\n",
    "sex=sex.replace(\"Female\",0)\n",
    "data_scaled_ref_mv=data_scaled.loc[meta_patients[\"Patient Smoking History Category\"].dropna().index,:] \n",
    "data_scaled_ref_mv['Sex']=sex\n",
    "\n",
    "\n",
    "def var_converter(var):\n",
    "    dic={}\n",
    "    c = 0\n",
    "    for i in var.index:\n",
    "        if var[i] not in dic.keys():\n",
    "            dic[var[i]]=dic.get(var[i],c+1)\n",
    "            c+=1\n",
    "            var[i]=c\n",
    "        else:\n",
    "            var[i]=dic[var[i]]\n",
    "            \n",
    "\n",
    "labels_mv = [\"Diagnosis Age\",'American Joint Committee on Cancer Metastasis Stage Code',\n",
    "            'American Joint Committee on Cancer Metastasis Stage Code', \n",
    "            'Neoplasm Disease Lymph Node Stage American Joint Committee on Cancer Code',\n",
    "            'American Joint Committee on Cancer Tumor Stage Code', \n",
    "            'Prior Cancer Diagnosis Occurence','ICD-10 Classification',\"Overall Survival (Months)\", 'Patient Primary Tumor Site',\n",
    "            'Tissue Source Site','Neoplasm Disease Stage American Joint Committee on Cancer Code.1', 'Fraction Genome Altered']\n",
    "            \n",
    "for label in labels_mv:\n",
    "    data_scaled_ref_mv = data_scaled_ref_mv.loc[-meta_patients[label].isna(),:]\n",
    "    label_var = meta_patients.loc[data_scaled_ref_mv.index,label]\n",
    "    if type(meta_patients[label].tolist()[0])==str:\n",
    "        var_converter(label_var)\n",
    "    data_scaled_ref_mv[label]=label_var\n",
    "    \n",
    "data_scaled_ref_mv\n"
   ]
  },
  {
   "cell_type": "code",
   "execution_count": 17,
   "metadata": {},
   "outputs": [],
   "source": [
    "# print(data_scaled_ref)\n",
    "indices_mv = np.random.permutation(data_scaled_ref_mv.index)\n",
    "\n",
    "input_data_mv=data_scaled_ref_mv.values\n",
    "output_data_mv=meta_patients.loc[data_scaled_ref_mv.index,\"Patient Smoking History Category\"].values\n",
    "\n",
    "train_in_mv = data_scaled_ref_mv.loc[indices_mv[:-100]].values\n",
    "train_out_mv = meta_patients.loc[indices_mv[:-100],\"Patient Smoking History Category\"].values\n",
    "\n",
    "test_in_mv  = data_scaled_ref_mv.loc[indices_mv[-100:]].values\n",
    "test_out_mv = meta_patients.loc[indices_mv[-100:],\"Patient Smoking History Category\"].values\n",
    "\n"
   ]
  },
  {
   "cell_type": "code",
   "execution_count": 75,
   "metadata": {},
   "outputs": [
    {
     "data": {
      "text/plain": [
       "{1.0: 68, 2.0: 110, 3.0: 120, 4.0: 160, 5.0: 4}"
      ]
     },
     "execution_count": 75,
     "metadata": {},
     "output_type": "execute_result"
    }
   ],
   "source": [
    "unique, counts = np.unique(output_data_mv, return_counts=True)\n",
    "dict(zip(unique, counts))"
   ]
  },
  {
   "cell_type": "markdown",
   "metadata": {},
   "source": [
    "Since there is a relative discrepancy between the size of the different values it was not sure if the accuracy would be the best metric to evaluate the models, hence other metrics such as recall, precision and f1 were taken into account. Moreover, for the cross validation the scoring metric 'f1_weighted' was used, since it was concluded to be a good metric to assess the model scoring with a multi variable endpoint. This metric takes into account the number of instances of each label though to present a more realistic model score due to one of the labels low frequency."
   ]
  },
  {
   "cell_type": "markdown",
   "metadata": {},
   "source": [
    "### Approach: K Nearest Neighbors Classifier"
   ]
  },
  {
   "cell_type": "code",
   "execution_count": 76,
   "metadata": {
    "scrolled": true
   },
   "outputs": [
    {
     "name": "stdout",
     "output_type": "stream",
     "text": [
      "PECC:  23.0\n",
      "\n",
      " Confusion Matrix \n",
      "[[ 3  6  8  3]\n",
      " [ 5  3  6  9]\n",
      " [ 5  3  5  7]\n",
      " [ 3 15  7 12]]\n",
      "              precision    recall  f1-score   support\n",
      "\n",
      "         1.0       0.19      0.15      0.17        20\n",
      "         2.0       0.11      0.13      0.12        23\n",
      "         3.0       0.19      0.25      0.22        20\n",
      "         4.0       0.39      0.32      0.35        37\n",
      "\n",
      "    accuracy                           0.23       100\n",
      "   macro avg       0.22      0.21      0.21       100\n",
      "weighted avg       0.24      0.23      0.23       100\n",
      "\n",
      "cross validation mean f1 weighted:  0.3229189599067941\n"
     ]
    }
   ],
   "source": [
    "from sklearn.neighbors import KNeighborsClassifier\n",
    "from sklearn.model_selection import cross_val_score\n",
    "from sklearn.model_selection import ShuffleSplit\n",
    "from sklearn.model_selection import LeaveOneOut, KFold\n",
    "\n",
    "#KNeighbors model\n",
    "knn = KNeighborsClassifier()\n",
    "knn.fit(train_in_mv, train_out_mv)\n",
    "prev = knn.predict(test_in_mv)\n",
    "print (\"PECC: \", sum([str(prev[i])==(str(test_out_mv[i])) for i in range(len(prev))])/len(prev) *100)\n",
    "print()\n",
    "print(\" Confusion Matrix \")\n",
    "print(sk.metrics.confusion_matrix(test_out_mv, prev, labels=None, sample_weight=None))\n",
    "print(classification_report(test_out_mv,prev))\n",
    "\n",
    "\n",
    "#model evaluation using the cross validation method\n",
    "scores_cv_knn = cross_val_score(knn, input_data_mv, output_data_mv, cv = KFold(n_splits=4),scoring='f1_weighted')\n",
    "print(\"cross validation mean f1 weighted: \",scores_cv_knn.mean())\n"
   ]
  },
  {
   "cell_type": "markdown",
   "metadata": {},
   "source": [
    "### Ensemble bagging with KNN"
   ]
  },
  {
   "cell_type": "code",
   "execution_count": 77,
   "metadata": {},
   "outputs": [
    {
     "name": "stdout",
     "output_type": "stream",
     "text": [
      "cross validation mean f1 weighted:  0.3496640844341649\n"
     ]
    }
   ],
   "source": [
    "from sklearn.ensemble import BaggingClassifier\n",
    "from sklearn.neighbors import KNeighborsClassifier\n",
    "from sklearn.model_selection import cross_val_score, KFold\n",
    "\n",
    "#ensemble bagging KNeighbors\n",
    "bagged_knn = BaggingClassifier(KNeighborsClassifier(),max_samples=0.8, max_features=0.8)\n",
    "scores_bag = cross_val_score(bagged_knn, input_data_mv, output_data_mv, cv = KFold(n_splits=4),scoring='f1_weighted')\n",
    "\n",
    "print(\"cross validation mean f1 weighted: \",scores_bag.mean())\n"
   ]
  },
  {
   "cell_type": "markdown",
   "metadata": {},
   "source": [
    "### Approach: Decision Tree"
   ]
  },
  {
   "cell_type": "code",
   "execution_count": 78,
   "metadata": {
    "scrolled": false
   },
   "outputs": [
    {
     "name": "stdout",
     "output_type": "stream",
     "text": [
      "PECC:  34.0\n",
      "\n",
      "Confusion Matrix\n",
      "[[ 7  3  6  4  0]\n",
      " [ 3  7  2 11  0]\n",
      " [ 1  3  7  8  1]\n",
      " [ 4 15  5 13  0]\n",
      " [ 0  0  0  0  0]]\n",
      "              precision    recall  f1-score   support\n",
      "\n",
      "         1.0       0.47      0.35      0.40        20\n",
      "         2.0       0.25      0.30      0.27        23\n",
      "         3.0       0.35      0.35      0.35        20\n",
      "         4.0       0.36      0.35      0.36        37\n",
      "         5.0       0.00      0.00      0.00         0\n",
      "\n",
      "    accuracy                           0.34       100\n",
      "   macro avg       0.29      0.27      0.28       100\n",
      "weighted avg       0.35      0.34      0.34       100\n",
      "\n"
     ]
    },
    {
     "name": "stderr",
     "output_type": "stream",
     "text": [
      "C:\\Users\\Joao\\Anaconda3\\envs\\tf_gpu\\lib\\site-packages\\sklearn\\metrics\\_classification.py:1272: UndefinedMetricWarning: Recall and F-score are ill-defined and being set to 0.0 in labels with no true samples. Use `zero_division` parameter to control this behavior.\n",
      "  _warn_prf(average, modifier, msg_start, len(result))\n"
     ]
    },
    {
     "name": "stdout",
     "output_type": "stream",
     "text": [
      "cross validation mean f1 weighted:  0.2805438302817769\n"
     ]
    }
   ],
   "source": [
    "from sklearn import tree\n",
    "\n",
    "#Decision tree model\n",
    "tree_model = tree.DecisionTreeClassifier()\n",
    "tree_model = tree_model.fit(train_in_mv, train_out_mv)\n",
    "prev = tree_model.predict(test_in_mv)\n",
    "\n",
    "print (\"PECC: \", sum([str(prev[i])==(str(test_out_mv[i])) for i in range(len(prev))])/len(prev) *100)\n",
    "print()\n",
    "print(\"Confusion Matrix\")\n",
    "print(sk.metrics.confusion_matrix(test_out_mv, prev, labels=None, sample_weight=None))\n",
    "print(classification_report(test_out_mv,prev))\n",
    "\n",
    "#model evaluation using the cross validation method\n",
    "scores_cv_tree = cross_val_score(tree_model, input_data_mv, output_data_mv, cv = KFold(n_splits=4),scoring='f1_weighted')\n",
    "print(\"cross validation mean f1 weighted: \",scores_cv_tree.mean())\n"
   ]
  },
  {
   "cell_type": "markdown",
   "metadata": {},
   "source": [
    "### Ensemble Bagging with Decision Tree"
   ]
  },
  {
   "cell_type": "code",
   "execution_count": 79,
   "metadata": {},
   "outputs": [
    {
     "name": "stdout",
     "output_type": "stream",
     "text": [
      "cross validation mean f1 weighted:  0.26981050227594694\n"
     ]
    }
   ],
   "source": [
    "from sklearn.ensemble import BaggingClassifier\n",
    "from sklearn import tree\n",
    "from sklearn.model_selection import cross_val_score\n",
    "\n",
    "#ensemble bagging Decision Tree\n",
    "\n",
    "bagged_dt = BaggingClassifier(tree.DecisionTreeClassifier(), max_samples=0.8, max_features=0.8)\n",
    "scores_bag_dt = cross_val_score(bagged_dt, input_data_mv, output_data_mv, cv = KFold(n_splits=4), scoring='f1_weighted')\n",
    "\n",
    "print(\"cross validation mean f1 weighted: \", scores_bag_dt.mean())"
   ]
  },
  {
   "cell_type": "markdown",
   "metadata": {},
   "source": [
    "### Approach: Suport Vector Machine (SVM)"
   ]
  },
  {
   "cell_type": "code",
   "execution_count": 80,
   "metadata": {},
   "outputs": [
    {
     "name": "stdout",
     "output_type": "stream",
     "text": [
      "0.39\n",
      "cross validation mean f1 weighted:  0.2722625070269461\n"
     ]
    }
   ],
   "source": [
    "from sklearn import svm\n",
    "\n",
    "svm_model = svm.SVC(gamma = \"scale\")\n",
    "svm_model.fit(train_in_mv, train_out_mv)\n",
    "print(svm_model.score(test_in_mv, test_out_mv))\n",
    "\n",
    "scores_cv_svm=cross_val_score(svm_model, input_data_mv, y = output_data_mv, cv = KFold(n_splits=4),scoring='f1_weighted')\n",
    "print(\"cross validation mean f1 weighted: \",scores_cv_svm.mean())"
   ]
  },
  {
   "cell_type": "markdown",
   "metadata": {},
   "source": [
    "### Approach: Gaussian Model (Naive-Bayes)"
   ]
  },
  {
   "cell_type": "code",
   "execution_count": 81,
   "metadata": {},
   "outputs": [
    {
     "name": "stdout",
     "output_type": "stream",
     "text": [
      "GaussianNB(priors=None, var_smoothing=1e-09)\n",
      "PECC:  30.0\n",
      "\n",
      "Confusion Matrix\n",
      "[[10  5  4  1]\n",
      " [ 5  7  5  6]\n",
      " [ 6  2  9  3]\n",
      " [10 14  9  4]]\n",
      "              precision    recall  f1-score   support\n",
      "\n",
      "         1.0       0.32      0.50      0.39        20\n",
      "         2.0       0.25      0.30      0.27        23\n",
      "         3.0       0.33      0.45      0.38        20\n",
      "         4.0       0.29      0.11      0.16        37\n",
      "\n",
      "    accuracy                           0.30       100\n",
      "   macro avg       0.30      0.34      0.30       100\n",
      "weighted avg       0.29      0.30      0.28       100\n",
      "\n",
      "cross validation mean f1 weighted:  0.2685804867337777\n"
     ]
    }
   ],
   "source": [
    "from sklearn.naive_bayes import GaussianNB\n",
    "\n",
    "#GaussianNB model\n",
    "gnb_model = GaussianNB()\n",
    "gnb_model = gnb_model.fit(train_in_mv, train_out_mv)\n",
    "prev = gnb_model.predict(test_in_mv)\n",
    "print(gnb_model)\n",
    "\n",
    "print (\"PECC: \", sum([str(prev[i])==(str(test_out_mv[i])) for i in range(len(prev))])/len(prev) *100)\n",
    "print()\n",
    "print(\"Confusion Matrix\")\n",
    "print(sklearn.metrics.confusion_matrix(test_out_mv, prev, labels=None, sample_weight=None, normalize=None))\n",
    "print(classification_report(test_out_mv,prev))\n",
    "\n",
    "#model evaluation using the cross validation method\n",
    "scores_cv_gnb=cross_val_score(gnb_model, input_data_mv, y = output_data_mv, cv = KFold(n_splits=4),scoring='f1_weighted')\n",
    "print(\"cross validation mean f1 weighted: \",scores_cv_gnb.mean())\n",
    "\n",
    "\n"
   ]
  },
  {
   "cell_type": "markdown",
   "metadata": {},
   "source": [
    "### Approach: Logistic Regression"
   ]
  },
  {
   "cell_type": "code",
   "execution_count": 82,
   "metadata": {},
   "outputs": [
    {
     "name": "stdout",
     "output_type": "stream",
     "text": [
      "PECC:  44.0\n",
      "\n",
      "Confusion Matrix\n",
      "[[ 7  1  5  7]\n",
      " [ 1  9  5  8]\n",
      " [ 6  1  8  5]\n",
      " [ 2 11  4 20]]\n",
      "              precision    recall  f1-score   support\n",
      "\n",
      "         1.0       0.44      0.35      0.39        20\n",
      "         2.0       0.41      0.39      0.40        23\n",
      "         3.0       0.36      0.40      0.38        20\n",
      "         4.0       0.50      0.54      0.52        37\n",
      "\n",
      "    accuracy                           0.44       100\n",
      "   macro avg       0.43      0.42      0.42       100\n",
      "weighted avg       0.44      0.44      0.44       100\n",
      "\n",
      "cross validation mean f1 weighted:  0.36799764326226064\n"
     ]
    }
   ],
   "source": [
    "from sklearn import linear_model\n",
    "\n",
    "#logistic regression model\n",
    "logistic = linear_model.LogisticRegression(solver='newton-cg', multi_class='multinomial', random_state=2)\n",
    "logistic = logistic.fit(train_in_mv, train_out_mv)\n",
    "prev = logistic.predict(test_in_mv)\n",
    "print (\"PECC: \", sum([str(prev[i])==(str(test_out_mv[i])) for i in range(len(prev))])/len(prev) *100)\n",
    "print()\n",
    "print(\"Confusion Matrix\")\n",
    "print(sklearn.metrics.confusion_matrix(test_out_mv, prev, labels=None, sample_weight=None, normalize=None))\n",
    "print(classification_report(test_out_mv,prev))\n",
    "\n",
    "#model evaluation using the cross validation method\n",
    "scores_cv_logistic=cross_val_score(logistic, input_data_mv, y = output_data_mv, cv = KFold(n_splits=4),scoring='f1_weighted')\n",
    "print(\"cross validation mean f1 weighted: \",scores_cv_logistic.mean())\n",
    "\n"
   ]
  },
  {
   "cell_type": "markdown",
   "metadata": {},
   "source": [
    "### Ada Boost Classifier"
   ]
  },
  {
   "cell_type": "code",
   "execution_count": 19,
   "metadata": {},
   "outputs": [
    {
     "name": "stderr",
     "output_type": "stream",
     "text": [
      "C:\\Users\\Utilizador\\Anaconda3\\lib\\site-packages\\sklearn\\metrics\\classification.py:1137: UndefinedMetricWarning: F-score is ill-defined and being set to 0.0 in labels with no true samples.\n",
      "  'recall', 'true', average, warn_for)\n",
      "C:\\Users\\Utilizador\\Anaconda3\\lib\\site-packages\\sklearn\\metrics\\classification.py:1135: UndefinedMetricWarning: F-score is ill-defined and being set to 0.0 in labels with no predicted samples.\n",
      "  'precision', 'predicted', average, warn_for)\n"
     ]
    },
    {
     "name": "stdout",
     "output_type": "stream",
     "text": [
      "cross validation mean f1 weighted:  0.32202980831017886\n"
     ]
    },
    {
     "name": "stderr",
     "output_type": "stream",
     "text": [
      "C:\\Users\\Utilizador\\Anaconda3\\lib\\site-packages\\sklearn\\metrics\\classification.py:1135: UndefinedMetricWarning: F-score is ill-defined and being set to 0.0 in labels with no predicted samples.\n",
      "  'precision', 'predicted', average, warn_for)\n"
     ]
    }
   ],
   "source": [
    "from sklearn.ensemble import AdaBoostClassifier\n",
    "from sklearn.model_selection import cross_val_score, KFold\n",
    "\n",
    "#ensemble boosting \n",
    "\n",
    "ada_tree = AdaBoostClassifier(n_estimators=100)\n",
    "\n",
    "scores_ada = cross_val_score(ada_tree, train_in_mv, train_out_mv, cv =KFold(n_splits=4),scoring='f1_weighted')\n",
    "\n",
    "print (\"cross validation mean f1 weighted: \", scores_ada.mean())\n"
   ]
  },
  {
   "cell_type": "markdown",
   "metadata": {},
   "source": [
    "### Random forest"
   ]
  },
  {
   "cell_type": "code",
   "execution_count": 83,
   "metadata": {},
   "outputs": [
    {
     "name": "stdout",
     "output_type": "stream",
     "text": [
      "cross validation mean f1 weighted:  0.3189421573989635\n"
     ]
    }
   ],
   "source": [
    "from sklearn.ensemble import RandomForestClassifier\n",
    "from sklearn.model_selection import cross_val_score\n",
    "\n",
    "#ensemble random forest\n",
    "\n",
    "rf_model = RandomForestClassifier(n_estimators=100)\n",
    "scores_rf = cross_val_score(rf_model, input_data_mv, output_data_mv, cv = KFold(n_splits=4),scoring='f1_weighted')\n",
    "\n",
    "print (\"cross validation mean f1 weighted: \", scores_rf.mean())\n"
   ]
  },
  {
   "cell_type": "markdown",
   "metadata": {},
   "source": [
    "### Feature Selection"
   ]
  },
  {
   "cell_type": "markdown",
   "metadata": {},
   "source": [
    "For feature selection the model with best results was used"
   ]
  },
  {
   "cell_type": "code",
   "execution_count": 21,
   "metadata": {},
   "outputs": [
    {
     "name": "stdout",
     "output_type": "stream",
     "text": [
      "shape of input_data after feature selection:  (462, 2055)\n"
     ]
    },
    {
     "name": "stderr",
     "output_type": "stream",
     "text": [
      "C:\\Users\\Utilizador\\Anaconda3\\lib\\site-packages\\sklearn\\metrics\\classification.py:1135: UndefinedMetricWarning: F-score is ill-defined and being set to 0.0 in labels with no predicted samples.\n",
      "  'precision', 'predicted', average, warn_for)\n",
      "C:\\Users\\Utilizador\\Anaconda3\\lib\\site-packages\\sklearn\\metrics\\classification.py:1135: UndefinedMetricWarning: F-score is ill-defined and being set to 0.0 in labels with no predicted samples.\n",
      "  'precision', 'predicted', average, warn_for)\n"
     ]
    },
    {
     "name": "stdout",
     "output_type": "stream",
     "text": [
      "cross validation mean f1 weighted before feature selection:  0.36799764326226064\n"
     ]
    },
    {
     "name": "stderr",
     "output_type": "stream",
     "text": [
      "C:\\Users\\Utilizador\\Anaconda3\\lib\\site-packages\\sklearn\\utils\\optimize.py:203: ConvergenceWarning: newton-cg failed to converge. Increase the number of iterations.\n",
      "  \"number of iterations.\", ConvergenceWarning)\n",
      "C:\\Users\\Utilizador\\Anaconda3\\lib\\site-packages\\sklearn\\metrics\\classification.py:1135: UndefinedMetricWarning: F-score is ill-defined and being set to 0.0 in labels with no predicted samples.\n",
      "  'precision', 'predicted', average, warn_for)\n",
      "C:\\Users\\Utilizador\\Anaconda3\\lib\\site-packages\\sklearn\\utils\\optimize.py:203: ConvergenceWarning: newton-cg failed to converge. Increase the number of iterations.\n",
      "  \"number of iterations.\", ConvergenceWarning)\n",
      "C:\\Users\\Utilizador\\Anaconda3\\lib\\site-packages\\sklearn\\metrics\\classification.py:1137: UndefinedMetricWarning: F-score is ill-defined and being set to 0.0 in labels with no true samples.\n",
      "  'recall', 'true', average, warn_for)\n"
     ]
    },
    {
     "name": "stdout",
     "output_type": "stream",
     "text": [
      "cross validation mean f1 weighted after feature selection:  0.4033150670692207\n"
     ]
    },
    {
     "name": "stderr",
     "output_type": "stream",
     "text": [
      "C:\\Users\\Utilizador\\Anaconda3\\lib\\site-packages\\sklearn\\utils\\optimize.py:203: ConvergenceWarning: newton-cg failed to converge. Increase the number of iterations.\n",
      "  \"number of iterations.\", ConvergenceWarning)\n",
      "C:\\Users\\Utilizador\\Anaconda3\\lib\\site-packages\\sklearn\\metrics\\classification.py:1135: UndefinedMetricWarning: F-score is ill-defined and being set to 0.0 in labels with no predicted samples.\n",
      "  'precision', 'predicted', average, warn_for)\n"
     ]
    }
   ],
   "source": [
    "from sklearn.feature_selection import VarianceThreshold\n",
    "from sklearn.model_selection import cross_val_score\n",
    "from sklearn.feature_selection import SelectPercentile\n",
    "from sklearn import linear_model\n",
    "\n",
    "\n",
    "#Select features according to a percentile of the highest scores\n",
    "\n",
    "filt_mv = SelectPercentile().fit_transform(input_data_mv, output_data_mv)\n",
    "print (\"shape of input_data after feature selection: \",filt_mv.shape)\n",
    "\n",
    "logistic = linear_model.LogisticRegression(solver='newton-cg', multi_class='multinomial', random_state=2)\n",
    "scores= cross_val_score(logistic, input_data_mv, output_data_mv, cv= KFold(n_splits=4),scoring='f1_weighted')\n",
    "print (\"cross validation mean f1 weighted before feature selection: \",scores.mean())\n",
    "\n",
    "scores_sp = cross_val_score(logistic, filt_mv, output_data_mv, cv= KFold(n_splits=4),scoring='f1_weighted')\n",
    "print(\"cross validation mean f1 weighted after feature selection: \",scores_sp.mean())"
   ]
  },
  {
   "cell_type": "markdown",
   "metadata": {},
   "source": [
    "### Grid Search"
   ]
  },
  {
   "cell_type": "markdown",
   "metadata": {},
   "source": [
    "For the grid search the model with the best results was used as well as the input data after feature selection"
   ]
  },
  {
   "cell_type": "code",
   "execution_count": 85,
   "metadata": {},
   "outputs": [
    {
     "name": "stderr",
     "output_type": "stream",
     "text": [
      "C:\\Users\\Joao\\Anaconda3\\envs\\tf_gpu\\lib\\site-packages\\sklearn\\model_selection\\_split.py:667: UserWarning: The least populated class in y has only 4 members, which is less than n_splits=5.\n",
      "  % (min_groups, self.n_splits)), UserWarning)\n"
     ]
    },
    {
     "name": "stdout",
     "output_type": "stream",
     "text": [
      "parameters that best optimize the model score:  SVC(C=1, break_ties=False, cache_size=200, class_weight=None, coef0=0.0,\n",
      "    decision_function_shape='ovr', degree=3, gamma=0.001, kernel='rbf',\n",
      "    max_iter=-1, probability=False, random_state=None, shrinking=True,\n",
      "    tol=0.001, verbose=False)\n"
     ]
    },
    {
     "name": "stderr",
     "output_type": "stream",
     "text": [
      "C:\\Users\\Joao\\Anaconda3\\envs\\tf_gpu\\lib\\site-packages\\sklearn\\model_selection\\_split.py:667: UserWarning: The least populated class in y has only 2 members, which is less than n_splits=5.\n",
      "  % (min_groups, self.n_splits)), UserWarning)\n",
      "C:\\Users\\Joao\\Anaconda3\\envs\\tf_gpu\\lib\\site-packages\\sklearn\\model_selection\\_split.py:667: UserWarning: The least populated class in y has only 4 members, which is less than n_splits=5.\n",
      "  % (min_groups, self.n_splits)), UserWarning)\n",
      "C:\\Users\\Joao\\Anaconda3\\envs\\tf_gpu\\lib\\site-packages\\sklearn\\model_selection\\_split.py:667: UserWarning: The least populated class in y has only 4 members, which is less than n_splits=5.\n",
      "  % (min_groups, self.n_splits)), UserWarning)\n",
      "C:\\Users\\Joao\\Anaconda3\\envs\\tf_gpu\\lib\\site-packages\\sklearn\\model_selection\\_split.py:667: UserWarning: The least populated class in y has only 2 members, which is less than n_splits=5.\n",
      "  % (min_groups, self.n_splits)), UserWarning)\n"
     ]
    },
    {
     "name": "stdout",
     "output_type": "stream",
     "text": [
      "cross validation mean f1 weighted:  0.34062557180288466\n"
     ]
    }
   ],
   "source": [
    "from sklearn import svm\n",
    "from sklearn.model_selection import cross_val_score, GridSearchCV\n",
    "\n",
    "#grid search\n",
    "\n",
    "parameters = {'kernel':('linear', 'rbf'), 'C':[1, 3, 10, 100],'gamma':[0.01, 0.001]}\n",
    "svm_model_d = svm.SVC()\n",
    "opt_model_d = GridSearchCV(svm_model_d, parameters)\n",
    "opt_model_d.fit(filt_mv, output_data_mv)\n",
    "print (\"parameters that best optimize the model score: \", opt_model_d.best_estimator_)\n",
    "\n",
    "scores_gs = cross_val_score(opt_model_d, filt_mv, output_data_mv, cv = KFold(n_splits=4),scoring='f1_weighted')\n",
    "print (\"cross validation mean f1 weighted: \", scores_gs.mean())"
   ]
  },
  {
   "cell_type": "markdown",
   "metadata": {},
   "source": [
    "## Accuracy for each model for each endpoint\n",
    "\n",
    "![](accuracy.PNG)"
   ]
  },
  {
   "cell_type": "markdown",
   "metadata": {},
   "source": [
    "## Task 7 - Deep Learning "
   ]
  },
  {
   "cell_type": "markdown",
   "metadata": {},
   "source": [
    "A deep neural network was built for each endpoint and further cross validation was performed. Values such as number of epochs and folds as well as density of layers, activation and optimizer methods were verified in order to produce the best possible model score."
   ]
  },
  {
   "cell_type": "markdown",
   "metadata": {},
   "source": [
    "### Fraction Genome Altered"
   ]
  },
  {
   "cell_type": "code",
   "execution_count": 100,
   "metadata": {},
   "outputs": [
    {
     "name": "stdout",
     "output_type": "stream",
     "text": [
      "Epoch 1/25\n",
      "362/362 [==============================] - 12s 33ms/step - loss: 1022.4541 - mae: 9.4245\n",
      "Epoch 2/25\n",
      "362/362 [==============================] - 7s 20ms/step - loss: 2.2956 - mae: 1.1819\n",
      "Epoch 3/25\n",
      "362/362 [==============================] - 7s 19ms/step - loss: 4.9272 - mae: 1.8712\n",
      "Epoch 4/25\n",
      "362/362 [==============================] - 7s 19ms/step - loss: 5.2231 - mae: 1.7668\n",
      "Epoch 5/25\n",
      "362/362 [==============================] - 7s 18ms/step - loss: 0.7843 - mae: 0.5809\n",
      "Epoch 6/25\n",
      "362/362 [==============================] - 7s 20ms/step - loss: 0.8161 - mae: 0.5409\n",
      "Epoch 7/25\n",
      "362/362 [==============================] - 7s 19ms/step - loss: 2.7075 - mae: 1.1642\n",
      "Epoch 8/25\n",
      "362/362 [==============================] - 7s 19ms/step - loss: 0.6277 - mae: 0.5106\n",
      "Epoch 9/25\n",
      "362/362 [==============================] - 7s 20ms/step - loss: 0.4107 - mae: 0.3893\n",
      "Epoch 10/25\n",
      "362/362 [==============================] - 7s 19ms/step - loss: 0.4205 - mae: 0.3974\n",
      "Epoch 11/25\n",
      "362/362 [==============================] - 8s 21ms/step - loss: 0.1155 - mae: 0.2484\n",
      "Epoch 12/25\n",
      "362/362 [==============================] - 7s 20ms/step - loss: 0.0695 - mae: 0.2033\n",
      "Epoch 13/25\n",
      "362/362 [==============================] - 9s 26ms/step - loss: 0.1940 - mae: 0.2767\n",
      "Epoch 14/25\n",
      "362/362 [==============================] - 7s 19ms/step - loss: 0.0370 - mae: 0.1532\n",
      "Epoch 15/25\n",
      "362/362 [==============================] - 7s 20ms/step - loss: 0.0615 - mae: 0.1866\n",
      "Epoch 16/25\n",
      "362/362 [==============================] - 6s 18ms/step - loss: 0.0615 - mae: 0.1777\n",
      "Epoch 17/25\n",
      "362/362 [==============================] - 7s 19ms/step - loss: 0.0350 - mae: 0.1493\n",
      "Epoch 18/25\n",
      "362/362 [==============================] - 7s 20ms/step - loss: 0.0343 - mae: 0.1520\n",
      "Epoch 19/25\n",
      "362/362 [==============================] - 7s 19ms/step - loss: 0.0339 - mae: 0.1513\n",
      "Epoch 20/25\n",
      "362/362 [==============================] - 7s 19ms/step - loss: 0.0365 - mae: 0.1541\n",
      "Epoch 21/25\n",
      "362/362 [==============================] - 7s 19ms/step - loss: 0.0977 - mae: 0.1978\n",
      "Epoch 22/25\n",
      "362/362 [==============================] - 7s 20ms/step - loss: 0.0342 - mae: 0.1509\n",
      "Epoch 23/25\n",
      "362/362 [==============================] - 7s 20ms/step - loss: 0.0346 - mae: 0.1537\n",
      "Epoch 24/25\n",
      "362/362 [==============================] - 9s 25ms/step - loss: 0.0336 - mae: 0.1500\n",
      "Epoch 25/25\n",
      "362/362 [==============================] - 7s 21ms/step - loss: 0.0339 - mae: 0.1507\n",
      "100/100 [==============================] - 1s 15ms/step\n",
      "0.04444208651781082 0.16831082105636597\n"
     ]
    }
   ],
   "source": [
    "from keras import models\n",
    "from keras import layers\n",
    "\n",
    "# train_in_lin = train_in_lin.astype(\"float32\")\n",
    "# test_in_lin = test_in_lin.astype(\"float32\")\n",
    "\n",
    "def build_model():\n",
    "    network = models.Sequential()\n",
    "    network.add(layers.Dense(512, activation='relu', input_shape=(train_in_lin.shape[1],)))\n",
    "    network.add(layers.Dense(400, activation='relu'))\n",
    "    network.add(layers.Dense(200, activation='relu'))\n",
    "    network.add(layers.Dense(1))\n",
    "    network.compile(optimizer='rmsprop', loss='mse', metrics=['mae'])\n",
    "    return network\n",
    "\n",
    "network = build_model()\n",
    "network.fit(train_in_lin, train_out_lin, epochs=25, batch_size=20)\n",
    "test_mse_score, test_mae_score = network.evaluate(test_in_lin, test_out_lin)\n",
    "print(test_mse_score, test_mae_score)"
   ]
  },
  {
   "cell_type": "code",
   "execution_count": 103,
   "metadata": {
    "scrolled": true
   },
   "outputs": [
    {
     "name": "stdout",
     "output_type": "stream",
     "text": [
      "processing fold # 0\n",
      "processing fold # 1\n",
      "processing fold # 2\n",
      "processing fold # 3\n",
      "All scores:  [0.20633772015571594, 0.15095087885856628, 0.14071445167064667, 0.16522647440433502]\n",
      "Mean of all scores:  0.16580738127231598\n"
     ]
    }
   ],
   "source": [
    "import numpy as np\n",
    "k = 4\n",
    "num_val_samples = len(train_in_lin) // k\n",
    "num_epochs = 25\n",
    "all_scores = []\n",
    "for i in range(k):\n",
    "    print('processing fold #', i)\n",
    "    val_data = train_in_lin[i*num_val_samples: (i+1)*num_val_samples]\n",
    "    val_targets = train_out_lin[i*num_val_samples: (i+1)*num_val_samples]\n",
    "    partial_train_data = np.concatenate( [train_in_lin[:i*num_val_samples],\n",
    "    train_in_lin[(i+1)*num_val_samples:]], axis=0)\n",
    "    partial_train_targets = np.concatenate( [train_out_lin[:i*num_val_samples],\n",
    "    train_out_lin[(i+1)*num_val_samples:]], axis=0)\n",
    "    model = build_model()\n",
    "    model.fit(partial_train_data, partial_train_targets, epochs=num_epochs, batch_size=20,verbose=0)\n",
    "    val_loss, val_mae = model.evaluate(val_data, val_targets, verbose=0)\n",
    "    all_scores.append(val_mae)\n",
    "print(\"All scores: \",all_scores)\n",
    "print(\"Mean of all scores: \",np.mean(all_scores))"
   ]
  },
  {
   "cell_type": "markdown",
   "metadata": {},
   "source": [
    "### Disease Free Status"
   ]
  },
  {
   "cell_type": "code",
   "execution_count": 6,
   "metadata": {},
   "outputs": [
    {
     "name": "stderr",
     "output_type": "stream",
     "text": [
      "Using TensorFlow backend.\n"
     ]
    },
    {
     "name": "stdout",
     "output_type": "stream",
     "text": [
      "Epoch 1/25\n",
      "341/341 [==============================] - 6s 17ms/step - loss: 4.6083 - accuracy: 0.5982\n",
      "Epoch 2/25\n",
      "341/341 [==============================] - 5s 16ms/step - loss: 0.6940 - accuracy: 0.5982\n",
      "Epoch 3/25\n",
      "341/341 [==============================] - 6s 16ms/step - loss: 0.6929 - accuracy: 0.5982\n",
      "Epoch 4/25\n",
      "341/341 [==============================] - 6s 16ms/step - loss: 0.7684 - accuracy: 0.5924\n",
      "Epoch 5/25\n",
      "341/341 [==============================] - 5s 16ms/step - loss: 0.6795 - accuracy: 0.5982\n",
      "Epoch 6/25\n",
      "341/341 [==============================] - 6s 16ms/step - loss: 0.6753 - accuracy: 0.5982\n",
      "Epoch 7/25\n",
      "341/341 [==============================] - 5s 16ms/step - loss: 0.7346 - accuracy: 0.5865\n",
      "Epoch 8/25\n",
      "341/341 [==============================] - 5s 16ms/step - loss: 0.6831 - accuracy: 0.5982\n",
      "Epoch 9/25\n",
      "341/341 [==============================] - 6s 17ms/step - loss: 0.6738 - accuracy: 0.5982\n",
      "Epoch 10/25\n",
      "341/341 [==============================] - 5s 16ms/step - loss: 0.6907 - accuracy: 0.5982\n",
      "Epoch 11/25\n",
      "341/341 [==============================] - 5s 16ms/step - loss: 1.1905 - accuracy: 0.5982\n",
      "Epoch 12/25\n",
      "341/341 [==============================] - 6s 17ms/step - loss: 0.6819 - accuracy: 0.5982\n",
      "Epoch 13/25\n",
      "341/341 [==============================] - 6s 17ms/step - loss: 0.7225 - accuracy: 0.5982\n",
      "Epoch 14/25\n",
      "341/341 [==============================] - 6s 17ms/step - loss: 0.7031 - accuracy: 0.5953\n",
      "Epoch 15/25\n",
      "341/341 [==============================] - 6s 17ms/step - loss: 0.6370 - accuracy: 0.5982\n",
      "Epoch 16/25\n",
      "341/341 [==============================] - 6s 16ms/step - loss: 0.6589 - accuracy: 0.5982\n",
      "Epoch 17/25\n",
      "341/341 [==============================] - 5s 16ms/step - loss: 0.6427 - accuracy: 0.5982\n",
      "Epoch 18/25\n",
      "341/341 [==============================] - 6s 17ms/step - loss: 0.6548 - accuracy: 0.6100\n",
      "Epoch 19/25\n",
      "341/341 [==============================] - 6s 16ms/step - loss: 0.6116 - accuracy: 0.6422\n",
      "Epoch 20/25\n",
      "341/341 [==============================] - 6s 16ms/step - loss: 0.7110 - accuracy: 0.6510\n",
      "Epoch 21/25\n",
      "341/341 [==============================] - 6s 18ms/step - loss: 0.6009 - accuracy: 0.6422\n",
      "Epoch 22/25\n",
      "341/341 [==============================] - 6s 17ms/step - loss: 0.5866 - accuracy: 0.6657\n",
      "Epoch 23/25\n",
      "341/341 [==============================] - 6s 17ms/step - loss: 0.6420 - accuracy: 0.6862\n",
      "Epoch 24/25\n",
      "341/341 [==============================] - 6s 17ms/step - loss: 0.5682 - accuracy: 0.6833\n",
      "Epoch 25/25\n",
      "341/341 [==============================] - 6s 17ms/step - loss: 0.5955 - accuracy: 0.6716\n",
      "50/50 [==============================] - 0s 3ms/step\n",
      "0.7025949573516845 0.47999998927116394\n"
     ]
    }
   ],
   "source": [
    "from keras import models\n",
    "from keras import layers\n",
    "\n",
    "\n",
    "train_in_bin = train_in_bin.astype(\"float32\")\n",
    "test_in_bin = test_in_bin.astype(\"float32\")\n",
    "\n",
    "def build_model():\n",
    "    network = models.Sequential()\n",
    "    network.add(layers.Dense(512, activation='relu', input_shape=(train_in_bin.shape[1],)))\n",
    "    network.add(layers.Dense(50, activation='relu'))\n",
    "    network.add(layers.Dense(1, activation=\"sigmoid\"))\n",
    "    network.compile(optimizer='rmsprop', loss='binary_crossentropy', metrics=['accuracy'])\n",
    "    return network\n",
    "\n",
    "network = build_model()\n",
    "network.fit(train_in_bin, train_out_bin, epochs=25, batch_size=20)\n",
    "test_loss, test_acc = network.evaluate(test_in_bin, test_out_bin)\n",
    "print(test_loss, test_acc)\n"
   ]
  },
  {
   "cell_type": "code",
   "execution_count": 8,
   "metadata": {},
   "outputs": [
    {
     "name": "stdout",
     "output_type": "stream",
     "text": [
      "processing fold # 0\n",
      "processing fold # 1\n",
      "processing fold # 2\n",
      "processing fold # 3\n",
      "All scores:  [0.5176470875740051, 0.4117647111415863, 0.5058823823928833, 0.6235294342041016]\n",
      "Mean of all scores:  0.5147059038281441\n"
     ]
    }
   ],
   "source": [
    "import numpy as np\n",
    "k = 4\n",
    "num_val_samples = len(train_in_bin) // k\n",
    "num_epochs = 25\n",
    "all_scores = []\n",
    "for i in range(k):\n",
    "    print('processing fold #', i)\n",
    "    val_data = train_in_bin[i*num_val_samples: (i+1)*num_val_samples]\n",
    "    val_targets = train_out_bin[i*num_val_samples: (i+1)*num_val_samples]\n",
    "    partial_train_data = np.concatenate( [train_in_bin[:i*num_val_samples],\n",
    "    train_in_bin[(i+1)*num_val_samples:]], axis=0)\n",
    "    partial_train_targets = np.concatenate( [train_out_bin[:i*num_val_samples],\n",
    "    train_out_bin[(i+1)*num_val_samples:]], axis=0)\n",
    "    model = build_model()\n",
    "    model.fit(partial_train_data, partial_train_targets, epochs=num_epochs, batch_size=20,verbose=0)\n",
    "    val_loss, val_acc = model.evaluate(val_data, val_targets, verbose=0)\n",
    "    all_scores.append(val_acc)\n",
    "print(\"All scores: \",all_scores)\n",
    "print(\"Mean of all scores: \",np.mean(all_scores))"
   ]
  },
  {
   "cell_type": "markdown",
   "metadata": {},
   "source": [
    "### Patient's Vital Status"
   ]
  },
  {
   "cell_type": "code",
   "execution_count": 12,
   "metadata": {},
   "outputs": [
    {
     "name": "stdout",
     "output_type": "stream",
     "text": [
      "Epoch 1/25\n",
      "362/362 [==============================] - 7s 20ms/step - loss: 3.5735 - accuracy: 0.5718\n",
      "Epoch 2/25\n",
      "362/362 [==============================] - 6s 18ms/step - loss: 0.6818 - accuracy: 0.5994\n",
      "Epoch 3/25\n",
      "362/362 [==============================] - 7s 19ms/step - loss: 0.6168 - accuracy: 0.6326\n",
      "Epoch 4/25\n",
      "362/362 [==============================] - 7s 19ms/step - loss: 0.6762 - accuracy: 0.6409\n",
      "Epoch 5/25\n",
      "362/362 [==============================] - 6s 17ms/step - loss: 0.6252 - accuracy: 0.6547\n",
      "Epoch 6/25\n",
      "362/362 [==============================] - 6s 18ms/step - loss: 0.6234 - accuracy: 0.6547\n",
      "Epoch 7/25\n",
      "362/362 [==============================] - 7s 18ms/step - loss: 0.7041 - accuracy: 0.6547\n",
      "Epoch 8/25\n",
      "362/362 [==============================] - 7s 19ms/step - loss: 0.5640 - accuracy: 0.7127\n",
      "Epoch 9/25\n",
      "362/362 [==============================] - 7s 19ms/step - loss: 0.6069 - accuracy: 0.7044\n",
      "Epoch 10/25\n",
      "362/362 [==============================] - 6s 17ms/step - loss: 0.5794 - accuracy: 0.7072\n",
      "Epoch 11/25\n",
      "362/362 [==============================] - 7s 18ms/step - loss: 0.6514 - accuracy: 0.6851\n",
      "Epoch 12/25\n",
      "362/362 [==============================] - 9s 26ms/step - loss: 0.6249 - accuracy: 0.7376\n",
      "Epoch 13/25\n",
      "362/362 [==============================] - 8s 23ms/step - loss: 0.5837 - accuracy: 0.7182\n",
      "Epoch 14/25\n",
      "362/362 [==============================] - 8s 22ms/step - loss: 0.5217 - accuracy: 0.7597\n",
      "Epoch 15/25\n",
      "362/362 [==============================] - 9s 24ms/step - loss: 0.5178 - accuracy: 0.7348\n",
      "Epoch 16/25\n",
      "362/362 [==============================] - 8s 22ms/step - loss: 0.5453 - accuracy: 0.7099\n",
      "Epoch 17/25\n",
      "362/362 [==============================] - 8s 22ms/step - loss: 0.5170 - accuracy: 0.7624\n",
      "Epoch 18/25\n",
      "362/362 [==============================] - 7s 19ms/step - loss: 0.5229 - accuracy: 0.7265\n",
      "Epoch 19/25\n",
      "362/362 [==============================] - 7s 18ms/step - loss: 0.5213 - accuracy: 0.7790\n",
      "Epoch 20/25\n",
      "362/362 [==============================] - 7s 19ms/step - loss: 0.4666 - accuracy: 0.8177\n",
      "Epoch 21/25\n",
      "362/362 [==============================] - 8s 23ms/step - loss: 0.4503 - accuracy: 0.7873\n",
      "Epoch 22/25\n",
      "362/362 [==============================] - 7s 19ms/step - loss: 0.4947 - accuracy: 0.7376\n",
      "Epoch 23/25\n",
      "362/362 [==============================] - 7s 19ms/step - loss: 0.4196 - accuracy: 0.8066\n",
      "Epoch 24/25\n",
      "362/362 [==============================] - 6s 17ms/step - loss: 0.3963 - accuracy: 0.8122\n",
      "Epoch 25/25\n",
      "362/362 [==============================] - 6s 17ms/step - loss: 0.4707 - accuracy: 0.7901\n",
      "100/100 [==============================] - 0s 3ms/step\n",
      "1.0437563419342042 0.44999998807907104\n"
     ]
    }
   ],
   "source": [
    "from keras import models\n",
    "from keras import layers\n",
    "from keras.utils import to_categorical\n",
    "\n",
    "\n",
    "\n",
    "train_in = train_in.astype(\"float32\")\n",
    "test_in = test_in.astype(\"float32\")\n",
    "\n",
    "def build_model():\n",
    "    network = models.Sequential()\n",
    "    network.add(layers.Dense(512, activation='relu', input_shape=(train_in.shape[1],)))\n",
    "    network.add(layers.Dense(50, activation='relu'))\n",
    "    network.add(layers.Dense(1, activation=\"sigmoid\"))\n",
    "    network.compile(optimizer='rmsprop', loss='binary_crossentropy', metrics=['accuracy'])\n",
    "    return network\n",
    "network = build_model()\n",
    "network.fit(train_in, train_out, epochs=25, batch_size=20)\n",
    "test_loss, test_acc = network.evaluate(test_in, test_out)\n",
    "print(test_loss, test_acc)\n",
    "\n"
   ]
  },
  {
   "cell_type": "code",
   "execution_count": 14,
   "metadata": {},
   "outputs": [
    {
     "name": "stdout",
     "output_type": "stream",
     "text": [
      "processing fold # 0\n",
      "processing fold # 1\n",
      "processing fold # 2\n",
      "processing fold # 3\n",
      "All scores:  [0.3888888955116272, 0.7222222089767456, 0.6111111044883728, 0.699999988079071]\n",
      "Mean of all scores:  0.6055555492639542\n"
     ]
    }
   ],
   "source": [
    "import numpy as np\n",
    "k = 4\n",
    "num_val_samples = len(train_in) // k\n",
    "num_epochs = 25\n",
    "all_scores = []\n",
    "for i in range(k):\n",
    "    print('processing fold #', i)\n",
    "    val_data = train_in[i*num_val_samples: (i+1)*num_val_samples]\n",
    "    val_targets = train_out[i*num_val_samples: (i+1)*num_val_samples]\n",
    "    partial_train_data = np.concatenate( [train_in[:i*num_val_samples],\n",
    "    train_in[(i+1)*num_val_samples:]], axis=0)\n",
    "    partial_train_targets = np.concatenate( [train_out[:i*num_val_samples],\n",
    "    train_out[(i+1)*num_val_samples:]], axis=0)\n",
    "    model = build_model()\n",
    "    model.fit(partial_train_data, partial_train_targets, epochs=num_epochs, batch_size=20,verbose=0)\n",
    "    val_loss, val_acc = model.evaluate(val_data, val_targets, verbose=0)\n",
    "    all_scores.append(val_acc)\n",
    "print(\"All scores: \",all_scores)\n",
    "print(\"Mean of all scores: \",np.mean(all_scores))"
   ]
  },
  {
   "cell_type": "markdown",
   "metadata": {},
   "source": [
    "### Patient Smoking History Category"
   ]
  },
  {
   "cell_type": "code",
   "execution_count": 18,
   "metadata": {},
   "outputs": [
    {
     "name": "stdout",
     "output_type": "stream",
     "text": [
      "Epoch 1/25\n",
      "362/362 [==============================] - 6s 17ms/step - loss: 7.1041 - accuracy: 0.2762\n",
      "Epoch 2/25\n",
      "362/362 [==============================] - 6s 18ms/step - loss: 1.7820 - accuracy: 0.2376\n",
      "Epoch 3/25\n",
      "362/362 [==============================] - 6s 17ms/step - loss: 1.8037 - accuracy: 0.2541\n",
      "Epoch 4/25\n",
      "362/362 [==============================] - 6s 16ms/step - loss: 1.7670 - accuracy: 0.2459\n",
      "Epoch 5/25\n",
      "362/362 [==============================] - 6s 17ms/step - loss: 1.7546 - accuracy: 0.2459\n",
      "Epoch 6/25\n",
      "362/362 [==============================] - 6s 16ms/step - loss: 1.7450 - accuracy: 0.2597\n",
      "Epoch 7/25\n",
      "362/362 [==============================] - 6s 17ms/step - loss: 1.7354 - accuracy: 0.2597\n",
      "Epoch 8/25\n",
      "362/362 [==============================] - 6s 16ms/step - loss: 1.7261 - accuracy: 0.3425\n",
      "Epoch 9/25\n",
      "362/362 [==============================] - 6s 16ms/step - loss: 1.7173 - accuracy: 0.3425\n",
      "Epoch 10/25\n",
      "362/362 [==============================] - 6s 16ms/step - loss: 1.7086 - accuracy: 0.3425\n",
      "Epoch 11/25\n",
      "362/362 [==============================] - 6s 16ms/step - loss: 1.7004 - accuracy: 0.3425\n",
      "Epoch 12/25\n",
      "362/362 [==============================] - 6s 16ms/step - loss: 1.6918 - accuracy: 0.3425\n",
      "Epoch 13/25\n",
      "362/362 [==============================] - 6s 17ms/step - loss: 1.6834 - accuracy: 0.3425\n",
      "Epoch 14/25\n",
      "362/362 [==============================] - 6s 15ms/step - loss: 1.6751 - accuracy: 0.3425\n",
      "Epoch 15/25\n",
      "362/362 [==============================] - 6s 16ms/step - loss: 1.6673 - accuracy: 0.3425\n",
      "Epoch 16/25\n",
      "362/362 [==============================] - 6s 17ms/step - loss: 1.6595 - accuracy: 0.3425\n",
      "Epoch 17/25\n",
      "362/362 [==============================] - 6s 16ms/step - loss: 1.6521 - accuracy: 0.3425\n",
      "Epoch 18/25\n",
      "362/362 [==============================] - 6s 16ms/step - loss: 1.6451 - accuracy: 0.3425\n",
      "Epoch 19/25\n",
      "362/362 [==============================] - 6s 16ms/step - loss: 1.6383 - accuracy: 0.3425\n",
      "Epoch 20/25\n",
      "362/362 [==============================] - 6s 15ms/step - loss: 1.6315 - accuracy: 0.3425\n",
      "Epoch 21/25\n",
      "362/362 [==============================] - 6s 17ms/step - loss: 1.6251 - accuracy: 0.3425\n",
      "Epoch 22/25\n",
      "362/362 [==============================] - 6s 16ms/step - loss: 1.6184 - accuracy: 0.3425\n",
      "Epoch 23/25\n",
      "362/362 [==============================] - 6s 16ms/step - loss: 1.6119 - accuracy: 0.3425\n",
      "Epoch 24/25\n",
      "362/362 [==============================] - 6s 17ms/step - loss: 1.6054 - accuracy: 0.3425\n",
      "Epoch 25/25\n",
      "362/362 [==============================] - 6s 15ms/step - loss: 1.5995 - accuracy: 0.3425\n",
      "100/100 [==============================] - 0s 1ms/step\n",
      "1.5895542430877685 0.36000001430511475\n"
     ]
    }
   ],
   "source": [
    "from keras import models\n",
    "from keras import layers\n",
    "\n",
    "\n",
    "train_in_mv = train_in_mv.astype(\"float32\")\n",
    "test_in_mv = test_in_mv.astype(\"float32\")\n",
    "\n",
    "def build_model():\n",
    "    network = models.Sequential()\n",
    "    network.add(layers.Dense(512, activation='relu', input_shape=(train_in_mv.shape[1],)))\n",
    "    network.add(layers.Dense(25, activation='relu'))\n",
    "    network.add(layers.Dense(6, activation=\"softmax\"))\n",
    "    network.compile(optimizer='rmsprop', loss='sparse_categorical_crossentropy', metrics=['accuracy'])\n",
    "    return network\n",
    "network = build_model()\n",
    "network.fit(train_in_mv, train_out_mv, epochs=25, batch_size=20)\n",
    "test_loss, test_acc = network.evaluate(test_in_mv, test_out_mv)\n",
    "print(test_loss, test_acc)\n",
    "\n"
   ]
  },
  {
   "cell_type": "code",
   "execution_count": 19,
   "metadata": {},
   "outputs": [
    {
     "name": "stdout",
     "output_type": "stream",
     "text": [
      "processing fold # 0\n",
      "processing fold # 1\n",
      "processing fold # 2\n",
      "processing fold # 3\n",
      "All scores:  [0.3333333432674408, 0.3777777850627899, 0.36666667461395264, 0.2777777910232544]\n",
      "Mean of all scores:  0.33888889849185944\n"
     ]
    }
   ],
   "source": [
    "import numpy as np\n",
    "k = 4\n",
    "num_val_samples = len(train_in_mv) // k\n",
    "num_epochs = 25\n",
    "all_scores = []\n",
    "for i in range(k):\n",
    "    print('processing fold #', i)\n",
    "    val_data = train_in_mv[i*num_val_samples: (i+1)*num_val_samples]\n",
    "    val_targets = train_out_mv[i*num_val_samples: (i+1)*num_val_samples]\n",
    "    partial_train_data = np.concatenate( [train_in_mv[:i*num_val_samples],\n",
    "    train_in_mv[(i+1)*num_val_samples:]], axis=0)\n",
    "    partial_train_targets = np.concatenate( [train_out_mv[:i*num_val_samples],\n",
    "    train_out_mv[(i+1)*num_val_samples:]], axis=0)\n",
    "    model = build_model()\n",
    "    model.fit(partial_train_data, partial_train_targets, epochs=num_epochs, batch_size=20,verbose=0)\n",
    "    val_loss, val_acc = model.evaluate(val_data, val_targets, verbose=0)\n",
    "    all_scores.append(val_acc)\n",
    "print(\"All scores: \",all_scores)\n",
    "print(\"Mean of all scores: \",np.mean(all_scores))"
   ]
  },
  {
   "cell_type": "markdown",
   "metadata": {},
   "source": [
    "### Conclusion - Deep Learning"
   ]
  },
  {
   "cell_type": "markdown",
   "metadata": {},
   "source": [
    "![](ml_dl_comparison.PNG) "
   ]
  },
  {
   "cell_type": "markdown",
   "metadata": {},
   "source": [
    "In the table above can be seen the accuracy values from the best Machine Learning (ML) models along with the accuracy (mean of all scores) calculated in Deep Learning (DL) models. By comparing the values calculated in the two approaches, it is stated that the accuracy for ML models is greater than the ones calculated in DL models for every endpoint. However, when it comes to the \"Fraction Genome Altered\" (linear endpoint), the Mean Absolute Error (MAE) is higher in the DL models. Moreover, the accuracy considered for ML models was not the mean of all scores as in considered in DL.\n",
    "\n",
    "In order to address the low performance of DL models, we suggest the usage of bigger datasets with more samples."
   ]
  },
  {
   "cell_type": "markdown",
   "metadata": {},
   "source": [
    "# References"
   ]
  },
  {
   "cell_type": "markdown",
   "metadata": {},
   "source": [
    "    [1] Cancer Genome Atlas Research Network. (2014). Comprehensive molecular profiling of lung adenocarcinoma. Nature, 511(7511), 543."
   ]
  }
 ],
 "metadata": {
  "kernelspec": {
   "display_name": "Python 3",
   "language": "python",
   "name": "python3"
  },
  "language_info": {
   "codemirror_mode": {
    "name": "ipython",
    "version": 3
   },
   "file_extension": ".py",
   "mimetype": "text/x-python",
   "name": "python",
   "nbconvert_exporter": "python",
   "pygments_lexer": "ipython3",
   "version": "3.7.6"
  }
 },
 "nbformat": 4,
 "nbformat_minor": 2
}
